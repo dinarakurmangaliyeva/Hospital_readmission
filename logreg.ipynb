{
 "cells": [
  {
   "cell_type": "code",
   "execution_count": 1,
   "metadata": {},
   "outputs": [],
   "source": [
    "# Data Processing\n",
    "import pandas as pd\n",
    "import numpy as np\n",
    "from sklearn.preprocessing import StandardScaler\n",
    "# Modelling\n",
    "from sklearn.ensemble import RandomForestClassifier\n",
    "from sklearn.metrics import accuracy_score, confusion_matrix, precision_score, recall_score, ConfusionMatrixDisplay,classification_report,roc_auc_score,f1_score\n",
    "from sklearn.model_selection import RandomizedSearchCV, train_test_split\n",
    "from scipy.stats import randint\n",
    "from sklearn.ensemble import BaggingClassifier\n",
    "from sklearn.metrics import confusion_matrix, ConfusionMatrixDisplay\n",
    "from imblearn.under_sampling import RandomUnderSampler\n",
    "from imblearn.combine import SMOTEENN\n",
    "import collections\n",
    "from collections import Counter\n",
    "from sklearn.metrics import accuracy_score, cohen_kappa_score, f1_score, recall_score, precision_score, confusion_matrix\n",
    "import xgboost as xgb\n",
    "import matplotlib.pyplot as plt\n",
    "\n",
    "from imblearn.under_sampling import RandomUnderSampler\n",
    "\n",
    "\n",
    "import matplotlib.pyplot as plt\n",
    "import seaborn as sns\n",
    "# Tree Visualisation\n",
    "from sklearn.tree import export_graphviz\n",
    "from IPython.display import Image\n",
    "#import graphviz"
   ]
  },
  {
   "cell_type": "markdown",
   "metadata": {},
   "source": [
    "#### Import preprocessed data without missing values, removed outliers, and normalized"
   ]
  },
  {
   "cell_type": "code",
   "execution_count": 2,
   "metadata": {},
   "outputs": [],
   "source": [
    "\n",
    "train = pd.read_csv('data/train_data.csv')\n",
    "test = pd.read_csv('data/test_data.csv')\n"
   ]
  },
  {
   "cell_type": "code",
   "execution_count": 3,
   "metadata": {},
   "outputs": [],
   "source": [
    "# Define the target variable (e.g., 'target') and features (all other columns)\n",
    "X_train = train.drop('readmitted', axis=1)  # Drop the target column for features\n",
    "y_train = train['readmitted']  # Select the target column\n",
    "\n",
    "X_test = test.drop('readmitted', axis=1)  # Same for test set\n",
    "y_test = test['readmitted']"
   ]
  },
  {
   "cell_type": "markdown",
   "metadata": {},
   "source": [
    "#### Standard Bagging classifier for highly imbalanced data\n",
    "\n"
   ]
  },
  {
   "cell_type": "code",
   "execution_count": 4,
   "metadata": {},
   "outputs": [
    {
     "name": "stdout",
     "output_type": "stream",
     "text": [
      "Bagging Classifier - Test Accuracy: 0.88\n",
      "Accuracy is 0.88\n",
      "Precision is 0.28\n",
      "Recall is 0.03\n",
      "F1 score is 0.06\n"
     ]
    }
   ],
   "source": [
    "\n",
    "# Create a bagging classifier \n",
    "bagging_clf = BaggingClassifier()\n",
    "\n",
    "# Train the bagging classifier on the training data\n",
    "bagging_clf.fit(X_train, y_train)\n",
    "\n",
    "# Make predictions on the test set\n",
    "y_pred = bagging_clf.predict(X_test)\n",
    "\n",
    "# Calculate the accuracy of the model\n",
    "acc_bag = accuracy_score(y_test, y_pred)\n",
    "print(\"Bagging Classifier - Test Accuracy:\", round(acc_bag, 2))\n",
    "print(\"Accuracy is {0:.2f}\".format(accuracy_score(y_test, y_pred)))\n",
    "print(\"Precision is {0:.2f}\".format(precision_score(y_test, y_pred)))\n",
    "print(\"Recall is {0:.2f}\".format(recall_score(y_test, y_pred)))\n",
    "print(\"F1 score is {0:.2f}\".format(f1_score(y_test, y_pred)))"
   ]
  },
  {
   "cell_type": "markdown",
   "metadata": {},
   "source": [
    "#### Bagging With Random Undersampling (deacreasing the size of majority set)"
   ]
  },
  {
   "cell_type": "code",
   "execution_count": 5,
   "metadata": {},
   "outputs": [
    {
     "name": "stdout",
     "output_type": "stream",
     "text": [
      "Class distribution before undersampling: Counter({0: 71155, 1: 9037})\n",
      "Class distribution after undersampling: Counter({0: 9037, 1: 9037})\n",
      "Bagging Classifier with Random Undersampling - Test Accuracy: 0.65\n",
      "Precision is 0.15\n",
      "Recall is 0.48\n",
      "F1 score is 0.23\n"
     ]
    }
   ],
   "source": [
    "# Apply random undersampling to the training set\n",
    "print(\"Class distribution before undersampling:\", Counter(y_train))\n",
    "rus = RandomUnderSampler()\n",
    "X_train_resampled, y_train_resampled = rus.fit_resample(X_train, y_train)\n",
    "print(\"Class distribution after undersampling:\", Counter(y_train_resampled))\n",
    "\n",
    "# Create a bagging classifier with random undersampling\n",
    "bagging_classifier = BaggingClassifier()\n",
    "\n",
    "# Train the bagging classifier on the resampled training data\n",
    "bagging_classifier.fit(X_train_resampled, y_train_resampled)\n",
    "\n",
    "# Make predictions on the test set\n",
    "y_pred = bagging_classifier.predict(X_test)\n",
    "\n",
    "# Calculate the accuracy of the model\n",
    "acc_rndm = accuracy_score(y_test, y_pred)\n",
    "\n",
    "print(\"Bagging Classifier with Random Undersampling - Test Accuracy:\", round(acc_rndm, 2))\n",
    "print(\"Precision is {0:.2f}\".format(precision_score(y_test, y_pred)))\n",
    "print(\"Recall is {0:.2f}\".format(recall_score(y_test, y_pred)))\n",
    "print(\"F1 score is {0:.2f}\".format(f1_score(y_test, y_pred)))\n"
   ]
  },
  {
   "cell_type": "markdown",
   "metadata": {},
   "source": [
    "#### Standard Random Forest Classifier "
   ]
  },
  {
   "cell_type": "code",
   "execution_count": 6,
   "metadata": {},
   "outputs": [
    {
     "name": "stdout",
     "output_type": "stream",
     "text": [
      "Standard Random Forest Accuracy: 0.89\n",
      "Precision is 0.45\n",
      "Recall is 0.01\n",
      "F1 score is 0.02\n"
     ]
    }
   ],
   "source": [
    "# Create a Random Forest classifier \n",
    "rf = RandomForestClassifier(n_estimators=100)\n",
    "\n",
    "# Train the Random Forest classifier on the training data\n",
    "rf.fit(X_train, y_train)\n",
    "\n",
    "# Make predictions on the test set\n",
    "y_pred_rf = rf.predict(X_test)\n",
    "\n",
    "# Calculate the accuracy of the model\n",
    "acc_rf = accuracy_score(y_test, y_pred_rf)\n",
    "print(\"Standard Random Forest Accuracy:\",round(acc_rf, 2))\n",
    "print(\"Precision is {0:.2f}\".format(precision_score(y_test, y_pred_rf)))\n",
    "print(\"Recall is {0:.2f}\".format(recall_score(y_test, y_pred_rf)))\n",
    "print(\"F1 score is {0:.2f}\".format(f1_score(y_test, y_pred_rf)))\n"
   ]
  },
  {
   "cell_type": "code",
   "execution_count": 7,
   "metadata": {},
   "outputs": [
    {
     "name": "stdout",
     "output_type": "stream",
     "text": [
      "Random Forest with Class Weighting Accuracy: 0.89\n",
      "Precision is 0.68\n",
      "Recall is 0.01\n",
      "F1 score is 0.01\n"
     ]
    }
   ],
   "source": [
    "# Create a Random Forest Classifier with Class Weighting\n",
    "rf_cw = RandomForestClassifier(random_state=42, class_weight='balanced')\n",
    "\n",
    "# Train the Random Forest classifier on the training data\n",
    "rf_cw.fit(X_train, y_train)\n",
    "\n",
    "# Make predictions on the test set\n",
    "y_pred_cw = rf_cw.predict(X_test)\n",
    "\n",
    "# Calculate the accuracy of the model\n",
    "acc_cw = accuracy_score(y_test, y_pred_cw)\n",
    "print(\"Random Forest with Class Weighting Accuracy:\",round(acc_cw, 2))\n",
    "print(\"Precision is {0:.2f}\".format(precision_score(y_test, y_pred_cw)))\n",
    "print(\"Recall is {0:.2f}\".format(recall_score(y_test, y_pred_cw)))\n",
    "print(\"F1 score is {0:.2f}\".format(f1_score(y_test, y_pred_cw)))\n"
   ]
  },
  {
   "cell_type": "markdown",
   "metadata": {},
   "source": [
    "#### Random Forest with Random Undersampling"
   ]
  },
  {
   "cell_type": "code",
   "execution_count": 8,
   "metadata": {},
   "outputs": [
    {
     "name": "stdout",
     "output_type": "stream",
     "text": [
      "Class distribution before undersampling: Counter({0: 71155, 1: 9037})\n",
      "Class distribution after undersampling: Counter({0: 9037, 1: 9037})\n",
      "Random Forest with Random Undersampling Accuracy: 0.63\n",
      "Precision is 0.17\n",
      "Recall is 0.60\n",
      "F1 score is 0.26\n"
     ]
    }
   ],
   "source": [
    "# Apply random undersampling to the training set\n",
    "print(\"Class distribution before undersampling:\", Counter(y_train))\n",
    "rus = RandomUnderSampler(random_state=42)\n",
    "X_train_resampled, y_train_resampled = rus.fit_resample(X_train, y_train)\n",
    "print(\"Class distribution after undersampling:\", Counter(y_train_resampled))\n",
    "# Create a Random Forest classifier with random undersampling\n",
    "rf_rus = RandomForestClassifier(random_state=42)\n",
    "\n",
    "# Train the Random Forest classifier on the resampled training data\n",
    "rf_rus.fit(X_train_resampled, y_train_resampled)\n",
    "\n",
    "# Make predictions on the test set\n",
    "y_pred_rus = rf_rus.predict(X_test)\n",
    "\n",
    "# Calculate the accuracy of the model\n",
    "acc_rus = accuracy_score(y_test, y_pred_rus)\n",
    "print(\"Random Forest with Random Undersampling Accuracy:\",round(acc_rus,2))\n",
    "print(\"Precision is {0:.2f}\".format(precision_score(y_test, y_pred_rus)))\n",
    "print(\"Recall is {0:.2f}\".format(recall_score(y_test, y_pred_rus)))\n",
    "print(\"F1 score is {0:.2f}\".format(f1_score(y_test, y_pred_rus)))"
   ]
  },
  {
   "cell_type": "markdown",
   "metadata": {},
   "source": [
    "#### Evaluation of Random forest with undersampling\n",
    "\n",
    "Only 17% of the patients flagged as high risk for readmission were actually readmitted. This suggests the model generates a high number of false positives.\n",
    "Recall (0.60):\n",
    "\n",
    "The model successfully identifies 60% of the actual readmissions, which is decent. However, missing the remaining 40% (false negatives) could still have serious implications.\n"
   ]
  },
  {
   "cell_type": "code",
   "execution_count": 9,
   "metadata": {},
   "outputs": [
    {
     "name": "stdout",
     "output_type": "stream",
     "text": [
      "Random Forest with Random Undersampling Accuracy: 0.63\n",
      "Precision: 0.17\n",
      "Recall: 0.60\n",
      "F1 Score: 0.26\n",
      "\n",
      "Classification Report:\n",
      "               precision    recall  f1-score   support\n",
      "\n",
      "           0       0.93      0.63      0.75     17836\n",
      "           1       0.17      0.60      0.26      2213\n",
      "\n",
      "    accuracy                           0.63     20049\n",
      "   macro avg       0.55      0.62      0.51     20049\n",
      "weighted avg       0.84      0.63      0.70     20049\n",
      "\n"
     ]
    }
   ],
   "source": [
    "# Evaluate the model\n",
    "\n",
    "# Calculate and print the accuracy\n",
    "acc_rus = accuracy_score(y_test, y_pred_rus)\n",
    "print(\"Random Forest with Random Undersampling Accuracy: {:.2f}\".format(acc_rus))\n",
    "\n",
    "# Calculate precision, recall, and F1-score for binary classification (assuming labels 0 and 1)\n",
    "precision = precision_score(y_test, y_pred_rus)\n",
    "recall = recall_score(y_test, y_pred_rus)\n",
    "f1 = f1_score(y_test, y_pred_rus)\n",
    "\n",
    "print(\"Precision: {:.2f}\".format(precision))\n",
    "print(\"Recall: {:.2f}\".format(recall))\n",
    "print(\"F1 Score: {:.2f}\".format(f1))\n",
    "\n",
    "# Print the classification report for detailed metrics across all classes\n",
    "report = classification_report(y_test, y_pred_rus)\n",
    "print(\"\\nClassification Report:\\n\", report)\n",
    "\n"
   ]
  },
  {
   "cell_type": "code",
   "execution_count": 10,
   "metadata": {},
   "outputs": [
    {
     "name": "stdout",
     "output_type": "stream",
     "text": [
      "Confusion Matrix:\n",
      " [[11271  6565]\n",
      " [  883  1330]]\n"
     ]
    },
    {
     "data": {
      "text/plain": [
       "<sklearn.metrics._plot.confusion_matrix.ConfusionMatrixDisplay at 0x308558a90>"
      ]
     },
     "execution_count": 10,
     "metadata": {},
     "output_type": "execute_result"
    },
    {
     "data": {
      "image/png": "[encoded data removed]",
      "text/plain": [
       "<Figure size 640x480 with 2 Axes>"
      ]
     },
     "metadata": {},
     "output_type": "display_data"
    }
   ],
   "source": [
    "# Compute the confusion matrix\n",
    "cm = confusion_matrix(y_test, y_pred_rus)\n",
    "\n",
    "# Print the confusion matrix\n",
    "print(\"Confusion Matrix:\\n\", cm)\n",
    "\n",
    "# Visualize the confusion matrix\n",
    "disp = ConfusionMatrixDisplay(confusion_matrix=cm, display_labels=rf_rus.classes_)\n",
    "disp.plot(cmap='Blues')"
   ]
  },
  {
   "cell_type": "markdown",
   "metadata": {},
   "source": [
    "#### XGBoost Classifier with SMOTE + ENN oversampler\n",
    "\n",
    "First, scale continious numerical values "
   ]
  },
  {
   "cell_type": "code",
   "execution_count": 11,
   "metadata": {},
   "outputs": [],
   "source": [
    "\n",
    "# Identify the binary and continuous columns\n",
    "\n",
    "# List of continuous columns that you want to scale\n",
    "continuous_columns = ['age', 'time_in_hospital','num_lab_procedures','num_procedures', 'num_medications', 'number_outpatient_log',\n",
    "       'number_emergency_log', 'number_inpatient_log']\n",
    "\n",
    "# Separate the continuous features\n",
    "X_train_continuous = X_train[continuous_columns]\n",
    "X_test_continuous = X_test[continuous_columns]\n",
    "\n",
    "# Apply StandardScaler to the continuous features\n",
    "scaler = StandardScaler()\n",
    "X_train_continuous_scaled = scaler.fit_transform(X_train_continuous)\n",
    "X_test_continuous_scaled = scaler.fit_transform(X_test_continuous)\n",
    "\n",
    "\n",
    "# Convert the scaled features back to a DataFrame\n",
    "X_train_continuous_scaled = pd.DataFrame(X_train_continuous_scaled, columns=continuous_columns)\n",
    "X_test_continuous_scaled = pd.DataFrame(X_test_continuous_scaled, columns=continuous_columns)\n",
    "\n",
    "# Concatenate the scaled continuous columns with the rest of the data\n",
    "X_train_scaled = pd.concat([X_train.drop(continuous_columns, axis=1), X_train_continuous_scaled], axis=1)\n",
    "X_test_scaled = pd.concat([X_test.drop(continuous_columns, axis=1), X_test_continuous_scaled], axis=1)\n",
    "\n"
   ]
  },
  {
   "cell_type": "markdown",
   "metadata": {},
   "source": [
    "##### Apply SMOTEENN to training data"
   ]
  },
  {
   "cell_type": "code",
   "execution_count": 15,
   "metadata": {},
   "outputs": [
    {
     "name": "stdout",
     "output_type": "stream",
     "text": [
      "Before Counter({0: 71155, 1: 9037})\n",
      "After Counter({1: 70864, 0: 29937})\n"
     ]
    }
   ],
   "source": [
    "\n",
    "counter = collections.Counter(y_train)\n",
    "print('Before', counter)\n",
    "# oversampling the train dataset using SMOTE + ENN\n",
    "smote = SMOTEENN()\n",
    "X_train_smenn, y_train_smenn = smote.fit_resample (X_train_scaled, y_train)\n",
    "counter = collections.Counter (y_train_smenn)\n",
    "print('After', counter)\n"
   ]
  },
  {
   "cell_type": "markdown",
   "metadata": {},
   "source": [
    "##### XGBoost classifier"
   ]
  },
  {
   "cell_type": "code",
   "execution_count": 16,
   "metadata": {},
   "outputs": [
    {
     "name": "stdout",
     "output_type": "stream",
     "text": [
      "Results With Oversampling Smote + ENN\n",
      "XGBoost Accuracy: 0.47\n",
      "Kappa Score: 0.06\n",
      "F1 Score: 0.24\n",
      "Recall: 0.74\n",
      "Precision: 0.14\n"
     ]
    },
    {
     "data": {
      "image/png": "[encoded data removed]",
      "text/plain": [
       "<Figure size 800x600 with 1 Axes>"
      ]
     },
     "metadata": {},
     "output_type": "display_data"
    }
   ],
   "source": [
    "\n",
    "# Initialize and train the XGBoost classifier\n",
    "xgb_classifier = xgb.XGBClassifier(n_estimators=100, max_depth=10, n_jobs=-1, learning_rate=0.1, random_state=42)\n",
    "xgb_classifier.fit(X_train_smenn, y_train_smenn)\n",
    "\n",
    "# Make predictions using the model\n",
    "y_pred = xgb_classifier.predict(X_test_scaled)\n",
    "\n",
    "# Calculate evaluation metrics\n",
    "accuracy = accuracy_score(y_test, y_pred)\n",
    "kappa = cohen_kappa_score(y_test, y_pred)\n",
    "f1 = f1_score(y_test, y_pred)\n",
    "recall = recall_score(y_test, y_pred)\n",
    "precision = precision_score(y_test, y_pred)\n",
    "\n",
    "# Print the evaluation metrics\n",
    "print(\"Results With Oversampling Smote + ENN\")\n",
    "print(\"XGBoost Accuracy:\", round(accuracy,2))\n",
    "print(\"Kappa Score:\", round(kappa,2))\n",
    "print(\"F1 Score:\", round(f1,2))\n",
    "print(\"Recall:\", round(recall,2))\n",
    "print(\"Precision:\", round(precision,2))\n",
    "\n",
    "#print confusion matrix\n",
    "cm = confusion_matrix(y_test, y_pred)\n",
    "\n",
    "# Create a heatmap for the confusion matrix\n",
    "plt.figure(figsize=(8, 6))\n",
    "sns.set_theme(style=\"whitegrid\")\n",
    "sns.heatmap(cm, annot=True, fmt=\"d\", cmap=\"Blues\", cbar=False)\n",
    "plt.title('Confusion Matrix - XGBoost with SMOTE')\n",
    "plt.xlabel('Predicted')\n",
    "plt.ylabel('Actual')\n",
    "plt.show()"
   ]
  },
  {
   "cell_type": "code",
   "execution_count": 17,
   "metadata": {},
   "outputs": [
    {
     "name": "stdout",
     "output_type": "stream",
     "text": [
      "Before: Counter({0: 71155, 1: 9037})\n",
      "After SMOTE: Counter({0: 71155, 1: 71155})\n"
     ]
    }
   ],
   "source": [
    "from imblearn.over_sampling import SMOTE\n",
    "from collections import Counter\n",
    "\n",
    "# Apply SMOTE for oversampling\n",
    "smote = SMOTE(random_state=42)\n",
    "X_train_smote, y_train_smote = smote.fit_resample(X_train_scaled, y_train)\n",
    "\n",
    "# Check the class distribution after oversampling\n",
    "counter = Counter(y_train_smote)\n",
    "print('Before:', Counter(y_train))\n",
    "print('After SMOTE:', counter)\n"
   ]
  },
  {
   "cell_type": "code",
   "execution_count": 18,
   "metadata": {},
   "outputs": [
    {
     "name": "stdout",
     "output_type": "stream",
     "text": [
      "Results With Oversampling Smote + ENN\n",
      "XGBoost Accuracy: 0.48\n",
      "Kappa Score: 0.05\n",
      "F1 Score: 0.23\n",
      "Recall: 0.69\n",
      "Precision: 0.13\n"
     ]
    },
    {
     "data": {
      "image/png": "[encoded data removed]",
      "text/plain": [
       "<Figure size 800x600 with 1 Axes>"
      ]
     },
     "metadata": {},
     "output_type": "display_data"
    }
   ],
   "source": [
    "\n",
    "# Initialize and train the XGBoost classifier\n",
    "xgb_classifier = xgb.XGBClassifier(n_estimators=100, max_depth=10, n_jobs=-1, learning_rate=0.1, random_state=42)\n",
    "xgb_classifier.fit(X_train_smote, y_train_smote)\n",
    "\n",
    "# Make predictions using the model\n",
    "y_pred = xgb_classifier.predict(X_test_scaled)\n",
    "\n",
    "# Calculate evaluation metrics\n",
    "accuracy = accuracy_score(y_test, y_pred)\n",
    "kappa = cohen_kappa_score(y_test, y_pred)\n",
    "f1 = f1_score(y_test, y_pred)\n",
    "recall = recall_score(y_test, y_pred)\n",
    "precision = precision_score(y_test, y_pred)\n",
    "\n",
    "# Print the evaluation metrics\n",
    "print(\"Results With Oversampling Smote + ENN\")\n",
    "print(\"XGBoost Accuracy:\", round(accuracy,2))\n",
    "print(\"Kappa Score:\", round(kappa,2))\n",
    "print(\"F1 Score:\", round(f1,2))\n",
    "print(\"Recall:\", round(recall,2))\n",
    "print(\"Precision:\", round(precision,2))\n",
    "\n",
    "#print confusion matrix\n",
    "cm = confusion_matrix(y_test, y_pred)\n",
    "\n",
    "# Create a heatmap for the confusion matrix\n",
    "plt.figure(figsize=(8, 6))\n",
    "sns.set_theme(style=\"whitegrid\")\n",
    "sns.heatmap(cm, annot=True, fmt=\"d\", cmap=\"Blues\", cbar=False)\n",
    "plt.title('Confusion Matrix - XGBoost with SMOTE')\n",
    "plt.xlabel('Predicted')\n",
    "plt.ylabel('Actual')\n",
    "plt.show()"
   ]
  },
  {
   "cell_type": "markdown",
   "metadata": {},
   "source": [
    "##### Changing threshold "
   ]
  },
  {
   "cell_type": "code",
   "execution_count": 125,
   "metadata": {},
   "outputs": [
    {
     "name": "stdout",
     "output_type": "stream",
     "text": [
      "Fitting 5 folds for each of 81 candidates, totalling 405 fits\n"
     ]
    },
    {
     "name": "stdout",
     "output_type": "stream",
     "text": [
      "[CV] END learning_rate=0.01, max_depth=5, n_estimators=50, scale_pos_weight=10; total time=   6.1s\n",
      "[CV] END learning_rate=0.01, max_depth=5, n_estimators=50, scale_pos_weight=1; total time=   6.7s\n",
      "[CV] END learning_rate=0.01, max_depth=5, n_estimators=50, scale_pos_weight=1; total time=   6.9s\n",
      "[CV] END learning_rate=0.01, max_depth=5, n_estimators=50, scale_pos_weight=1; total time=   6.9s\n",
      "[CV] END learning_rate=0.01, max_depth=5, n_estimators=50, scale_pos_weight=1; total time=   7.0s\n",
      "[CV] END learning_rate=0.01, max_depth=5, n_estimators=50, scale_pos_weight=10; total time=   6.9s\n",
      "[CV] END learning_rate=0.01, max_depth=5, n_estimators=50, scale_pos_weight=10; total time=   7.2s\n",
      "[CV] END learning_rate=0.01, max_depth=5, n_estimators=50, scale_pos_weight=1; total time=   7.4s\n",
      "[CV] END learning_rate=0.01, max_depth=5, n_estimators=50, scale_pos_weight=10; total time=   7.2s\n",
      "[CV] END learning_rate=0.01, max_depth=5, n_estimators=50, scale_pos_weight=10; total time=   8.5s\n",
      "[CV] END learning_rate=0.01, max_depth=5, n_estimators=50, scale_pos_weight=50; total time=   8.3s\n",
      "[CV] END learning_rate=0.01, max_depth=5, n_estimators=50, scale_pos_weight=50; total time=   8.5s\n",
      "[CV] END learning_rate=0.01, max_depth=5, n_estimators=50, scale_pos_weight=50; total time=   8.7s\n",
      "[CV] END learning_rate=0.01, max_depth=5, n_estimators=50, scale_pos_weight=50; total time=   8.8s\n",
      "[CV] END learning_rate=0.01, max_depth=5, n_estimators=50, scale_pos_weight=50; total time=   9.4s\n",
      "[CV] END learning_rate=0.01, max_depth=5, n_estimators=100, scale_pos_weight=1; total time=  14.1s\n",
      "[CV] END learning_rate=0.01, max_depth=5, n_estimators=100, scale_pos_weight=1; total time=  12.1s\n",
      "[CV] END learning_rate=0.01, max_depth=5, n_estimators=100, scale_pos_weight=1; total time=  12.4s\n",
      "[CV] END learning_rate=0.01, max_depth=5, n_estimators=100, scale_pos_weight=1; total time=  13.5s\n",
      "[CV] END learning_rate=0.01, max_depth=5, n_estimators=100, scale_pos_weight=1; total time=  12.5s\n",
      "[CV] END learning_rate=0.01, max_depth=5, n_estimators=100, scale_pos_weight=10; total time=  11.7s\n",
      "[CV] END learning_rate=0.01, max_depth=5, n_estimators=100, scale_pos_weight=10; total time=  11.7s\n",
      "[CV] END learning_rate=0.01, max_depth=5, n_estimators=100, scale_pos_weight=10; total time=  11.7s\n",
      "[CV] END learning_rate=0.01, max_depth=5, n_estimators=100, scale_pos_weight=10; total time=  10.8s\n",
      "[CV] END learning_rate=0.01, max_depth=5, n_estimators=100, scale_pos_weight=50; total time=   9.6s\n",
      "[CV] END learning_rate=0.01, max_depth=5, n_estimators=100, scale_pos_weight=10; total time=  10.9s\n",
      "[CV] END learning_rate=0.01, max_depth=5, n_estimators=100, scale_pos_weight=50; total time=  10.4s\n",
      "[CV] END learning_rate=0.01, max_depth=5, n_estimators=100, scale_pos_weight=50; total time=   9.9s\n",
      "[CV] END learning_rate=0.01, max_depth=5, n_estimators=100, scale_pos_weight=50; total time=   9.5s\n",
      "[CV] END learning_rate=0.01, max_depth=5, n_estimators=100, scale_pos_weight=50; total time=  10.0s\n",
      "[CV] END learning_rate=0.01, max_depth=5, n_estimators=200, scale_pos_weight=1; total time=  17.3s\n",
      "[CV] END learning_rate=0.01, max_depth=5, n_estimators=200, scale_pos_weight=1; total time=  16.6s\n",
      "[CV] END learning_rate=0.01, max_depth=5, n_estimators=200, scale_pos_weight=1; total time=  17.0s\n",
      "[CV] END learning_rate=0.01, max_depth=5, n_estimators=200, scale_pos_weight=1; total time=  16.7s\n",
      "[CV] END learning_rate=0.01, max_depth=5, n_estimators=200, scale_pos_weight=1; total time=  17.0s\n",
      "[CV] END learning_rate=0.01, max_depth=5, n_estimators=200, scale_pos_weight=10; total time=  17.0s\n",
      "[CV] END learning_rate=0.01, max_depth=5, n_estimators=200, scale_pos_weight=10; total time=  17.2s\n",
      "[CV] END learning_rate=0.01, max_depth=5, n_estimators=200, scale_pos_weight=10; total time=  17.6s\n",
      "[CV] END learning_rate=0.01, max_depth=5, n_estimators=200, scale_pos_weight=10; total time=  16.5s\n",
      "[CV] END learning_rate=0.01, max_depth=10, n_estimators=50, scale_pos_weight=1; total time=   8.7s\n",
      "[CV] END learning_rate=0.01, max_depth=5, n_estimators=200, scale_pos_weight=10; total time=  16.9s\n",
      "[CV] END learning_rate=0.01, max_depth=10, n_estimators=50, scale_pos_weight=1; total time=   9.4s\n",
      "[CV] END learning_rate=0.01, max_depth=5, n_estimators=200, scale_pos_weight=50; total time=  18.2s\n",
      "[CV] END learning_rate=0.01, max_depth=5, n_estimators=200, scale_pos_weight=50; total time=  18.0s\n",
      "[CV] END learning_rate=0.01, max_depth=5, n_estimators=200, scale_pos_weight=50; total time=  18.2s\n",
      "[CV] END learning_rate=0.01, max_depth=5, n_estimators=200, scale_pos_weight=50; total time=  18.2s\n",
      "[CV] END learning_rate=0.01, max_depth=5, n_estimators=200, scale_pos_weight=50; total time=  18.2s\n",
      "[CV] END learning_rate=0.01, max_depth=10, n_estimators=50, scale_pos_weight=1; total time=   9.0s\n",
      "[CV] END learning_rate=0.01, max_depth=10, n_estimators=50, scale_pos_weight=1; total time=   9.2s\n",
      "[CV] END learning_rate=0.01, max_depth=10, n_estimators=50, scale_pos_weight=10; total time=   9.2s\n",
      "[CV] END learning_rate=0.01, max_depth=10, n_estimators=50, scale_pos_weight=1; total time=   9.5s\n",
      "[CV] END learning_rate=0.01, max_depth=10, n_estimators=50, scale_pos_weight=10; total time=   8.7s\n",
      "[CV] END learning_rate=0.01, max_depth=10, n_estimators=50, scale_pos_weight=10; total time=   8.5s\n",
      "[CV] END learning_rate=0.01, max_depth=10, n_estimators=50, scale_pos_weight=10; total time=   9.3s\n",
      "[CV] END learning_rate=0.01, max_depth=10, n_estimators=50, scale_pos_weight=50; total time=   8.8s\n",
      "[CV] END learning_rate=0.01, max_depth=10, n_estimators=50, scale_pos_weight=10; total time=   9.4s\n",
      "[CV] END learning_rate=0.01, max_depth=10, n_estimators=50, scale_pos_weight=50; total time=   8.6s\n",
      "[CV] END learning_rate=0.01, max_depth=10, n_estimators=50, scale_pos_weight=50; total time=   8.4s\n",
      "[CV] END learning_rate=0.01, max_depth=10, n_estimators=50, scale_pos_weight=50; total time=   8.4s\n",
      "[CV] END learning_rate=0.01, max_depth=10, n_estimators=50, scale_pos_weight=50; total time=   8.8s\n",
      "[CV] END learning_rate=0.01, max_depth=10, n_estimators=100, scale_pos_weight=1; total time=  15.5s\n",
      "[CV] END learning_rate=0.01, max_depth=10, n_estimators=100, scale_pos_weight=1; total time=  16.3s\n",
      "[CV] END learning_rate=0.01, max_depth=10, n_estimators=100, scale_pos_weight=1; total time=  15.9s\n",
      "[CV] END learning_rate=0.01, max_depth=10, n_estimators=100, scale_pos_weight=1; total time=  15.8s\n",
      "[CV] END learning_rate=0.01, max_depth=10, n_estimators=100, scale_pos_weight=1; total time=  16.4s\n",
      "[CV] END learning_rate=0.01, max_depth=10, n_estimators=100, scale_pos_weight=10; total time=  16.1s\n",
      "[CV] END learning_rate=0.01, max_depth=10, n_estimators=100, scale_pos_weight=10; total time=  16.4s\n",
      "[CV] END learning_rate=0.01, max_depth=10, n_estimators=100, scale_pos_weight=10; total time=  16.2s\n",
      "[CV] END learning_rate=0.01, max_depth=10, n_estimators=100, scale_pos_weight=10; total time=  15.8s\n",
      "[CV] END learning_rate=0.01, max_depth=10, n_estimators=100, scale_pos_weight=50; total time=  14.7s\n",
      "[CV] END learning_rate=0.01, max_depth=10, n_estimators=100, scale_pos_weight=50; total time=  15.3s\n",
      "[CV] END learning_rate=0.01, max_depth=10, n_estimators=100, scale_pos_weight=10; total time=  16.5s\n",
      "[CV] END learning_rate=0.01, max_depth=10, n_estimators=100, scale_pos_weight=50; total time=  15.4s\n",
      "[CV] END learning_rate=0.01, max_depth=10, n_estimators=100, scale_pos_weight=50; total time=  15.1s\n",
      "[CV] END learning_rate=0.01, max_depth=10, n_estimators=100, scale_pos_weight=50; total time=  16.2s\n",
      "[CV] END learning_rate=0.01, max_depth=10, n_estimators=200, scale_pos_weight=1; total time=  28.8s\n",
      "[CV] END learning_rate=0.01, max_depth=10, n_estimators=200, scale_pos_weight=1; total time=  28.0s\n",
      "[CV] END learning_rate=0.01, max_depth=10, n_estimators=200, scale_pos_weight=1; total time=  27.9s\n",
      "[CV] END learning_rate=0.01, max_depth=10, n_estimators=200, scale_pos_weight=1; total time=  28.3s\n",
      "[CV] END learning_rate=0.01, max_depth=10, n_estimators=200, scale_pos_weight=1; total time=  29.6s\n",
      "[CV] END learning_rate=0.01, max_depth=10, n_estimators=200, scale_pos_weight=10; total time=  29.7s\n",
      "[CV] END learning_rate=0.01, max_depth=10, n_estimators=200, scale_pos_weight=10; total time=  30.6s\n",
      "[CV] END learning_rate=0.01, max_depth=10, n_estimators=200, scale_pos_weight=10; total time=  29.2s\n",
      "[CV] END learning_rate=0.01, max_depth=10, n_estimators=200, scale_pos_weight=10; total time=  30.3s\n",
      "[CV] END learning_rate=0.01, max_depth=15, n_estimators=50, scale_pos_weight=1; total time=  14.3s\n",
      "[CV] END learning_rate=0.01, max_depth=10, n_estimators=200, scale_pos_weight=10; total time=  28.7s\n",
      "[CV] END learning_rate=0.01, max_depth=10, n_estimators=200, scale_pos_weight=50; total time=  28.5s\n",
      "[CV] END learning_rate=0.01, max_depth=10, n_estimators=200, scale_pos_weight=50; total time=  29.3s\n",
      "[CV] END learning_rate=0.01, max_depth=10, n_estimators=200, scale_pos_weight=50; total time=  30.7s\n",
      "[CV] END learning_rate=0.01, max_depth=10, n_estimators=200, scale_pos_weight=50; total time=  29.2s\n",
      "[CV] END learning_rate=0.01, max_depth=15, n_estimators=50, scale_pos_weight=1; total time=  14.6s\n",
      "[CV] END learning_rate=0.01, max_depth=10, n_estimators=200, scale_pos_weight=50; total time=  29.5s\n",
      "[CV] END learning_rate=0.01, max_depth=15, n_estimators=50, scale_pos_weight=1; total time=  15.6s\n",
      "[CV] END learning_rate=0.01, max_depth=15, n_estimators=50, scale_pos_weight=1; total time=  15.4s\n",
      "[CV] END learning_rate=0.01, max_depth=15, n_estimators=50, scale_pos_weight=1; total time=  15.5s\n",
      "[CV] END learning_rate=0.01, max_depth=15, n_estimators=50, scale_pos_weight=10; total time=  16.7s\n",
      "[CV] END learning_rate=0.01, max_depth=15, n_estimators=50, scale_pos_weight=10; total time=  17.1s\n",
      "[CV] END learning_rate=0.01, max_depth=15, n_estimators=50, scale_pos_weight=10; total time=  17.5s\n",
      "[CV] END learning_rate=0.01, max_depth=15, n_estimators=50, scale_pos_weight=50; total time=  14.6s\n",
      "[CV] END learning_rate=0.01, max_depth=15, n_estimators=50, scale_pos_weight=10; total time=  17.2s\n",
      "[CV] END learning_rate=0.01, max_depth=15, n_estimators=50, scale_pos_weight=10; total time=  17.7s\n",
      "[CV] END learning_rate=0.01, max_depth=15, n_estimators=50, scale_pos_weight=50; total time=  14.2s\n",
      "[CV] END learning_rate=0.01, max_depth=15, n_estimators=50, scale_pos_weight=50; total time=  15.5s\n",
      "[CV] END learning_rate=0.01, max_depth=15, n_estimators=50, scale_pos_weight=50; total time=  15.6s\n",
      "[CV] END learning_rate=0.01, max_depth=15, n_estimators=50, scale_pos_weight=50; total time=  15.9s\n",
      "[CV] END learning_rate=0.01, max_depth=15, n_estimators=100, scale_pos_weight=1; total time=  30.6s\n",
      "[CV] END learning_rate=0.01, max_depth=15, n_estimators=100, scale_pos_weight=1; total time=  30.9s\n",
      "[CV] END learning_rate=0.01, max_depth=15, n_estimators=100, scale_pos_weight=1; total time=  31.0s\n",
      "[CV] END learning_rate=0.01, max_depth=15, n_estimators=100, scale_pos_weight=1; total time=  30.1s\n",
      "[CV] END learning_rate=0.01, max_depth=15, n_estimators=100, scale_pos_weight=1; total time=  29.3s\n",
      "[CV] END learning_rate=0.01, max_depth=15, n_estimators=100, scale_pos_weight=10; total time=  30.5s\n",
      "[CV] END learning_rate=0.01, max_depth=15, n_estimators=100, scale_pos_weight=10; total time=  29.5s\n",
      "[CV] END learning_rate=0.01, max_depth=15, n_estimators=100, scale_pos_weight=10; total time=  29.5s\n",
      "[CV] END learning_rate=0.01, max_depth=15, n_estimators=100, scale_pos_weight=50; total time=  24.8s\n",
      "[CV] END learning_rate=0.01, max_depth=15, n_estimators=100, scale_pos_weight=10; total time=  31.1s\n",
      "[CV] END learning_rate=0.01, max_depth=15, n_estimators=100, scale_pos_weight=50; total time=  25.6s\n",
      "[CV] END learning_rate=0.01, max_depth=15, n_estimators=100, scale_pos_weight=50; total time=  26.2s\n",
      "[CV] END learning_rate=0.01, max_depth=15, n_estimators=100, scale_pos_weight=10; total time=  30.1s\n",
      "[CV] END learning_rate=0.01, max_depth=15, n_estimators=100, scale_pos_weight=50; total time=  25.2s\n",
      "[CV] END learning_rate=0.01, max_depth=15, n_estimators=100, scale_pos_weight=50; total time=  26.8s\n",
      "[CV] END learning_rate=0.01, max_depth=15, n_estimators=200, scale_pos_weight=1; total time=  52.0s\n",
      "[CV] END learning_rate=0.01, max_depth=15, n_estimators=200, scale_pos_weight=1; total time=  52.5s\n",
      "[CV] END learning_rate=0.01, max_depth=15, n_estimators=200, scale_pos_weight=1; total time=  53.4s\n",
      "[CV] END learning_rate=0.01, max_depth=15, n_estimators=200, scale_pos_weight=1; total time=  52.6s\n",
      "[CV] END learning_rate=0.01, max_depth=15, n_estimators=200, scale_pos_weight=1; total time=  53.1s\n",
      "[CV] END learning_rate=0.01, max_depth=15, n_estimators=200, scale_pos_weight=10; total time=  58.7s\n",
      "[CV] END learning_rate=0.01, max_depth=15, n_estimators=200, scale_pos_weight=10; total time=  58.3s\n",
      "[CV] END learning_rate=0.01, max_depth=15, n_estimators=200, scale_pos_weight=10; total time=  58.7s\n",
      "[CV] END learning_rate=0.1, max_depth=5, n_estimators=50, scale_pos_weight=1; total time=   6.2s\n",
      "[CV] END learning_rate=0.1, max_depth=5, n_estimators=50, scale_pos_weight=1; total time=   6.7s\n",
      "[CV] END learning_rate=0.1, max_depth=5, n_estimators=50, scale_pos_weight=1; total time=   7.5s\n",
      "[CV] END learning_rate=0.1, max_depth=5, n_estimators=50, scale_pos_weight=1; total time=   7.1s\n",
      "[CV] END learning_rate=0.01, max_depth=15, n_estimators=200, scale_pos_weight=10; total time= 1.0min\n",
      "[CV] END learning_rate=0.1, max_depth=5, n_estimators=50, scale_pos_weight=1; total time=   6.4s\n",
      "[CV] END learning_rate=0.1, max_depth=5, n_estimators=50, scale_pos_weight=10; total time=   7.1s\n",
      "[CV] END learning_rate=0.1, max_depth=5, n_estimators=50, scale_pos_weight=10; total time=   6.7s\n",
      "[CV] END learning_rate=0.01, max_depth=15, n_estimators=200, scale_pos_weight=50; total time=  55.2s\n",
      "[CV] END learning_rate=0.01, max_depth=15, n_estimators=200, scale_pos_weight=50; total time=  54.8s\n",
      "[CV] END learning_rate=0.01, max_depth=15, n_estimators=200, scale_pos_weight=50; total time=  55.3s\n",
      "[CV] END learning_rate=0.1, max_depth=5, n_estimators=50, scale_pos_weight=10; total time=   6.1s\n",
      "[CV] END learning_rate=0.01, max_depth=15, n_estimators=200, scale_pos_weight=10; total time= 1.0min\n",
      "[CV] END learning_rate=0.1, max_depth=5, n_estimators=50, scale_pos_weight=10; total time=   6.6s\n",
      "[CV] END learning_rate=0.1, max_depth=5, n_estimators=50, scale_pos_weight=10; total time=   6.8s\n",
      "[CV] END learning_rate=0.1, max_depth=5, n_estimators=50, scale_pos_weight=50; total time=   6.9s\n",
      "[CV] END learning_rate=0.1, max_depth=5, n_estimators=50, scale_pos_weight=50; total time=   6.5s\n",
      "[CV] END learning_rate=0.1, max_depth=5, n_estimators=50, scale_pos_weight=50; total time=   7.1s\n",
      "[CV] END learning_rate=0.01, max_depth=15, n_estimators=200, scale_pos_weight=50; total time=  55.8s\n",
      "[CV] END learning_rate=0.1, max_depth=5, n_estimators=50, scale_pos_weight=50; total time=   6.0s\n",
      "[CV] END learning_rate=0.01, max_depth=15, n_estimators=200, scale_pos_weight=50; total time=  56.2s\n",
      "[CV] END learning_rate=0.1, max_depth=5, n_estimators=50, scale_pos_weight=50; total time=   6.0s\n",
      "[CV] END learning_rate=0.1, max_depth=5, n_estimators=100, scale_pos_weight=1; total time=   8.3s\n",
      "[CV] END learning_rate=0.1, max_depth=5, n_estimators=100, scale_pos_weight=1; total time=   8.1s\n",
      "[CV] END learning_rate=0.1, max_depth=5, n_estimators=100, scale_pos_weight=1; total time=   7.9s\n",
      "[CV] END learning_rate=0.1, max_depth=5, n_estimators=100, scale_pos_weight=1; total time=   9.2s\n",
      "[CV] END learning_rate=0.1, max_depth=5, n_estimators=100, scale_pos_weight=1; total time=   8.2s\n",
      "[CV] END learning_rate=0.1, max_depth=5, n_estimators=100, scale_pos_weight=10; total time=   8.2s\n",
      "[CV] END learning_rate=0.1, max_depth=5, n_estimators=100, scale_pos_weight=10; total time=   8.3s\n",
      "[CV] END learning_rate=0.1, max_depth=5, n_estimators=100, scale_pos_weight=10; total time=   9.0s\n",
      "[CV] END learning_rate=0.1, max_depth=5, n_estimators=100, scale_pos_weight=10; total time=   9.2s\n",
      "[CV] END learning_rate=0.1, max_depth=5, n_estimators=100, scale_pos_weight=10; total time=   8.9s\n",
      "[CV] END learning_rate=0.1, max_depth=5, n_estimators=100, scale_pos_weight=50; total time=   9.4s\n",
      "[CV] END learning_rate=0.1, max_depth=5, n_estimators=100, scale_pos_weight=50; total time=   9.4s\n",
      "[CV] END learning_rate=0.1, max_depth=5, n_estimators=100, scale_pos_weight=50; total time=   9.2s\n",
      "[CV] END learning_rate=0.1, max_depth=5, n_estimators=100, scale_pos_weight=50; total time=   9.5s\n",
      "[CV] END learning_rate=0.1, max_depth=5, n_estimators=100, scale_pos_weight=50; total time=   9.5s\n",
      "[CV] END learning_rate=0.1, max_depth=5, n_estimators=200, scale_pos_weight=1; total time=  13.1s\n",
      "[CV] END learning_rate=0.1, max_depth=5, n_estimators=200, scale_pos_weight=1; total time=  13.7s\n",
      "[CV] END learning_rate=0.1, max_depth=5, n_estimators=200, scale_pos_weight=1; total time=  14.4s\n",
      "[CV] END learning_rate=0.1, max_depth=5, n_estimators=200, scale_pos_weight=1; total time=  13.3s\n",
      "[CV] END learning_rate=0.1, max_depth=5, n_estimators=200, scale_pos_weight=1; total time=  14.4s\n",
      "[CV] END learning_rate=0.1, max_depth=5, n_estimators=200, scale_pos_weight=10; total time=  14.3s\n",
      "[CV] END learning_rate=0.1, max_depth=5, n_estimators=200, scale_pos_weight=10; total time=  14.3s\n",
      "[CV] END learning_rate=0.1, max_depth=5, n_estimators=200, scale_pos_weight=10; total time=  14.2s\n",
      "[CV] END learning_rate=0.1, max_depth=5, n_estimators=200, scale_pos_weight=10; total time=  14.4s\n",
      "[CV] END learning_rate=0.1, max_depth=10, n_estimators=50, scale_pos_weight=1; total time=   8.1s\n",
      "[CV] END learning_rate=0.1, max_depth=5, n_estimators=200, scale_pos_weight=50; total time=  14.1s\n",
      "[CV] END learning_rate=0.1, max_depth=5, n_estimators=200, scale_pos_weight=10; total time=  14.6s\n",
      "[CV] END learning_rate=0.1, max_depth=5, n_estimators=200, scale_pos_weight=50; total time=  14.4s\n",
      "[CV] END learning_rate=0.1, max_depth=5, n_estimators=200, scale_pos_weight=50; total time=  14.7s\n",
      "[CV] END learning_rate=0.1, max_depth=5, n_estimators=200, scale_pos_weight=50; total time=  14.5s\n",
      "[CV] END learning_rate=0.1, max_depth=10, n_estimators=50, scale_pos_weight=1; total time=   7.9s\n",
      "[CV] END learning_rate=0.1, max_depth=5, n_estimators=200, scale_pos_weight=50; total time=  14.5s\n",
      "[CV] END learning_rate=0.1, max_depth=10, n_estimators=50, scale_pos_weight=1; total time=   8.5s\n",
      "[CV] END learning_rate=0.1, max_depth=10, n_estimators=50, scale_pos_weight=1; total time=   8.2s\n",
      "[CV] END learning_rate=0.1, max_depth=10, n_estimators=50, scale_pos_weight=1; total time=   8.5s\n",
      "[CV] END learning_rate=0.1, max_depth=10, n_estimators=50, scale_pos_weight=10; total time=   8.4s\n",
      "[CV] END learning_rate=0.1, max_depth=10, n_estimators=50, scale_pos_weight=10; total time=   8.3s\n",
      "[CV] END learning_rate=0.1, max_depth=10, n_estimators=50, scale_pos_weight=10; total time=   8.4s\n",
      "[CV] END learning_rate=0.1, max_depth=10, n_estimators=50, scale_pos_weight=10; total time=   8.6s\n",
      "[CV] END learning_rate=0.1, max_depth=10, n_estimators=50, scale_pos_weight=10; total time=   8.8s\n",
      "[CV] END learning_rate=0.1, max_depth=10, n_estimators=50, scale_pos_weight=50; total time=   9.4s\n",
      "[CV] END learning_rate=0.1, max_depth=10, n_estimators=50, scale_pos_weight=50; total time=   9.0s\n",
      "[CV] END learning_rate=0.1, max_depth=10, n_estimators=50, scale_pos_weight=50; total time=   9.4s\n",
      "[CV] END learning_rate=0.1, max_depth=10, n_estimators=50, scale_pos_weight=50; total time=   9.1s\n",
      "[CV] END learning_rate=0.1, max_depth=10, n_estimators=50, scale_pos_weight=50; total time=   8.9s\n",
      "[CV] END learning_rate=0.1, max_depth=10, n_estimators=100, scale_pos_weight=1; total time=  11.8s\n",
      "[CV] END learning_rate=0.1, max_depth=10, n_estimators=100, scale_pos_weight=1; total time=  12.4s\n",
      "[CV] END learning_rate=0.1, max_depth=10, n_estimators=100, scale_pos_weight=1; total time=  12.2s\n",
      "[CV] END learning_rate=0.1, max_depth=10, n_estimators=100, scale_pos_weight=1; total time=  12.2s\n",
      "[CV] END learning_rate=0.1, max_depth=10, n_estimators=100, scale_pos_weight=1; total time=  13.0s\n",
      "[CV] END learning_rate=0.1, max_depth=10, n_estimators=100, scale_pos_weight=10; total time=  12.8s\n",
      "[CV] END learning_rate=0.1, max_depth=10, n_estimators=100, scale_pos_weight=10; total time=  13.5s\n",
      "[CV] END learning_rate=0.1, max_depth=10, n_estimators=100, scale_pos_weight=10; total time=  13.3s\n",
      "[CV] END learning_rate=0.1, max_depth=10, n_estimators=100, scale_pos_weight=10; total time=  13.4s\n",
      "[CV] END learning_rate=0.1, max_depth=10, n_estimators=100, scale_pos_weight=10; total time=  13.1s\n",
      "[CV] END learning_rate=0.1, max_depth=10, n_estimators=100, scale_pos_weight=50; total time=  13.9s\n",
      "[CV] END learning_rate=0.1, max_depth=10, n_estimators=100, scale_pos_weight=50; total time=  13.9s\n",
      "[CV] END learning_rate=0.1, max_depth=10, n_estimators=100, scale_pos_weight=50; total time=  14.3s\n",
      "[CV] END learning_rate=0.1, max_depth=10, n_estimators=100, scale_pos_weight=50; total time=  15.1s\n",
      "[CV] END learning_rate=0.1, max_depth=10, n_estimators=100, scale_pos_weight=50; total time=  14.2s\n",
      "[CV] END learning_rate=0.1, max_depth=10, n_estimators=200, scale_pos_weight=1; total time=  23.9s\n",
      "[CV] END learning_rate=0.1, max_depth=10, n_estimators=200, scale_pos_weight=1; total time=  25.0s\n",
      "[CV] END learning_rate=0.1, max_depth=10, n_estimators=200, scale_pos_weight=1; total time=  25.7s\n",
      "[CV] END learning_rate=0.1, max_depth=10, n_estimators=200, scale_pos_weight=1; total time=  24.5s\n",
      "[CV] END learning_rate=0.1, max_depth=10, n_estimators=200, scale_pos_weight=1; total time=  25.2s\n",
      "[CV] END learning_rate=0.1, max_depth=10, n_estimators=200, scale_pos_weight=10; total time=  25.7s\n",
      "[CV] END learning_rate=0.1, max_depth=10, n_estimators=200, scale_pos_weight=10; total time=  26.4s\n",
      "[CV] END learning_rate=0.1, max_depth=10, n_estimators=200, scale_pos_weight=10; total time=  26.2s\n",
      "[CV] END learning_rate=0.1, max_depth=10, n_estimators=200, scale_pos_weight=10; total time=  32.9s\n",
      "[CV] END learning_rate=0.1, max_depth=10, n_estimators=200, scale_pos_weight=10; total time=  32.1s\n",
      "[CV] END learning_rate=0.1, max_depth=15, n_estimators=50, scale_pos_weight=1; total time=  20.4s\n",
      "[CV] END learning_rate=0.1, max_depth=10, n_estimators=200, scale_pos_weight=50; total time=  33.1s\n",
      "[CV] END learning_rate=0.1, max_depth=10, n_estimators=200, scale_pos_weight=50; total time=  32.7s\n",
      "[CV] END learning_rate=0.1, max_depth=10, n_estimators=200, scale_pos_weight=50; total time=  37.0s\n",
      "[CV] END learning_rate=0.1, max_depth=15, n_estimators=50, scale_pos_weight=1; total time=  20.4s\n",
      "[CV] END learning_rate=0.1, max_depth=10, n_estimators=200, scale_pos_weight=50; total time=  43.0s\n",
      "[CV] END learning_rate=0.1, max_depth=10, n_estimators=200, scale_pos_weight=50; total time=  44.4s\n",
      "[CV] END learning_rate=0.1, max_depth=15, n_estimators=50, scale_pos_weight=1; total time=  24.4s\n",
      "[CV] END learning_rate=0.1, max_depth=15, n_estimators=50, scale_pos_weight=1; total time=  25.3s\n",
      "[CV] END learning_rate=0.1, max_depth=15, n_estimators=50, scale_pos_weight=1; total time=  23.6s\n",
      "[CV] END learning_rate=0.1, max_depth=15, n_estimators=50, scale_pos_weight=10; total time=  25.5s\n",
      "[CV] END learning_rate=0.1, max_depth=15, n_estimators=50, scale_pos_weight=10; total time=  25.3s\n",
      "[CV] END learning_rate=0.1, max_depth=15, n_estimators=50, scale_pos_weight=10; total time=  21.0s\n",
      "[CV] END learning_rate=0.1, max_depth=15, n_estimators=50, scale_pos_weight=10; total time=  21.6s\n",
      "[CV] END learning_rate=0.1, max_depth=15, n_estimators=50, scale_pos_weight=10; total time=  21.2s\n",
      "[CV] END learning_rate=0.1, max_depth=15, n_estimators=50, scale_pos_weight=50; total time=  22.3s\n",
      "[CV] END learning_rate=0.1, max_depth=15, n_estimators=50, scale_pos_weight=50; total time=  21.0s\n",
      "[CV] END learning_rate=0.1, max_depth=15, n_estimators=50, scale_pos_weight=50; total time=  22.5s\n",
      "[CV] END learning_rate=0.1, max_depth=15, n_estimators=50, scale_pos_weight=50; total time=  22.0s\n",
      "[CV] END learning_rate=0.1, max_depth=15, n_estimators=50, scale_pos_weight=50; total time=  20.3s\n",
      "[CV] END learning_rate=0.1, max_depth=15, n_estimators=100, scale_pos_weight=1; total time=  23.2s\n",
      "[CV] END learning_rate=0.1, max_depth=15, n_estimators=100, scale_pos_weight=1; total time=  21.6s\n",
      "[CV] END learning_rate=0.1, max_depth=15, n_estimators=100, scale_pos_weight=1; total time=  21.7s\n",
      "[CV] END learning_rate=0.1, max_depth=15, n_estimators=100, scale_pos_weight=1; total time=  20.9s\n",
      "[CV] END learning_rate=0.1, max_depth=15, n_estimators=100, scale_pos_weight=1; total time=  20.8s\n",
      "[CV] END learning_rate=0.1, max_depth=15, n_estimators=100, scale_pos_weight=10; total time=  23.6s\n",
      "[CV] END learning_rate=0.1, max_depth=15, n_estimators=100, scale_pos_weight=10; total time=  22.3s\n",
      "[CV] END learning_rate=0.1, max_depth=15, n_estimators=100, scale_pos_weight=10; total time=  23.3s\n",
      "[CV] END learning_rate=0.1, max_depth=15, n_estimators=100, scale_pos_weight=10; total time=  23.2s\n",
      "[CV] END learning_rate=0.1, max_depth=15, n_estimators=100, scale_pos_weight=10; total time=  22.1s\n",
      "[CV] END learning_rate=0.1, max_depth=15, n_estimators=100, scale_pos_weight=50; total time=  26.8s\n",
      "[CV] END learning_rate=0.1, max_depth=15, n_estimators=100, scale_pos_weight=50; total time=  28.7s\n",
      "[CV] END learning_rate=0.1, max_depth=15, n_estimators=100, scale_pos_weight=50; total time=  28.3s\n",
      "[CV] END learning_rate=0.1, max_depth=15, n_estimators=100, scale_pos_weight=50; total time=  29.3s\n",
      "[CV] END learning_rate=0.1, max_depth=15, n_estimators=100, scale_pos_weight=50; total time=  29.9s\n",
      "[CV] END learning_rate=0.1, max_depth=15, n_estimators=200, scale_pos_weight=1; total time=  41.4s\n",
      "[CV] END learning_rate=0.1, max_depth=15, n_estimators=200, scale_pos_weight=1; total time=  43.5s\n",
      "[CV] END learning_rate=0.1, max_depth=15, n_estimators=200, scale_pos_weight=1; total time=  43.3s\n",
      "[CV] END learning_rate=0.1, max_depth=15, n_estimators=200, scale_pos_weight=1; total time=  38.9s\n",
      "[CV] END learning_rate=0.1, max_depth=15, n_estimators=200, scale_pos_weight=1; total time=  38.8s\n",
      "[CV] END learning_rate=0.1, max_depth=15, n_estimators=200, scale_pos_weight=10; total time=  46.9s\n",
      "[CV] END learning_rate=0.1, max_depth=15, n_estimators=200, scale_pos_weight=10; total time=  50.8s\n",
      "[CV] END learning_rate=0.1, max_depth=15, n_estimators=200, scale_pos_weight=10; total time=  50.6s\n",
      "[CV] END learning_rate=0.2, max_depth=5, n_estimators=50, scale_pos_weight=1; total time=   6.9s\n",
      "[CV] END learning_rate=0.2, max_depth=5, n_estimators=50, scale_pos_weight=1; total time=   7.5s\n",
      "[CV] END learning_rate=0.1, max_depth=15, n_estimators=200, scale_pos_weight=10; total time=  52.5s\n",
      "[CV] END learning_rate=0.2, max_depth=5, n_estimators=50, scale_pos_weight=1; total time=   7.9s\n",
      "[CV] END learning_rate=0.2, max_depth=5, n_estimators=50, scale_pos_weight=1; total time=   7.7s\n",
      "[CV] END learning_rate=0.1, max_depth=15, n_estimators=200, scale_pos_weight=10; total time=  54.1s\n",
      "[CV] END learning_rate=0.2, max_depth=5, n_estimators=50, scale_pos_weight=1; total time=   6.9s\n",
      "[CV] END learning_rate=0.1, max_depth=15, n_estimators=200, scale_pos_weight=50; total time=  56.1s\n",
      "[CV] END learning_rate=0.2, max_depth=5, n_estimators=50, scale_pos_weight=10; total time=   6.6s\n",
      "[CV] END learning_rate=0.1, max_depth=15, n_estimators=200, scale_pos_weight=50; total time=  55.8s\n",
      "[CV] END learning_rate=0.2, max_depth=5, n_estimators=50, scale_pos_weight=10; total time=   6.2s\n",
      "[CV] END learning_rate=0.1, max_depth=15, n_estimators=200, scale_pos_weight=50; total time=  56.6s\n",
      "[CV] END learning_rate=0.2, max_depth=5, n_estimators=50, scale_pos_weight=10; total time=   5.8s\n",
      "[CV] END learning_rate=0.2, max_depth=5, n_estimators=50, scale_pos_weight=10; total time=   5.7s\n",
      "[CV] END learning_rate=0.2, max_depth=5, n_estimators=50, scale_pos_weight=10; total time=   5.5s\n",
      "[CV] END learning_rate=0.2, max_depth=5, n_estimators=50, scale_pos_weight=50; total time=   6.4s\n",
      "[CV] END learning_rate=0.1, max_depth=15, n_estimators=200, scale_pos_weight=50; total time=  52.7s\n",
      "[CV] END learning_rate=0.2, max_depth=5, n_estimators=50, scale_pos_weight=50; total time=   6.1s\n",
      "[CV] END learning_rate=0.2, max_depth=5, n_estimators=50, scale_pos_weight=50; total time=   6.0s\n",
      "[CV] END learning_rate=0.2, max_depth=5, n_estimators=50, scale_pos_weight=50; total time=   5.9s\n",
      "[CV] END learning_rate=0.2, max_depth=5, n_estimators=50, scale_pos_weight=50; total time=   5.6s\n",
      "[CV] END learning_rate=0.1, max_depth=15, n_estimators=200, scale_pos_weight=50; total time=  46.7s\n",
      "[CV] END learning_rate=0.2, max_depth=5, n_estimators=100, scale_pos_weight=1; total time=   8.2s\n",
      "[CV] END learning_rate=0.2, max_depth=5, n_estimators=100, scale_pos_weight=1; total time=   8.5s\n",
      "[CV] END learning_rate=0.2, max_depth=5, n_estimators=100, scale_pos_weight=1; total time=   9.0s\n",
      "[CV] END learning_rate=0.2, max_depth=5, n_estimators=100, scale_pos_weight=1; total time=   8.8s\n",
      "[CV] END learning_rate=0.2, max_depth=5, n_estimators=100, scale_pos_weight=1; total time=   9.1s\n",
      "[CV] END learning_rate=0.2, max_depth=5, n_estimators=100, scale_pos_weight=10; total time=  10.0s\n",
      "[CV] END learning_rate=0.2, max_depth=5, n_estimators=100, scale_pos_weight=10; total time=   9.9s\n",
      "[CV] END learning_rate=0.2, max_depth=5, n_estimators=100, scale_pos_weight=10; total time=  10.1s\n",
      "[CV] END learning_rate=0.2, max_depth=5, n_estimators=100, scale_pos_weight=10; total time=  10.3s\n",
      "[CV] END learning_rate=0.2, max_depth=5, n_estimators=100, scale_pos_weight=10; total time=  10.9s\n",
      "[CV] END learning_rate=0.2, max_depth=5, n_estimators=100, scale_pos_weight=50; total time=  11.3s\n",
      "[CV] END learning_rate=0.2, max_depth=5, n_estimators=100, scale_pos_weight=50; total time=  11.1s\n",
      "[CV] END learning_rate=0.2, max_depth=5, n_estimators=100, scale_pos_weight=50; total time=  12.7s\n",
      "[CV] END learning_rate=0.2, max_depth=5, n_estimators=100, scale_pos_weight=50; total time=  10.6s\n",
      "[CV] END learning_rate=0.2, max_depth=5, n_estimators=100, scale_pos_weight=50; total time=  10.9s\n",
      "[CV] END learning_rate=0.2, max_depth=5, n_estimators=200, scale_pos_weight=1; total time=  15.9s\n",
      "[CV] END learning_rate=0.2, max_depth=5, n_estimators=200, scale_pos_weight=1; total time=  15.5s\n",
      "[CV] END learning_rate=0.2, max_depth=5, n_estimators=200, scale_pos_weight=1; total time=  15.1s\n",
      "[CV] END learning_rate=0.2, max_depth=5, n_estimators=200, scale_pos_weight=1; total time=  14.4s\n",
      "[CV] END learning_rate=0.2, max_depth=5, n_estimators=200, scale_pos_weight=1; total time=  15.0s\n",
      "[CV] END learning_rate=0.2, max_depth=5, n_estimators=200, scale_pos_weight=10; total time=  16.1s\n",
      "[CV] END learning_rate=0.2, max_depth=5, n_estimators=200, scale_pos_weight=10; total time=  15.4s\n",
      "[CV] END learning_rate=0.2, max_depth=5, n_estimators=200, scale_pos_weight=10; total time=  15.0s\n",
      "[CV] END learning_rate=0.2, max_depth=5, n_estimators=200, scale_pos_weight=10; total time=  15.0s\n",
      "[CV] END learning_rate=0.2, max_depth=5, n_estimators=200, scale_pos_weight=10; total time=  14.7s\n",
      "[CV] END learning_rate=0.2, max_depth=10, n_estimators=50, scale_pos_weight=1; total time=   7.5s\n",
      "[CV] END learning_rate=0.2, max_depth=5, n_estimators=200, scale_pos_weight=50; total time=  14.7s\n",
      "[CV] END learning_rate=0.2, max_depth=5, n_estimators=200, scale_pos_weight=50; total time=  15.2s\n",
      "[CV] END learning_rate=0.2, max_depth=5, n_estimators=200, scale_pos_weight=50; total time=  14.9s\n",
      "[CV] END learning_rate=0.2, max_depth=10, n_estimators=50, scale_pos_weight=1; total time=   7.8s\n",
      "[CV] END learning_rate=0.2, max_depth=5, n_estimators=200, scale_pos_weight=50; total time=  15.7s\n",
      "[CV] END learning_rate=0.2, max_depth=5, n_estimators=200, scale_pos_weight=50; total time=  15.9s\n",
      "[CV] END learning_rate=0.2, max_depth=10, n_estimators=50, scale_pos_weight=1; total time=   8.2s\n",
      "[CV] END learning_rate=0.2, max_depth=10, n_estimators=50, scale_pos_weight=1; total time=   8.7s\n",
      "[CV] END learning_rate=0.2, max_depth=10, n_estimators=50, scale_pos_weight=1; total time=   8.1s\n",
      "[CV] END learning_rate=0.2, max_depth=10, n_estimators=50, scale_pos_weight=10; total time=   7.8s\n",
      "[CV] END learning_rate=0.2, max_depth=10, n_estimators=50, scale_pos_weight=10; total time=   7.6s\n",
      "[CV] END learning_rate=0.2, max_depth=10, n_estimators=50, scale_pos_weight=10; total time=   7.6s\n",
      "[CV] END learning_rate=0.2, max_depth=10, n_estimators=50, scale_pos_weight=10; total time=   7.6s\n",
      "[CV] END learning_rate=0.2, max_depth=10, n_estimators=50, scale_pos_weight=10; total time=   7.9s\n",
      "[CV] END learning_rate=0.2, max_depth=10, n_estimators=50, scale_pos_weight=50; total time=   8.4s\n",
      "[CV] END learning_rate=0.2, max_depth=10, n_estimators=50, scale_pos_weight=50; total time=   8.8s\n",
      "[CV] END learning_rate=0.2, max_depth=10, n_estimators=50, scale_pos_weight=50; total time=   8.0s\n",
      "[CV] END learning_rate=0.2, max_depth=10, n_estimators=50, scale_pos_weight=50; total time=   8.3s\n",
      "[CV] END learning_rate=0.2, max_depth=10, n_estimators=50, scale_pos_weight=50; total time=   8.3s\n",
      "[CV] END learning_rate=0.2, max_depth=10, n_estimators=100, scale_pos_weight=1; total time=  11.8s\n",
      "[CV] END learning_rate=0.2, max_depth=10, n_estimators=100, scale_pos_weight=1; total time=  12.8s\n",
      "[CV] END learning_rate=0.2, max_depth=10, n_estimators=100, scale_pos_weight=1; total time=  12.5s\n",
      "[CV] END learning_rate=0.2, max_depth=10, n_estimators=100, scale_pos_weight=1; total time=  13.3s\n",
      "[CV] END learning_rate=0.2, max_depth=10, n_estimators=100, scale_pos_weight=1; total time=  13.2s\n",
      "[CV] END learning_rate=0.2, max_depth=10, n_estimators=100, scale_pos_weight=10; total time=  13.8s\n",
      "[CV] END learning_rate=0.2, max_depth=10, n_estimators=100, scale_pos_weight=10; total time=  14.1s\n",
      "[CV] END learning_rate=0.2, max_depth=10, n_estimators=100, scale_pos_weight=10; total time=  14.1s\n",
      "[CV] END learning_rate=0.2, max_depth=10, n_estimators=100, scale_pos_weight=10; total time=  13.2s\n",
      "[CV] END learning_rate=0.2, max_depth=10, n_estimators=100, scale_pos_weight=10; total time=  13.4s\n",
      "[CV] END learning_rate=0.2, max_depth=10, n_estimators=100, scale_pos_weight=50; total time=  13.4s\n",
      "[CV] END learning_rate=0.2, max_depth=10, n_estimators=100, scale_pos_weight=50; total time=  14.0s\n",
      "[CV] END learning_rate=0.2, max_depth=10, n_estimators=100, scale_pos_weight=50; total time=  13.8s\n",
      "[CV] END learning_rate=0.2, max_depth=10, n_estimators=100, scale_pos_weight=50; total time=  14.0s\n",
      "[CV] END learning_rate=0.2, max_depth=10, n_estimators=100, scale_pos_weight=50; total time=  13.7s\n",
      "[CV] END learning_rate=0.2, max_depth=10, n_estimators=200, scale_pos_weight=1; total time=  23.5s\n",
      "[CV] END learning_rate=0.2, max_depth=10, n_estimators=200, scale_pos_weight=1; total time=  22.3s\n",
      "[CV] END learning_rate=0.2, max_depth=10, n_estimators=200, scale_pos_weight=1; total time=  23.8s\n",
      "[CV] END learning_rate=0.2, max_depth=10, n_estimators=200, scale_pos_weight=1; total time=  23.1s\n",
      "[CV] END learning_rate=0.2, max_depth=10, n_estimators=200, scale_pos_weight=10; total time=  23.1s\n",
      "[CV] END learning_rate=0.2, max_depth=10, n_estimators=200, scale_pos_weight=1; total time=  25.1s\n",
      "[CV] END learning_rate=0.2, max_depth=10, n_estimators=200, scale_pos_weight=10; total time=  24.6s\n",
      "[CV] END learning_rate=0.2, max_depth=10, n_estimators=200, scale_pos_weight=10; total time=  24.4s\n",
      "[CV] END learning_rate=0.2, max_depth=10, n_estimators=200, scale_pos_weight=10; total time=  25.6s\n",
      "[CV] END learning_rate=0.2, max_depth=15, n_estimators=50, scale_pos_weight=1; total time=  13.0s\n",
      "[CV] END learning_rate=0.2, max_depth=10, n_estimators=200, scale_pos_weight=10; total time=  26.4s\n",
      "[CV] END learning_rate=0.2, max_depth=10, n_estimators=200, scale_pos_weight=50; total time=  25.6s\n",
      "[CV] END learning_rate=0.2, max_depth=10, n_estimators=200, scale_pos_weight=50; total time=  26.8s\n",
      "[CV] END learning_rate=0.2, max_depth=10, n_estimators=200, scale_pos_weight=50; total time=  26.0s\n",
      "[CV] END learning_rate=0.2, max_depth=10, n_estimators=200, scale_pos_weight=50; total time=  26.0s\n",
      "[CV] END learning_rate=0.2, max_depth=10, n_estimators=200, scale_pos_weight=50; total time=  25.8s\n",
      "[CV] END learning_rate=0.2, max_depth=15, n_estimators=50, scale_pos_weight=1; total time=  12.6s\n",
      "[CV] END learning_rate=0.2, max_depth=15, n_estimators=50, scale_pos_weight=1; total time=  11.7s\n",
      "[CV] END learning_rate=0.2, max_depth=15, n_estimators=50, scale_pos_weight=1; total time=  11.0s\n",
      "[CV] END learning_rate=0.2, max_depth=15, n_estimators=50, scale_pos_weight=1; total time=  11.0s\n",
      "[CV] END learning_rate=0.2, max_depth=15, n_estimators=50, scale_pos_weight=10; total time=  12.3s\n",
      "[CV] END learning_rate=0.2, max_depth=15, n_estimators=50, scale_pos_weight=10; total time=  12.8s\n",
      "[CV] END learning_rate=0.2, max_depth=15, n_estimators=50, scale_pos_weight=10; total time=  12.1s\n",
      "[CV] END learning_rate=0.2, max_depth=15, n_estimators=50, scale_pos_weight=10; total time=  12.9s\n",
      "[CV] END learning_rate=0.2, max_depth=15, n_estimators=50, scale_pos_weight=10; total time=  13.3s\n",
      "[CV] END learning_rate=0.2, max_depth=15, n_estimators=50, scale_pos_weight=50; total time=  13.1s\n",
      "[CV] END learning_rate=0.2, max_depth=15, n_estimators=50, scale_pos_weight=50; total time=  13.2s\n",
      "[CV] END learning_rate=0.2, max_depth=15, n_estimators=50, scale_pos_weight=50; total time=  13.2s\n",
      "[CV] END learning_rate=0.2, max_depth=15, n_estimators=50, scale_pos_weight=50; total time=  12.5s\n",
      "[CV] END learning_rate=0.2, max_depth=15, n_estimators=50, scale_pos_weight=50; total time=  14.3s\n",
      "[CV] END learning_rate=0.2, max_depth=15, n_estimators=100, scale_pos_weight=1; total time=  20.1s\n",
      "[CV] END learning_rate=0.2, max_depth=15, n_estimators=100, scale_pos_weight=1; total time=  20.1s\n",
      "[CV] END learning_rate=0.2, max_depth=15, n_estimators=100, scale_pos_weight=1; total time=  20.7s\n",
      "[CV] END learning_rate=0.2, max_depth=15, n_estimators=100, scale_pos_weight=1; total time=  22.0s\n",
      "[CV] END learning_rate=0.2, max_depth=15, n_estimators=100, scale_pos_weight=1; total time=  21.9s\n",
      "[CV] END learning_rate=0.2, max_depth=15, n_estimators=100, scale_pos_weight=10; total time=  24.4s\n",
      "[CV] END learning_rate=0.2, max_depth=15, n_estimators=100, scale_pos_weight=10; total time=  24.9s\n",
      "[CV] END learning_rate=0.2, max_depth=15, n_estimators=100, scale_pos_weight=10; total time=  25.2s\n",
      "[CV] END learning_rate=0.2, max_depth=15, n_estimators=100, scale_pos_weight=10; total time=  24.1s\n",
      "[CV] END learning_rate=0.2, max_depth=15, n_estimators=100, scale_pos_weight=10; total time=  23.9s\n",
      "[CV] END learning_rate=0.2, max_depth=15, n_estimators=100, scale_pos_weight=50; total time=  23.5s\n",
      "[CV] END learning_rate=0.2, max_depth=15, n_estimators=100, scale_pos_weight=50; total time=  25.1s\n",
      "[CV] END learning_rate=0.2, max_depth=15, n_estimators=100, scale_pos_weight=50; total time=  23.4s\n",
      "[CV] END learning_rate=0.2, max_depth=15, n_estimators=100, scale_pos_weight=50; total time=  23.2s\n",
      "[CV] END learning_rate=0.2, max_depth=15, n_estimators=100, scale_pos_weight=50; total time=  24.4s\n",
      "[CV] END learning_rate=0.2, max_depth=15, n_estimators=200, scale_pos_weight=1; total time=  33.8s\n",
      "[CV] END learning_rate=0.2, max_depth=15, n_estimators=200, scale_pos_weight=1; total time=  34.5s\n",
      "[CV] END learning_rate=0.2, max_depth=15, n_estimators=200, scale_pos_weight=1; total time=  35.2s\n",
      "[CV] END learning_rate=0.2, max_depth=15, n_estimators=200, scale_pos_weight=1; total time=  35.4s\n",
      "[CV] END learning_rate=0.2, max_depth=15, n_estimators=200, scale_pos_weight=1; total time=  35.0s\n",
      "[CV] END learning_rate=0.2, max_depth=15, n_estimators=200, scale_pos_weight=10; total time=  39.2s\n",
      "[CV] END learning_rate=0.2, max_depth=15, n_estimators=200, scale_pos_weight=10; total time=  39.5s\n",
      "[CV] END learning_rate=0.2, max_depth=15, n_estimators=200, scale_pos_weight=10; total time=  38.0s\n",
      "[CV] END learning_rate=0.2, max_depth=15, n_estimators=200, scale_pos_weight=10; total time=  35.3s\n",
      "[CV] END learning_rate=0.2, max_depth=15, n_estimators=200, scale_pos_weight=10; total time=  33.8s\n",
      "[CV] END learning_rate=0.2, max_depth=15, n_estimators=200, scale_pos_weight=50; total time=  34.5s\n",
      "[CV] END learning_rate=0.2, max_depth=15, n_estimators=200, scale_pos_weight=50; total time=  34.4s\n",
      "[CV] END learning_rate=0.2, max_depth=15, n_estimators=200, scale_pos_weight=50; total time=  34.1s\n",
      "[CV] END learning_rate=0.2, max_depth=15, n_estimators=200, scale_pos_weight=50; total time=  28.9s\n",
      "[CV] END learning_rate=0.2, max_depth=15, n_estimators=200, scale_pos_weight=50; total time=  26.9s\n",
      "Best Hyperparameters: {'learning_rate': 0.1, 'max_depth': 15, 'n_estimators': 200, 'scale_pos_weight': 1}\n",
      "Best F1 Score from GridSearchCV: 0.9517544745442411\n"
     ]
    },
    {
     "ename": "ValueError",
     "evalue": "feature_names mismatch: ['gender', 'number_diagnoses', 'metformin', 'repaglinide', 'nateglinide', 'chlorpropamide', 'glimepiride', 'acetohexamide', 'glipizide', 'glyburide', 'tolbutamide', 'pioglitazone', 'rosiglitazone', 'acarbose', 'miglitol', 'troglitazone', 'tolazamide', 'insulin', 'glyburide-metformin', 'glipizide-metformin', 'glimepiride-pioglitazone', 'metformin-rosiglitazone', 'metformin-pioglitazone', 'change', 'diabetesMed', 'admission_type_id_1', 'admission_type_id_2', 'admission_type_id_3', 'admission_type_id_4', 'admission_type_id_5', 'admission_type_id_7', 'discharge_disposition_id_1', 'discharge_disposition_id_2', 'discharge_disposition_id_3', 'discharge_disposition_id_7', 'discharge_disposition_id_11', 'discharge_disposition_id_12', 'discharge_disposition_id_13', 'discharge_disposition_id_16', 'discharge_disposition_id_18', 'discharge_disposition_id_22', 'admission_source_id_1', 'admission_source_id_4', 'admission_source_id_5', 'admission_source_id_7', 'admission_source_id_8', 'admission_source_id_9', 'admission_source_id_11', 'diag1_1', 'diag1_2', 'diag1_3', 'diag1_4', 'diag1_5', 'diag1_6', 'diag1_7', 'diag1_8', 'diag1_9', 'diag1_10', 'diag1_11', 'diag1_12', 'diag1_13', 'diag1_14', 'diag1_16', 'diag1_17', 'diag1_18', 'diag2_1', 'diag2_2', 'diag2_3', 'diag2_4', 'diag2_5', 'diag2_6', 'diag2_7', 'diag2_8', 'diag2_9', 'diag2_10', 'diag2_11', 'diag2_12', 'diag2_13', 'diag2_14', 'diag2_16', 'diag2_17', 'diag2_18', 'diag3_1', 'diag3_2', 'diag3_3', 'diag3_4', 'diag3_5', 'diag3_6', 'diag3_7', 'diag3_8', 'diag3_9', 'diag3_10', 'diag3_11', 'diag3_12', 'diag3_13', 'diag3_14', 'diag3_16', 'diag3_17', 'diag3_18', 'race_AfricanAmerican', 'race_Asian', 'race_Caucasian', 'race_Hispanic', 'race_Other', 'race_unknown', 'age', 'time_in_hospital', 'num_lab_procedures', 'num_procedures', 'num_medications', 'number_outpatient_log', 'number_emergency_log', 'number_inpatient_log'] ['gender', 'age', 'time_in_hospital', 'num_lab_procedures', 'num_procedures', 'num_medications', 'number_diagnoses', 'metformin', 'repaglinide', 'nateglinide', 'chlorpropamide', 'glimepiride', 'acetohexamide', 'glipizide', 'glyburide', 'tolbutamide', 'pioglitazone', 'rosiglitazone', 'acarbose', 'miglitol', 'troglitazone', 'tolazamide', 'insulin', 'glyburide-metformin', 'glipizide-metformin', 'glimepiride-pioglitazone', 'metformin-rosiglitazone', 'metformin-pioglitazone', 'change', 'diabetesMed', 'admission_type_id_1', 'admission_type_id_2', 'admission_type_id_3', 'admission_type_id_4', 'admission_type_id_5', 'admission_type_id_7', 'discharge_disposition_id_1', 'discharge_disposition_id_2', 'discharge_disposition_id_3', 'discharge_disposition_id_7', 'discharge_disposition_id_11', 'discharge_disposition_id_12', 'discharge_disposition_id_13', 'discharge_disposition_id_16', 'discharge_disposition_id_18', 'discharge_disposition_id_22', 'admission_source_id_1', 'admission_source_id_4', 'admission_source_id_5', 'admission_source_id_7', 'admission_source_id_8', 'admission_source_id_9', 'admission_source_id_11', 'diag1_1', 'diag1_2', 'diag1_3', 'diag1_4', 'diag1_5', 'diag1_6', 'diag1_7', 'diag1_8', 'diag1_9', 'diag1_10', 'diag1_11', 'diag1_12', 'diag1_13', 'diag1_14', 'diag1_16', 'diag1_17', 'diag1_18', 'diag2_1', 'diag2_2', 'diag2_3', 'diag2_4', 'diag2_5', 'diag2_6', 'diag2_7', 'diag2_8', 'diag2_9', 'diag2_10', 'diag2_11', 'diag2_12', 'diag2_13', 'diag2_14', 'diag2_16', 'diag2_17', 'diag2_18', 'diag3_1', 'diag3_2', 'diag3_3', 'diag3_4', 'diag3_5', 'diag3_6', 'diag3_7', 'diag3_8', 'diag3_9', 'diag3_10', 'diag3_11', 'diag3_12', 'diag3_13', 'diag3_14', 'diag3_16', 'diag3_17', 'diag3_18', 'race_AfricanAmerican', 'race_Asian', 'race_Caucasian', 'race_Hispanic', 'race_Other', 'race_unknown', 'number_outpatient_log', 'number_emergency_log', 'number_inpatient_log']",
     "output_type": "error",
     "traceback": [
      "\u001b[0;31m---------------------------------------------------------------------------\u001b[0m",
      "\u001b[0;31mValueError\u001b[0m                                Traceback (most recent call last)",
      "Cell \u001b[0;32mIn[125], line 39\u001b[0m\n\u001b[1;32m     36\u001b[0m best_model\u001b[38;5;241m.\u001b[39mfit(X_train_smenn, y_train_smenn)\n\u001b[1;32m     38\u001b[0m \u001b[38;5;66;03m# Make predictions on the test set\u001b[39;00m\n\u001b[0;32m---> 39\u001b[0m y_pred_prob \u001b[38;5;241m=\u001b[39m best_model\u001b[38;5;241m.\u001b[39mpredict_proba(X_test)[:, \u001b[38;5;241m1\u001b[39m]  \u001b[38;5;66;03m# Get probabilities for the positive class\u001b[39;00m\n\u001b[1;32m     41\u001b[0m \u001b[38;5;66;03m# Adjust threshold\u001b[39;00m\n\u001b[1;32m     42\u001b[0m threshold \u001b[38;5;241m=\u001b[39m \u001b[38;5;241m0.7\u001b[39m\n",
      "File \u001b[0;32m/opt/anaconda3/lib/python3.11/site-packages/xgboost/sklearn.py:1644\u001b[0m, in \u001b[0;36mXGBClassifier.predict_proba\u001b[0;34m(self, X, validate_features, base_margin, iteration_range)\u001b[0m\n\u001b[1;32m   1642\u001b[0m     class_prob \u001b[38;5;241m=\u001b[39m softmax(raw_predt, axis\u001b[38;5;241m=\u001b[39m\u001b[38;5;241m1\u001b[39m)\n\u001b[1;32m   1643\u001b[0m     \u001b[38;5;28;01mreturn\u001b[39;00m class_prob\n\u001b[0;32m-> 1644\u001b[0m class_probs \u001b[38;5;241m=\u001b[39m \u001b[38;5;28msuper\u001b[39m()\u001b[38;5;241m.\u001b[39mpredict(\n\u001b[1;32m   1645\u001b[0m     X\u001b[38;5;241m=\u001b[39mX,\n\u001b[1;32m   1646\u001b[0m     validate_features\u001b[38;5;241m=\u001b[39mvalidate_features,\n\u001b[1;32m   1647\u001b[0m     base_margin\u001b[38;5;241m=\u001b[39mbase_margin,\n\u001b[1;32m   1648\u001b[0m     iteration_range\u001b[38;5;241m=\u001b[39miteration_range,\n\u001b[1;32m   1649\u001b[0m )\n\u001b[1;32m   1650\u001b[0m \u001b[38;5;28;01mreturn\u001b[39;00m _cls_predict_proba(\u001b[38;5;28mself\u001b[39m\u001b[38;5;241m.\u001b[39mn_classes_, class_probs, np\u001b[38;5;241m.\u001b[39mvstack)\n",
      "File \u001b[0;32m/opt/anaconda3/lib/python3.11/site-packages/xgboost/sklearn.py:1186\u001b[0m, in \u001b[0;36mXGBModel.predict\u001b[0;34m(self, X, output_margin, validate_features, base_margin, iteration_range)\u001b[0m\n\u001b[1;32m   1184\u001b[0m \u001b[38;5;28;01mif\u001b[39;00m \u001b[38;5;28mself\u001b[39m\u001b[38;5;241m.\u001b[39m_can_use_inplace_predict():\n\u001b[1;32m   1185\u001b[0m     \u001b[38;5;28;01mtry\u001b[39;00m:\n\u001b[0;32m-> 1186\u001b[0m         predts \u001b[38;5;241m=\u001b[39m \u001b[38;5;28mself\u001b[39m\u001b[38;5;241m.\u001b[39mget_booster()\u001b[38;5;241m.\u001b[39minplace_predict(\n\u001b[1;32m   1187\u001b[0m             data\u001b[38;5;241m=\u001b[39mX,\n\u001b[1;32m   1188\u001b[0m             iteration_range\u001b[38;5;241m=\u001b[39miteration_range,\n\u001b[1;32m   1189\u001b[0m             predict_type\u001b[38;5;241m=\u001b[39m\u001b[38;5;124m\"\u001b[39m\u001b[38;5;124mmargin\u001b[39m\u001b[38;5;124m\"\u001b[39m \u001b[38;5;28;01mif\u001b[39;00m output_margin \u001b[38;5;28;01melse\u001b[39;00m \u001b[38;5;124m\"\u001b[39m\u001b[38;5;124mvalue\u001b[39m\u001b[38;5;124m\"\u001b[39m,\n\u001b[1;32m   1190\u001b[0m             missing\u001b[38;5;241m=\u001b[39m\u001b[38;5;28mself\u001b[39m\u001b[38;5;241m.\u001b[39mmissing,\n\u001b[1;32m   1191\u001b[0m             base_margin\u001b[38;5;241m=\u001b[39mbase_margin,\n\u001b[1;32m   1192\u001b[0m             validate_features\u001b[38;5;241m=\u001b[39mvalidate_features,\n\u001b[1;32m   1193\u001b[0m         )\n\u001b[1;32m   1194\u001b[0m         \u001b[38;5;28;01mif\u001b[39;00m _is_cupy_alike(predts):\n\u001b[1;32m   1195\u001b[0m             \u001b[38;5;28;01mimport\u001b[39;00m \u001b[38;5;21;01mcupy\u001b[39;00m  \u001b[38;5;66;03m# pylint: disable=import-error\u001b[39;00m\n",
      "File \u001b[0;32m/opt/anaconda3/lib/python3.11/site-packages/xgboost/core.py:2514\u001b[0m, in \u001b[0;36mBooster.inplace_predict\u001b[0;34m(self, data, iteration_range, predict_type, missing, validate_features, base_margin, strict_shape)\u001b[0m\n\u001b[1;32m   2512\u001b[0m     data, fns, _ \u001b[38;5;241m=\u001b[39m _transform_pandas_df(data, enable_categorical)\n\u001b[1;32m   2513\u001b[0m     \u001b[38;5;28;01mif\u001b[39;00m validate_features:\n\u001b[0;32m-> 2514\u001b[0m         \u001b[38;5;28mself\u001b[39m\u001b[38;5;241m.\u001b[39m_validate_features(fns)\n\u001b[1;32m   2515\u001b[0m \u001b[38;5;28;01mif\u001b[39;00m _is_list(data) \u001b[38;5;129;01mor\u001b[39;00m _is_tuple(data):\n\u001b[1;32m   2516\u001b[0m     data \u001b[38;5;241m=\u001b[39m np\u001b[38;5;241m.\u001b[39marray(data)\n",
      "File \u001b[0;32m/opt/anaconda3/lib/python3.11/site-packages/xgboost/core.py:3079\u001b[0m, in \u001b[0;36mBooster._validate_features\u001b[0;34m(self, feature_names)\u001b[0m\n\u001b[1;32m   3073\u001b[0m \u001b[38;5;28;01mif\u001b[39;00m my_missing:\n\u001b[1;32m   3074\u001b[0m     msg \u001b[38;5;241m+\u001b[39m\u001b[38;5;241m=\u001b[39m (\n\u001b[1;32m   3075\u001b[0m         \u001b[38;5;124m\"\u001b[39m\u001b[38;5;130;01m\\n\u001b[39;00m\u001b[38;5;124mtraining data did not have the following fields: \u001b[39m\u001b[38;5;124m\"\u001b[39m\n\u001b[1;32m   3076\u001b[0m         \u001b[38;5;241m+\u001b[39m \u001b[38;5;124m\"\u001b[39m\u001b[38;5;124m, \u001b[39m\u001b[38;5;124m\"\u001b[39m\u001b[38;5;241m.\u001b[39mjoin(\u001b[38;5;28mstr\u001b[39m(s) \u001b[38;5;28;01mfor\u001b[39;00m s \u001b[38;5;129;01min\u001b[39;00m my_missing)\n\u001b[1;32m   3077\u001b[0m     )\n\u001b[0;32m-> 3079\u001b[0m \u001b[38;5;28;01mraise\u001b[39;00m \u001b[38;5;167;01mValueError\u001b[39;00m(msg\u001b[38;5;241m.\u001b[39mformat(\u001b[38;5;28mself\u001b[39m\u001b[38;5;241m.\u001b[39mfeature_names, feature_names))\n",
      "\u001b[0;31mValueError\u001b[0m: feature_names mismatch: ['gender', 'number_diagnoses', 'metformin', 'repaglinide', 'nateglinide', 'chlorpropamide', 'glimepiride', 'acetohexamide', 'glipizide', 'glyburide', 'tolbutamide', 'pioglitazone', 'rosiglitazone', 'acarbose', 'miglitol', 'troglitazone', 'tolazamide', 'insulin', 'glyburide-metformin', 'glipizide-metformin', 'glimepiride-pioglitazone', 'metformin-rosiglitazone', 'metformin-pioglitazone', 'change', 'diabetesMed', 'admission_type_id_1', 'admission_type_id_2', 'admission_type_id_3', 'admission_type_id_4', 'admission_type_id_5', 'admission_type_id_7', 'discharge_disposition_id_1', 'discharge_disposition_id_2', 'discharge_disposition_id_3', 'discharge_disposition_id_7', 'discharge_disposition_id_11', 'discharge_disposition_id_12', 'discharge_disposition_id_13', 'discharge_disposition_id_16', 'discharge_disposition_id_18', 'discharge_disposition_id_22', 'admission_source_id_1', 'admission_source_id_4', 'admission_source_id_5', 'admission_source_id_7', 'admission_source_id_8', 'admission_source_id_9', 'admission_source_id_11', 'diag1_1', 'diag1_2', 'diag1_3', 'diag1_4', 'diag1_5', 'diag1_6', 'diag1_7', 'diag1_8', 'diag1_9', 'diag1_10', 'diag1_11', 'diag1_12', 'diag1_13', 'diag1_14', 'diag1_16', 'diag1_17', 'diag1_18', 'diag2_1', 'diag2_2', 'diag2_3', 'diag2_4', 'diag2_5', 'diag2_6', 'diag2_7', 'diag2_8', 'diag2_9', 'diag2_10', 'diag2_11', 'diag2_12', 'diag2_13', 'diag2_14', 'diag2_16', 'diag2_17', 'diag2_18', 'diag3_1', 'diag3_2', 'diag3_3', 'diag3_4', 'diag3_5', 'diag3_6', 'diag3_7', 'diag3_8', 'diag3_9', 'diag3_10', 'diag3_11', 'diag3_12', 'diag3_13', 'diag3_14', 'diag3_16', 'diag3_17', 'diag3_18', 'race_AfricanAmerican', 'race_Asian', 'race_Caucasian', 'race_Hispanic', 'race_Other', 'race_unknown', 'age', 'time_in_hospital', 'num_lab_procedures', 'num_procedures', 'num_medications', 'number_outpatient_log', 'number_emergency_log', 'number_inpatient_log'] ['gender', 'age', 'time_in_hospital', 'num_lab_procedures', 'num_procedures', 'num_medications', 'number_diagnoses', 'metformin', 'repaglinide', 'nateglinide', 'chlorpropamide', 'glimepiride', 'acetohexamide', 'glipizide', 'glyburide', 'tolbutamide', 'pioglitazone', 'rosiglitazone', 'acarbose', 'miglitol', 'troglitazone', 'tolazamide', 'insulin', 'glyburide-metformin', 'glipizide-metformin', 'glimepiride-pioglitazone', 'metformin-rosiglitazone', 'metformin-pioglitazone', 'change', 'diabetesMed', 'admission_type_id_1', 'admission_type_id_2', 'admission_type_id_3', 'admission_type_id_4', 'admission_type_id_5', 'admission_type_id_7', 'discharge_disposition_id_1', 'discharge_disposition_id_2', 'discharge_disposition_id_3', 'discharge_disposition_id_7', 'discharge_disposition_id_11', 'discharge_disposition_id_12', 'discharge_disposition_id_13', 'discharge_disposition_id_16', 'discharge_disposition_id_18', 'discharge_disposition_id_22', 'admission_source_id_1', 'admission_source_id_4', 'admission_source_id_5', 'admission_source_id_7', 'admission_source_id_8', 'admission_source_id_9', 'admission_source_id_11', 'diag1_1', 'diag1_2', 'diag1_3', 'diag1_4', 'diag1_5', 'diag1_6', 'diag1_7', 'diag1_8', 'diag1_9', 'diag1_10', 'diag1_11', 'diag1_12', 'diag1_13', 'diag1_14', 'diag1_16', 'diag1_17', 'diag1_18', 'diag2_1', 'diag2_2', 'diag2_3', 'diag2_4', 'diag2_5', 'diag2_6', 'diag2_7', 'diag2_8', 'diag2_9', 'diag2_10', 'diag2_11', 'diag2_12', 'diag2_13', 'diag2_14', 'diag2_16', 'diag2_17', 'diag2_18', 'diag3_1', 'diag3_2', 'diag3_3', 'diag3_4', 'diag3_5', 'diag3_6', 'diag3_7', 'diag3_8', 'diag3_9', 'diag3_10', 'diag3_11', 'diag3_12', 'diag3_13', 'diag3_14', 'diag3_16', 'diag3_17', 'diag3_18', 'race_AfricanAmerican', 'race_Asian', 'race_Caucasian', 'race_Hispanic', 'race_Other', 'race_unknown', 'number_outpatient_log', 'number_emergency_log', 'number_inpatient_log']"
     ]
    }
   ],
   "source": [
    "from sklearn.model_selection import StratifiedKFold, GridSearchCV\n",
    "skf = StratifiedKFold(n_splits=5, shuffle=True, random_state=42)\n",
    "\n",
    "# Initialize your XGBoost model\n",
    "xgb_classifier = xgb.XGBClassifier(\n",
    "    n_estimators=100,\n",
    "    max_depth=10,\n",
    "    learning_rate=0.1,\n",
    "    random_state=42\n",
    ")\n",
    "\n",
    "param_grid = {\n",
    "    'n_estimators': [50, 100, 200],\n",
    "    'max_depth': [5, 10, 15],\n",
    "    'learning_rate': [0.01, 0.1, 0.2],\n",
    "    'scale_pos_weight': [1, 10, 50],  # Adjusting for imbalance\n",
    "}\n",
    "\n",
    "grid_search = GridSearchCV(\n",
    "    estimator=xgb_classifier,\n",
    "    param_grid=param_grid,\n",
    "    scoring='f1',\n",
    "    cv=skf,\n",
    "    n_jobs=-1,\n",
    "    verbose=2\n",
    ")\n",
    "# Fit the grid search\n",
    "grid_search.fit(X_train_smote, y_train_smote)\n",
    "\n",
    "# Best hyperparameters and F1 score\n",
    "print(\"Best Hyperparameters:\", grid_search.best_params_)\n",
    "print(\"Best F1 Score from GridSearchCV:\", grid_search.best_score_)\n",
    "\n",
    "\n",
    "\n",
    "\n"
   ]
  },
  {
   "cell_type": "code",
   "execution_count": 20,
   "metadata": {},
   "outputs": [
    {
     "name": "stdout",
     "output_type": "stream",
     "text": [
      "Results With Oversampling Smote + ENN\n",
      "XGBoost Accuracy: 0.43\n",
      "Kappa Score: 0.06\n",
      "F1 Score: 0.24\n",
      "Recall: 0.8\n",
      "Precision: 0.14\n"
     ]
    },
    {
     "data": {
      "image/png": "[encoded data removed]",
      "text/plain": [
       "<Figure size 800x600 with 1 Axes>"
      ]
     },
     "metadata": {},
     "output_type": "display_data"
    }
   ],
   "source": [
    "#Best Hyperparameters: {'learning_rate': 0.1, 'max_depth': 15, 'n_estimators': 200, 'scale_pos_weight': 1}\n",
    "#Best F1 Score from GridSearchCV: 0.9517544745442411\n",
    "# Train the model with the best parameters on the full training data\n",
    "# Initialize and train the XGBoost classifier\n",
    "xgb_classifier = xgb.XGBClassifier(n_estimators=200, max_depth=15, n_jobs=-1, learning_rate=0.1, random_state=42,scale_pos_weight=1)\n",
    "xgb_classifier.fit(X_train_smenn, y_train_smenn)\n",
    "\n",
    "# Make predictions using the model\n",
    "y_pred = xgb_classifier.predict(X_test_scaled)\n",
    "\n",
    "# Calculate evaluation metrics\n",
    "accuracy = accuracy_score(y_test, y_pred)\n",
    "kappa = cohen_kappa_score(y_test, y_pred)\n",
    "f1 = f1_score(y_test, y_pred)\n",
    "recall = recall_score(y_test, y_pred)\n",
    "precision = precision_score(y_test, y_pred)\n",
    "\n",
    "# Print the evaluation metrics\n",
    "print(\"Results With Oversampling Smote + ENN\")\n",
    "print(\"XGBoost Accuracy:\", round(accuracy,2))\n",
    "print(\"Kappa Score:\", round(kappa,2))\n",
    "print(\"F1 Score:\", round(f1,2))\n",
    "print(\"Recall:\", round(recall,2))\n",
    "print(\"Precision:\", round(precision,2))\n",
    "\n",
    "#print confusion matrix\n",
    "cm = confusion_matrix(y_test, y_pred)\n",
    "\n",
    "# Create a heatmap for the confusion matrix\n",
    "plt.figure(figsize=(8, 6))\n",
    "sns.set_theme(style=\"whitegrid\")\n",
    "sns.heatmap(cm, annot=True, fmt=\"d\", cmap=\"Blues\", cbar=False)\n",
    "plt.title('Confusion Matrix - XGBoost with SMOTE')\n",
    "plt.xlabel('Predicted')\n",
    "plt.ylabel('Actual')\n",
    "plt.show()"
   ]
  },
  {
   "cell_type": "code",
   "execution_count": 129,
   "metadata": {},
   "outputs": [
    {
     "name": "stdout",
     "output_type": "stream",
     "text": [
      "Fitting 5 folds for each of 50 candidates, totalling 250 fits\n"
     ]
    },
    {
     "name": "stderr",
     "output_type": "stream",
     "text": [
      "/opt/anaconda3/lib/python3.11/site-packages/xgboost/core.py:158: UserWarning: [17:02:30] WARNING: /Users/runner/work/xgboost/xgboost/src/learner.cc:740: \n",
      "Parameters: { \"use_label_encoder\" } are not used.\n",
      "\n",
      "  warnings.warn(smsg, UserWarning)\n",
      "/opt/anaconda3/lib/python3.11/site-packages/xgboost/core.py:158: UserWarning: [17:02:30] WARNING: /Users/runner/work/xgboost/xgboost/src/learner.cc:740: \n",
      "Parameters: { \"use_label_encoder\" } are not used.\n",
      "\n",
      "  warnings.warn(smsg, UserWarning)\n",
      "/opt/anaconda3/lib/python3.11/site-packages/xgboost/core.py:158: UserWarning: [17:02:30] WARNING: /Users/runner/work/xgboost/xgboost/src/learner.cc:740: \n",
      "Parameters: { \"use_label_encoder\" } are not used.\n",
      "\n",
      "  warnings.warn(smsg, UserWarning)\n",
      "/opt/anaconda3/lib/python3.11/site-packages/xgboost/core.py:158: UserWarning: [17:02:30] WARNING: /Users/runner/work/xgboost/xgboost/src/learner.cc:740: \n",
      "Parameters: { \"use_label_encoder\" } are not used.\n",
      "\n",
      "  warnings.warn(smsg, UserWarning)\n",
      "/opt/anaconda3/lib/python3.11/site-packages/xgboost/core.py:158: UserWarning: [17:02:30] WARNING: /Users/runner/work/xgboost/xgboost/src/learner.cc:740: \n",
      "Parameters: { \"use_label_encoder\" } are not used.\n",
      "\n",
      "  warnings.warn(smsg, UserWarning)\n",
      "/opt/anaconda3/lib/python3.11/site-packages/xgboost/core.py:158: UserWarning: [17:02:30] WARNING: /Users/runner/work/xgboost/xgboost/src/learner.cc:740: \n",
      "Parameters: { \"use_label_encoder\" } are not used.\n",
      "\n",
      "  warnings.warn(smsg, UserWarning)\n",
      "/opt/anaconda3/lib/python3.11/site-packages/xgboost/core.py:158: UserWarning: [17:02:30] WARNING: /Users/runner/work/xgboost/xgboost/src/learner.cc:740: \n",
      "Parameters: { \"use_label_encoder\" } are not used.\n",
      "\n",
      "  warnings.warn(smsg, UserWarning)\n",
      "/opt/anaconda3/lib/python3.11/site-packages/xgboost/core.py:158: UserWarning: [17:02:31] WARNING: /Users/runner/work/xgboost/xgboost/src/learner.cc:740: \n",
      "Parameters: { \"use_label_encoder\" } are not used.\n",
      "\n",
      "  warnings.warn(smsg, UserWarning)\n"
     ]
    },
    {
     "name": "stdout",
     "output_type": "stream",
     "text": [
      "[CV] END colsample_bytree=1.0, gamma=0, learning_rate=0.1, max_depth=10, min_child_weight=10, n_estimators=300, scale_pos_weight=10, subsample=0.8; total time=  32.8s\n",
      "[CV] END colsample_bytree=1.0, gamma=0, learning_rate=0.1, max_depth=10, min_child_weight=10, n_estimators=300, scale_pos_weight=10, subsample=0.8; total time=  34.0s\n",
      "[CV] END colsample_bytree=1.0, gamma=0, learning_rate=0.1, max_depth=10, min_child_weight=10, n_estimators=300, scale_pos_weight=10, subsample=0.8; total time=  33.9s\n"
     ]
    },
    {
     "name": "stderr",
     "output_type": "stream",
     "text": [
      "/opt/anaconda3/lib/python3.11/site-packages/xgboost/core.py:158: UserWarning: [17:03:03] WARNING: /Users/runner/work/xgboost/xgboost/src/learner.cc:740: \n",
      "Parameters: { \"use_label_encoder\" } are not used.\n",
      "\n",
      "  warnings.warn(smsg, UserWarning)\n"
     ]
    },
    {
     "name": "stdout",
     "output_type": "stream",
     "text": [
      "[CV] END colsample_bytree=1.0, gamma=0.2, learning_rate=0.2, max_depth=20, min_child_weight=5, n_estimators=300, scale_pos_weight=1, subsample=0.8; total time=  36.7s\n"
     ]
    },
    {
     "name": "stderr",
     "output_type": "stream",
     "text": [
      "/opt/anaconda3/lib/python3.11/site-packages/xgboost/core.py:158: UserWarning: [17:03:04] WARNING: /Users/runner/work/xgboost/xgboost/src/learner.cc:740: \n",
      "Parameters: { \"use_label_encoder\" } are not used.\n",
      "\n",
      "  warnings.warn(smsg, UserWarning)\n",
      "/opt/anaconda3/lib/python3.11/site-packages/xgboost/core.py:158: UserWarning: [17:03:05] WARNING: /Users/runner/work/xgboost/xgboost/src/learner.cc:740: \n",
      "Parameters: { \"use_label_encoder\" } are not used.\n",
      "\n",
      "  warnings.warn(smsg, UserWarning)\n",
      "/opt/anaconda3/lib/python3.11/site-packages/xgboost/core.py:158: UserWarning: [17:03:07] WARNING: /Users/runner/work/xgboost/xgboost/src/learner.cc:740: \n",
      "Parameters: { \"use_label_encoder\" } are not used.\n",
      "\n",
      "  warnings.warn(smsg, UserWarning)\n"
     ]
    },
    {
     "name": "stdout",
     "output_type": "stream",
     "text": [
      "[CV] END colsample_bytree=1.0, gamma=0.2, learning_rate=0.2, max_depth=20, min_child_weight=5, n_estimators=300, scale_pos_weight=1, subsample=0.8; total time=  46.4s\n",
      "[CV] END colsample_bytree=1.0, gamma=0.2, learning_rate=0.2, max_depth=20, min_child_weight=5, n_estimators=300, scale_pos_weight=1, subsample=0.8; total time=  47.8s\n",
      "[CV] END colsample_bytree=1.0, gamma=0.2, learning_rate=0.2, max_depth=20, min_child_weight=5, n_estimators=300, scale_pos_weight=1, subsample=0.8; total time=  48.5s\n",
      "[CV] END colsample_bytree=1.0, gamma=0.2, learning_rate=0.2, max_depth=20, min_child_weight=5, n_estimators=300, scale_pos_weight=1, subsample=0.8; total time=  49.0s\n"
     ]
    },
    {
     "name": "stderr",
     "output_type": "stream",
     "text": [
      "/opt/anaconda3/lib/python3.11/site-packages/xgboost/core.py:158: UserWarning: [17:03:16] WARNING: /Users/runner/work/xgboost/xgboost/src/learner.cc:740: \n",
      "Parameters: { \"use_label_encoder\" } are not used.\n",
      "\n",
      "  warnings.warn(smsg, UserWarning)\n",
      "/opt/anaconda3/lib/python3.11/site-packages/xgboost/core.py:158: UserWarning: [17:03:19] WARNING: /Users/runner/work/xgboost/xgboost/src/learner.cc:740: \n",
      "Parameters: { \"use_label_encoder\" } are not used.\n",
      "\n",
      "  warnings.warn(smsg, UserWarning)\n",
      "/opt/anaconda3/lib/python3.11/site-packages/xgboost/core.py:158: UserWarning: [17:03:19] WARNING: /Users/runner/work/xgboost/xgboost/src/learner.cc:740: \n",
      "Parameters: { \"use_label_encoder\" } are not used.\n",
      "\n",
      "  warnings.warn(smsg, UserWarning)\n",
      "/opt/anaconda3/lib/python3.11/site-packages/xgboost/core.py:158: UserWarning: [17:03:20] WARNING: /Users/runner/work/xgboost/xgboost/src/learner.cc:740: \n",
      "Parameters: { \"use_label_encoder\" } are not used.\n",
      "\n",
      "  warnings.warn(smsg, UserWarning)\n"
     ]
    },
    {
     "name": "stdout",
     "output_type": "stream",
     "text": [
      "[CV] END colsample_bytree=1.0, gamma=0, learning_rate=0.1, max_depth=10, min_child_weight=10, n_estimators=300, scale_pos_weight=10, subsample=0.8; total time=  33.5s\n"
     ]
    },
    {
     "name": "stderr",
     "output_type": "stream",
     "text": [
      "/opt/anaconda3/lib/python3.11/site-packages/xgboost/core.py:158: UserWarning: [17:03:37] WARNING: /Users/runner/work/xgboost/xgboost/src/learner.cc:740: \n",
      "Parameters: { \"use_label_encoder\" } are not used.\n",
      "\n",
      "  warnings.warn(smsg, UserWarning)\n"
     ]
    },
    {
     "name": "stdout",
     "output_type": "stream",
     "text": [
      "[CV] END colsample_bytree=1.0, gamma=0, learning_rate=0.1, max_depth=10, min_child_weight=10, n_estimators=300, scale_pos_weight=10, subsample=0.8; total time=  35.4s\n"
     ]
    },
    {
     "name": "stderr",
     "output_type": "stream",
     "text": [
      "/opt/anaconda3/lib/python3.11/site-packages/xgboost/core.py:158: UserWarning: [17:03:40] WARNING: /Users/runner/work/xgboost/xgboost/src/learner.cc:740: \n",
      "Parameters: { \"use_label_encoder\" } are not used.\n",
      "\n",
      "  warnings.warn(smsg, UserWarning)\n"
     ]
    },
    {
     "name": "stdout",
     "output_type": "stream",
     "text": [
      "[CV] END colsample_bytree=1.0, gamma=0, learning_rate=0.2, max_depth=15, min_child_weight=10, n_estimators=200, scale_pos_weight=20, subsample=1.0; total time=  29.8s\n"
     ]
    },
    {
     "name": "stderr",
     "output_type": "stream",
     "text": [
      "/opt/anaconda3/lib/python3.11/site-packages/xgboost/core.py:158: UserWarning: [17:03:49] WARNING: /Users/runner/work/xgboost/xgboost/src/learner.cc:740: \n",
      "Parameters: { \"use_label_encoder\" } are not used.\n",
      "\n",
      "  warnings.warn(smsg, UserWarning)\n"
     ]
    },
    {
     "name": "stdout",
     "output_type": "stream",
     "text": [
      "[CV] END colsample_bytree=1.0, gamma=0, learning_rate=0.1, max_depth=20, min_child_weight=10, n_estimators=300, scale_pos_weight=20, subsample=1.0; total time=  48.2s\n"
     ]
    },
    {
     "name": "stderr",
     "output_type": "stream",
     "text": [
      "/opt/anaconda3/lib/python3.11/site-packages/xgboost/core.py:158: UserWarning: [17:03:53] WARNING: /Users/runner/work/xgboost/xgboost/src/learner.cc:740: \n",
      "Parameters: { \"use_label_encoder\" } are not used.\n",
      "\n",
      "  warnings.warn(smsg, UserWarning)\n"
     ]
    },
    {
     "name": "stdout",
     "output_type": "stream",
     "text": [
      "[CV] END colsample_bytree=1.0, gamma=0, learning_rate=0.1, max_depth=20, min_child_weight=10, n_estimators=300, scale_pos_weight=20, subsample=1.0; total time=  56.8s\n"
     ]
    },
    {
     "name": "stderr",
     "output_type": "stream",
     "text": [
      "/opt/anaconda3/lib/python3.11/site-packages/xgboost/core.py:158: UserWarning: [17:04:04] WARNING: /Users/runner/work/xgboost/xgboost/src/learner.cc:740: \n",
      "Parameters: { \"use_label_encoder\" } are not used.\n",
      "\n",
      "  warnings.warn(smsg, UserWarning)\n"
     ]
    },
    {
     "name": "stdout",
     "output_type": "stream",
     "text": [
      "[CV] END colsample_bytree=1.0, gamma=0, learning_rate=0.2, max_depth=15, min_child_weight=10, n_estimators=200, scale_pos_weight=20, subsample=1.0; total time=  31.7s\n"
     ]
    },
    {
     "name": "stderr",
     "output_type": "stream",
     "text": [
      "/opt/anaconda3/lib/python3.11/site-packages/xgboost/core.py:158: UserWarning: [17:04:09] WARNING: /Users/runner/work/xgboost/xgboost/src/learner.cc:740: \n",
      "Parameters: { \"use_label_encoder\" } are not used.\n",
      "\n",
      "  warnings.warn(smsg, UserWarning)\n"
     ]
    },
    {
     "name": "stdout",
     "output_type": "stream",
     "text": [
      "[CV] END colsample_bytree=1.0, gamma=0, learning_rate=0.2, max_depth=15, min_child_weight=10, n_estimators=200, scale_pos_weight=20, subsample=1.0; total time=  32.2s\n"
     ]
    },
    {
     "name": "stderr",
     "output_type": "stream",
     "text": [
      "/opt/anaconda3/lib/python3.11/site-packages/xgboost/core.py:158: UserWarning: [17:04:12] WARNING: /Users/runner/work/xgboost/xgboost/src/learner.cc:740: \n",
      "Parameters: { \"use_label_encoder\" } are not used.\n",
      "\n",
      "  warnings.warn(smsg, UserWarning)\n"
     ]
    },
    {
     "name": "stdout",
     "output_type": "stream",
     "text": [
      "[CV] END colsample_bytree=1.0, gamma=0, learning_rate=0.1, max_depth=20, min_child_weight=10, n_estimators=300, scale_pos_weight=20, subsample=1.0; total time=  58.6s\n",
      "[CV] END colsample_bytree=1.0, gamma=0, learning_rate=0.1, max_depth=20, min_child_weight=10, n_estimators=300, scale_pos_weight=20, subsample=1.0; total time=  57.5s\n",
      "[CV] END colsample_bytree=1.0, gamma=0, learning_rate=0.1, max_depth=20, min_child_weight=10, n_estimators=300, scale_pos_weight=20, subsample=1.0; total time=  58.9s\n"
     ]
    },
    {
     "name": "stderr",
     "output_type": "stream",
     "text": [
      "/opt/anaconda3/lib/python3.11/site-packages/xgboost/core.py:158: UserWarning: [17:04:15] WARNING: /Users/runner/work/xgboost/xgboost/src/learner.cc:740: \n",
      "Parameters: { \"use_label_encoder\" } are not used.\n",
      "\n",
      "  warnings.warn(smsg, UserWarning)\n",
      "/opt/anaconda3/lib/python3.11/site-packages/xgboost/core.py:158: UserWarning: [17:04:17] WARNING: /Users/runner/work/xgboost/xgboost/src/learner.cc:740: \n",
      "Parameters: { \"use_label_encoder\" } are not used.\n",
      "\n",
      "  warnings.warn(smsg, UserWarning)\n",
      "/opt/anaconda3/lib/python3.11/site-packages/xgboost/core.py:158: UserWarning: [17:04:17] WARNING: /Users/runner/work/xgboost/xgboost/src/learner.cc:740: \n",
      "Parameters: { \"use_label_encoder\" } are not used.\n",
      "\n",
      "  warnings.warn(smsg, UserWarning)\n"
     ]
    },
    {
     "name": "stdout",
     "output_type": "stream",
     "text": [
      "[CV] END colsample_bytree=1.0, gamma=0, learning_rate=0.2, max_depth=15, min_child_weight=10, n_estimators=200, scale_pos_weight=20, subsample=1.0; total time=  32.1s\n"
     ]
    },
    {
     "name": "stderr",
     "output_type": "stream",
     "text": [
      "/opt/anaconda3/lib/python3.11/site-packages/xgboost/core.py:158: UserWarning: [17:04:22] WARNING: /Users/runner/work/xgboost/xgboost/src/learner.cc:740: \n",
      "Parameters: { \"use_label_encoder\" } are not used.\n",
      "\n",
      "  warnings.warn(smsg, UserWarning)\n"
     ]
    },
    {
     "name": "stdout",
     "output_type": "stream",
     "text": [
      "[CV] END colsample_bytree=1.0, gamma=0, learning_rate=0.2, max_depth=15, min_child_weight=10, n_estimators=200, scale_pos_weight=20, subsample=1.0; total time=  32.4s\n"
     ]
    },
    {
     "name": "stderr",
     "output_type": "stream",
     "text": [
      "/opt/anaconda3/lib/python3.11/site-packages/xgboost/core.py:158: UserWarning: [17:04:26] WARNING: /Users/runner/work/xgboost/xgboost/src/learner.cc:740: \n",
      "Parameters: { \"use_label_encoder\" } are not used.\n",
      "\n",
      "  warnings.warn(smsg, UserWarning)\n"
     ]
    },
    {
     "name": "stdout",
     "output_type": "stream",
     "text": [
      "[CV] END colsample_bytree=1.0, gamma=0.2, learning_rate=0.1, max_depth=15, min_child_weight=5, n_estimators=100, scale_pos_weight=20, subsample=0.8; total time=  18.9s\n"
     ]
    },
    {
     "name": "stderr",
     "output_type": "stream",
     "text": [
      "/opt/anaconda3/lib/python3.11/site-packages/xgboost/core.py:158: UserWarning: [17:04:37] WARNING: /Users/runner/work/xgboost/xgboost/src/learner.cc:740: \n",
      "Parameters: { \"use_label_encoder\" } are not used.\n",
      "\n",
      "  warnings.warn(smsg, UserWarning)\n"
     ]
    },
    {
     "name": "stdout",
     "output_type": "stream",
     "text": [
      "[CV] END colsample_bytree=1.0, gamma=0.2, learning_rate=0.1, max_depth=15, min_child_weight=5, n_estimators=100, scale_pos_weight=20, subsample=0.8; total time=  19.4s\n",
      "[CV] END colsample_bytree=0.8, gamma=0, learning_rate=0.05, max_depth=20, min_child_weight=10, n_estimators=200, scale_pos_weight=10, subsample=1.0; total time=  37.4s\n"
     ]
    },
    {
     "name": "stderr",
     "output_type": "stream",
     "text": [
      "/opt/anaconda3/lib/python3.11/site-packages/xgboost/core.py:158: UserWarning: [17:04:42] WARNING: /Users/runner/work/xgboost/xgboost/src/learner.cc:740: \n",
      "Parameters: { \"use_label_encoder\" } are not used.\n",
      "\n",
      "  warnings.warn(smsg, UserWarning)\n",
      "/opt/anaconda3/lib/python3.11/site-packages/xgboost/core.py:158: UserWarning: [17:04:42] WARNING: /Users/runner/work/xgboost/xgboost/src/learner.cc:740: \n",
      "Parameters: { \"use_label_encoder\" } are not used.\n",
      "\n",
      "  warnings.warn(smsg, UserWarning)\n"
     ]
    },
    {
     "name": "stdout",
     "output_type": "stream",
     "text": [
      "[CV] END colsample_bytree=1.0, gamma=0.2, learning_rate=0.1, max_depth=15, min_child_weight=5, n_estimators=100, scale_pos_weight=20, subsample=0.8; total time=  22.2s\n"
     ]
    },
    {
     "name": "stderr",
     "output_type": "stream",
     "text": [
      "/opt/anaconda3/lib/python3.11/site-packages/xgboost/core.py:158: UserWarning: [17:04:49] WARNING: /Users/runner/work/xgboost/xgboost/src/learner.cc:740: \n",
      "Parameters: { \"use_label_encoder\" } are not used.\n",
      "\n",
      "  warnings.warn(smsg, UserWarning)\n"
     ]
    },
    {
     "name": "stdout",
     "output_type": "stream",
     "text": [
      "[CV] END colsample_bytree=0.8, gamma=0, learning_rate=0.05, max_depth=20, min_child_weight=10, n_estimators=200, scale_pos_weight=10, subsample=1.0; total time=  43.7s\n",
      "[CV] END colsample_bytree=0.8, gamma=0, learning_rate=0.05, max_depth=20, min_child_weight=10, n_estimators=200, scale_pos_weight=10, subsample=1.0; total time=  42.3s\n"
     ]
    },
    {
     "name": "stderr",
     "output_type": "stream",
     "text": [
      "/opt/anaconda3/lib/python3.11/site-packages/xgboost/core.py:158: UserWarning: [17:04:53] WARNING: /Users/runner/work/xgboost/xgboost/src/learner.cc:740: \n",
      "Parameters: { \"use_label_encoder\" } are not used.\n",
      "\n",
      "  warnings.warn(smsg, UserWarning)\n"
     ]
    },
    {
     "name": "stdout",
     "output_type": "stream",
     "text": [
      "[CV] END colsample_bytree=1.0, gamma=0.2, learning_rate=0.1, max_depth=15, min_child_weight=5, n_estimators=100, scale_pos_weight=20, subsample=0.8; total time=  21.1s\n"
     ]
    },
    {
     "name": "stderr",
     "output_type": "stream",
     "text": [
      "/opt/anaconda3/lib/python3.11/site-packages/xgboost/core.py:158: UserWarning: [17:04:56] WARNING: /Users/runner/work/xgboost/xgboost/src/learner.cc:740: \n",
      "Parameters: { \"use_label_encoder\" } are not used.\n",
      "\n",
      "  warnings.warn(smsg, UserWarning)\n"
     ]
    },
    {
     "name": "stdout",
     "output_type": "stream",
     "text": [
      "[CV] END colsample_bytree=0.8, gamma=0, learning_rate=0.05, max_depth=20, min_child_weight=10, n_estimators=200, scale_pos_weight=10, subsample=1.0; total time=  43.2s\n",
      "[CV] END colsample_bytree=0.8, gamma=0, learning_rate=0.05, max_depth=20, min_child_weight=10, n_estimators=200, scale_pos_weight=10, subsample=1.0; total time=  42.8s\n"
     ]
    },
    {
     "name": "stderr",
     "output_type": "stream",
     "text": [
      "/opt/anaconda3/lib/python3.11/site-packages/xgboost/core.py:158: UserWarning: [17:04:58] WARNING: /Users/runner/work/xgboost/xgboost/src/learner.cc:740: \n",
      "Parameters: { \"use_label_encoder\" } are not used.\n",
      "\n",
      "  warnings.warn(smsg, UserWarning)\n",
      "/opt/anaconda3/lib/python3.11/site-packages/xgboost/core.py:158: UserWarning: [17:04:59] WARNING: /Users/runner/work/xgboost/xgboost/src/learner.cc:740: \n",
      "Parameters: { \"use_label_encoder\" } are not used.\n",
      "\n",
      "  warnings.warn(smsg, UserWarning)\n",
      "/opt/anaconda3/lib/python3.11/site-packages/xgboost/core.py:158: UserWarning: [17:05:00] WARNING: /Users/runner/work/xgboost/xgboost/src/learner.cc:740: \n",
      "Parameters: { \"use_label_encoder\" } are not used.\n",
      "\n",
      "  warnings.warn(smsg, UserWarning)\n"
     ]
    },
    {
     "name": "stdout",
     "output_type": "stream",
     "text": [
      "[CV] END colsample_bytree=1.0, gamma=0.2, learning_rate=0.1, max_depth=15, min_child_weight=5, n_estimators=100, scale_pos_weight=20, subsample=0.8; total time=  20.7s\n",
      "[CV] END colsample_bytree=0.8, gamma=0, learning_rate=0.1, max_depth=10, min_child_weight=5, n_estimators=200, scale_pos_weight=10, subsample=1.0; total time=  22.4s\n"
     ]
    },
    {
     "name": "stderr",
     "output_type": "stream",
     "text": [
      "/opt/anaconda3/lib/python3.11/site-packages/xgboost/core.py:158: UserWarning: [17:05:03] WARNING: /Users/runner/work/xgboost/xgboost/src/learner.cc:740: \n",
      "Parameters: { \"use_label_encoder\" } are not used.\n",
      "\n",
      "  warnings.warn(smsg, UserWarning)\n",
      "/opt/anaconda3/lib/python3.11/site-packages/xgboost/core.py:158: UserWarning: [17:05:05] WARNING: /Users/runner/work/xgboost/xgboost/src/learner.cc:740: \n",
      "Parameters: { \"use_label_encoder\" } are not used.\n",
      "\n",
      "  warnings.warn(smsg, UserWarning)\n"
     ]
    },
    {
     "name": "stdout",
     "output_type": "stream",
     "text": [
      "[CV] END colsample_bytree=0.8, gamma=0, learning_rate=0.1, max_depth=10, min_child_weight=5, n_estimators=200, scale_pos_weight=10, subsample=1.0; total time=  23.8s\n"
     ]
    },
    {
     "name": "stderr",
     "output_type": "stream",
     "text": [
      "/opt/anaconda3/lib/python3.11/site-packages/xgboost/core.py:158: UserWarning: [17:05:13] WARNING: /Users/runner/work/xgboost/xgboost/src/learner.cc:740: \n",
      "Parameters: { \"use_label_encoder\" } are not used.\n",
      "\n",
      "  warnings.warn(smsg, UserWarning)\n"
     ]
    },
    {
     "name": "stdout",
     "output_type": "stream",
     "text": [
      "[CV] END colsample_bytree=0.8, gamma=0, learning_rate=0.1, max_depth=10, min_child_weight=5, n_estimators=200, scale_pos_weight=10, subsample=1.0; total time=  24.3s\n",
      "[CV] END colsample_bytree=0.8, gamma=0, learning_rate=0.1, max_depth=10, min_child_weight=5, n_estimators=200, scale_pos_weight=10, subsample=1.0; total time=  23.8s\n",
      "[CV] END colsample_bytree=0.8, gamma=0, learning_rate=0.1, max_depth=10, min_child_weight=5, n_estimators=200, scale_pos_weight=10, subsample=1.0; total time=  22.6s\n"
     ]
    },
    {
     "name": "stderr",
     "output_type": "stream",
     "text": [
      "/opt/anaconda3/lib/python3.11/site-packages/xgboost/core.py:158: UserWarning: [17:05:19] WARNING: /Users/runner/work/xgboost/xgboost/src/learner.cc:740: \n",
      "Parameters: { \"use_label_encoder\" } are not used.\n",
      "\n",
      "  warnings.warn(smsg, UserWarning)\n",
      "/opt/anaconda3/lib/python3.11/site-packages/xgboost/core.py:158: UserWarning: [17:05:20] WARNING: /Users/runner/work/xgboost/xgboost/src/learner.cc:740: \n",
      "Parameters: { \"use_label_encoder\" } are not used.\n",
      "\n",
      "  warnings.warn(smsg, UserWarning)\n",
      "/opt/anaconda3/lib/python3.11/site-packages/xgboost/core.py:158: UserWarning: [17:05:20] WARNING: /Users/runner/work/xgboost/xgboost/src/learner.cc:740: \n",
      "Parameters: { \"use_label_encoder\" } are not used.\n",
      "\n",
      "  warnings.warn(smsg, UserWarning)\n"
     ]
    },
    {
     "name": "stdout",
     "output_type": "stream",
     "text": [
      "[CV] END colsample_bytree=0.8, gamma=0, learning_rate=0.01, max_depth=20, min_child_weight=10, n_estimators=100, scale_pos_weight=20, subsample=1.0; total time=  27.7s\n"
     ]
    },
    {
     "name": "stderr",
     "output_type": "stream",
     "text": [
      "/opt/anaconda3/lib/python3.11/site-packages/xgboost/core.py:158: UserWarning: [17:05:27] WARNING: /Users/runner/work/xgboost/xgboost/src/learner.cc:740: \n",
      "Parameters: { \"use_label_encoder\" } are not used.\n",
      "\n",
      "  warnings.warn(smsg, UserWarning)\n"
     ]
    },
    {
     "name": "stdout",
     "output_type": "stream",
     "text": [
      "[CV] END colsample_bytree=0.8, gamma=0, learning_rate=0.01, max_depth=20, min_child_weight=10, n_estimators=100, scale_pos_weight=20, subsample=1.0; total time=  30.9s\n"
     ]
    },
    {
     "name": "stderr",
     "output_type": "stream",
     "text": [
      "/opt/anaconda3/lib/python3.11/site-packages/xgboost/core.py:158: UserWarning: [17:05:31] WARNING: /Users/runner/work/xgboost/xgboost/src/learner.cc:740: \n",
      "Parameters: { \"use_label_encoder\" } are not used.\n",
      "\n",
      "  warnings.warn(smsg, UserWarning)\n"
     ]
    },
    {
     "name": "stdout",
     "output_type": "stream",
     "text": [
      "[CV] END colsample_bytree=0.8, gamma=0, learning_rate=0.01, max_depth=20, min_child_weight=10, n_estimators=100, scale_pos_weight=20, subsample=1.0; total time=  31.0s\n",
      "[CV] END colsample_bytree=0.8, gamma=0, learning_rate=0.01, max_depth=20, min_child_weight=10, n_estimators=100, scale_pos_weight=20, subsample=1.0; total time=  30.6s\n"
     ]
    },
    {
     "name": "stderr",
     "output_type": "stream",
     "text": [
      "/opt/anaconda3/lib/python3.11/site-packages/xgboost/core.py:158: UserWarning: [17:05:34] WARNING: /Users/runner/work/xgboost/xgboost/src/learner.cc:740: \n",
      "Parameters: { \"use_label_encoder\" } are not used.\n",
      "\n",
      "  warnings.warn(smsg, UserWarning)\n",
      "/opt/anaconda3/lib/python3.11/site-packages/xgboost/core.py:158: UserWarning: [17:05:36] WARNING: /Users/runner/work/xgboost/xgboost/src/learner.cc:740: \n",
      "Parameters: { \"use_label_encoder\" } are not used.\n",
      "\n",
      "  warnings.warn(smsg, UserWarning)\n"
     ]
    },
    {
     "name": "stdout",
     "output_type": "stream",
     "text": [
      "[CV] END colsample_bytree=0.8, gamma=0, learning_rate=0.01, max_depth=20, min_child_weight=10, n_estimators=100, scale_pos_weight=20, subsample=1.0; total time=  31.3s\n"
     ]
    },
    {
     "name": "stderr",
     "output_type": "stream",
     "text": [
      "/opt/anaconda3/lib/python3.11/site-packages/xgboost/core.py:158: UserWarning: [17:05:45] WARNING: /Users/runner/work/xgboost/xgboost/src/learner.cc:740: \n",
      "Parameters: { \"use_label_encoder\" } are not used.\n",
      "\n",
      "  warnings.warn(smsg, UserWarning)\n"
     ]
    },
    {
     "name": "stdout",
     "output_type": "stream",
     "text": [
      "[CV] END colsample_bytree=1.0, gamma=0, learning_rate=0.1, max_depth=10, min_child_weight=1, n_estimators=300, scale_pos_weight=20, subsample=0.8; total time=  33.6s\n"
     ]
    },
    {
     "name": "stderr",
     "output_type": "stream",
     "text": [
      "/opt/anaconda3/lib/python3.11/site-packages/xgboost/core.py:158: UserWarning: [17:05:52] WARNING: /Users/runner/work/xgboost/xgboost/src/learner.cc:740: \n",
      "Parameters: { \"use_label_encoder\" } are not used.\n",
      "\n",
      "  warnings.warn(smsg, UserWarning)\n"
     ]
    },
    {
     "name": "stdout",
     "output_type": "stream",
     "text": [
      "[CV] END colsample_bytree=1.0, gamma=0, learning_rate=0.1, max_depth=10, min_child_weight=1, n_estimators=300, scale_pos_weight=20, subsample=0.8; total time=  35.6s\n",
      "[CV] END colsample_bytree=1.0, gamma=0, learning_rate=0.1, max_depth=10, min_child_weight=1, n_estimators=300, scale_pos_weight=20, subsample=0.8; total time=  37.6s\n"
     ]
    },
    {
     "name": "stderr",
     "output_type": "stream",
     "text": [
      "/opt/anaconda3/lib/python3.11/site-packages/xgboost/core.py:158: UserWarning: [17:05:57] WARNING: /Users/runner/work/xgboost/xgboost/src/learner.cc:740: \n",
      "Parameters: { \"use_label_encoder\" } are not used.\n",
      "\n",
      "  warnings.warn(smsg, UserWarning)\n",
      "/opt/anaconda3/lib/python3.11/site-packages/xgboost/core.py:158: UserWarning: [17:05:58] WARNING: /Users/runner/work/xgboost/xgboost/src/learner.cc:740: \n",
      "Parameters: { \"use_label_encoder\" } are not used.\n",
      "\n",
      "  warnings.warn(smsg, UserWarning)\n"
     ]
    },
    {
     "name": "stdout",
     "output_type": "stream",
     "text": [
      "[CV] END colsample_bytree=1.0, gamma=0, learning_rate=0.1, max_depth=10, min_child_weight=1, n_estimators=300, scale_pos_weight=20, subsample=0.8; total time=  36.7s\n",
      "[CV] END colsample_bytree=0.8, gamma=0, learning_rate=0.1, max_depth=20, min_child_weight=5, n_estimators=200, scale_pos_weight=1, subsample=1.0; total time=  31.7s\n"
     ]
    },
    {
     "name": "stderr",
     "output_type": "stream",
     "text": [
      "/opt/anaconda3/lib/python3.11/site-packages/xgboost/core.py:158: UserWarning: [17:06:04] WARNING: /Users/runner/work/xgboost/xgboost/src/learner.cc:740: \n",
      "Parameters: { \"use_label_encoder\" } are not used.\n",
      "\n",
      "  warnings.warn(smsg, UserWarning)\n"
     ]
    },
    {
     "name": "stdout",
     "output_type": "stream",
     "text": [
      "[CV] END colsample_bytree=1.0, gamma=0, learning_rate=0.1, max_depth=10, min_child_weight=1, n_estimators=300, scale_pos_weight=20, subsample=0.8; total time=  37.2s\n"
     ]
    },
    {
     "name": "stderr",
     "output_type": "stream",
     "text": [
      "/opt/anaconda3/lib/python3.11/site-packages/xgboost/core.py:158: UserWarning: [17:06:07] WARNING: /Users/runner/work/xgboost/xgboost/src/learner.cc:740: \n",
      "Parameters: { \"use_label_encoder\" } are not used.\n",
      "\n",
      "  warnings.warn(smsg, UserWarning)\n",
      "/opt/anaconda3/lib/python3.11/site-packages/xgboost/core.py:158: UserWarning: [17:06:09] WARNING: /Users/runner/work/xgboost/xgboost/src/learner.cc:740: \n",
      "Parameters: { \"use_label_encoder\" } are not used.\n",
      "\n",
      "  warnings.warn(smsg, UserWarning)\n"
     ]
    },
    {
     "name": "stdout",
     "output_type": "stream",
     "text": [
      "[CV] END colsample_bytree=1.0, gamma=0.2, learning_rate=0.2, max_depth=15, min_child_weight=5, n_estimators=100, scale_pos_weight=1, subsample=1.0; total time=  15.3s\n"
     ]
    },
    {
     "name": "stderr",
     "output_type": "stream",
     "text": [
      "/opt/anaconda3/lib/python3.11/site-packages/xgboost/core.py:158: UserWarning: [17:06:16] WARNING: /Users/runner/work/xgboost/xgboost/src/learner.cc:740: \n",
      "Parameters: { \"use_label_encoder\" } are not used.\n",
      "\n",
      "  warnings.warn(smsg, UserWarning)\n"
     ]
    },
    {
     "name": "stdout",
     "output_type": "stream",
     "text": [
      "[CV] END colsample_bytree=0.8, gamma=0, learning_rate=0.1, max_depth=20, min_child_weight=5, n_estimators=200, scale_pos_weight=1, subsample=1.0; total time=  44.2s\n"
     ]
    },
    {
     "name": "stderr",
     "output_type": "stream",
     "text": [
      "/opt/anaconda3/lib/python3.11/site-packages/xgboost/core.py:158: UserWarning: [17:06:22] WARNING: /Users/runner/work/xgboost/xgboost/src/learner.cc:740: \n",
      "Parameters: { \"use_label_encoder\" } are not used.\n",
      "\n",
      "  warnings.warn(smsg, UserWarning)\n"
     ]
    },
    {
     "name": "stdout",
     "output_type": "stream",
     "text": [
      "[CV] END colsample_bytree=1.0, gamma=0.2, learning_rate=0.2, max_depth=15, min_child_weight=5, n_estimators=100, scale_pos_weight=1, subsample=1.0; total time=  20.7s\n",
      "[CV] END colsample_bytree=1.0, gamma=0.2, learning_rate=0.2, max_depth=15, min_child_weight=5, n_estimators=100, scale_pos_weight=1, subsample=1.0; total time=  20.2s\n"
     ]
    },
    {
     "name": "stderr",
     "output_type": "stream",
     "text": [
      "/opt/anaconda3/lib/python3.11/site-packages/xgboost/core.py:158: UserWarning: [17:06:26] WARNING: /Users/runner/work/xgboost/xgboost/src/learner.cc:740: \n",
      "Parameters: { \"use_label_encoder\" } are not used.\n",
      "\n",
      "  warnings.warn(smsg, UserWarning)\n"
     ]
    },
    {
     "name": "stdout",
     "output_type": "stream",
     "text": [
      "[CV] END colsample_bytree=0.8, gamma=0, learning_rate=0.1, max_depth=20, min_child_weight=5, n_estimators=200, scale_pos_weight=1, subsample=1.0; total time=  44.1s\n",
      "[CV] END colsample_bytree=1.0, gamma=0.2, learning_rate=0.2, max_depth=15, min_child_weight=5, n_estimators=100, scale_pos_weight=1, subsample=1.0; total time=  20.6s\n"
     ]
    },
    {
     "name": "stderr",
     "output_type": "stream",
     "text": [
      "/opt/anaconda3/lib/python3.11/site-packages/xgboost/core.py:158: UserWarning: [17:06:28] WARNING: /Users/runner/work/xgboost/xgboost/src/learner.cc:740: \n",
      "Parameters: { \"use_label_encoder\" } are not used.\n",
      "\n",
      "  warnings.warn(smsg, UserWarning)\n",
      "/opt/anaconda3/lib/python3.11/site-packages/xgboost/core.py:158: UserWarning: [17:06:29] WARNING: /Users/runner/work/xgboost/xgboost/src/learner.cc:740: \n",
      "Parameters: { \"use_label_encoder\" } are not used.\n",
      "\n",
      "  warnings.warn(smsg, UserWarning)\n",
      "/opt/anaconda3/lib/python3.11/site-packages/xgboost/core.py:158: UserWarning: [17:06:30] WARNING: /Users/runner/work/xgboost/xgboost/src/learner.cc:740: \n",
      "Parameters: { \"use_label_encoder\" } are not used.\n",
      "\n",
      "  warnings.warn(smsg, UserWarning)\n"
     ]
    },
    {
     "name": "stdout",
     "output_type": "stream",
     "text": [
      "[CV] END colsample_bytree=0.8, gamma=0, learning_rate=0.1, max_depth=20, min_child_weight=5, n_estimators=200, scale_pos_weight=1, subsample=1.0; total time=  41.8s\n",
      "[CV] END colsample_bytree=1.0, gamma=0.2, learning_rate=0.2, max_depth=15, min_child_weight=5, n_estimators=100, scale_pos_weight=1, subsample=1.0; total time=  18.8s\n",
      "[CV] END colsample_bytree=0.8, gamma=0.2, learning_rate=0.05, max_depth=10, min_child_weight=10, n_estimators=100, scale_pos_weight=20, subsample=1.0; total time=  14.7s\n"
     ]
    },
    {
     "name": "stderr",
     "output_type": "stream",
     "text": [
      "/opt/anaconda3/lib/python3.11/site-packages/xgboost/core.py:158: UserWarning: [17:06:35] WARNING: /Users/runner/work/xgboost/xgboost/src/learner.cc:740: \n",
      "Parameters: { \"use_label_encoder\" } are not used.\n",
      "\n",
      "  warnings.warn(smsg, UserWarning)\n",
      "/opt/anaconda3/lib/python3.11/site-packages/xgboost/core.py:158: UserWarning: [17:06:35] WARNING: /Users/runner/work/xgboost/xgboost/src/learner.cc:740: \n",
      "Parameters: { \"use_label_encoder\" } are not used.\n",
      "\n",
      "  warnings.warn(smsg, UserWarning)\n",
      "/opt/anaconda3/lib/python3.11/site-packages/xgboost/core.py:158: UserWarning: [17:06:36] WARNING: /Users/runner/work/xgboost/xgboost/src/learner.cc:740: \n",
      "Parameters: { \"use_label_encoder\" } are not used.\n",
      "\n",
      "  warnings.warn(smsg, UserWarning)\n"
     ]
    },
    {
     "name": "stdout",
     "output_type": "stream",
     "text": [
      "[CV] END colsample_bytree=0.8, gamma=0, learning_rate=0.1, max_depth=20, min_child_weight=5, n_estimators=200, scale_pos_weight=1, subsample=1.0; total time=  42.9s\n",
      "[CV] END colsample_bytree=0.8, gamma=0.2, learning_rate=0.05, max_depth=10, min_child_weight=10, n_estimators=100, scale_pos_weight=20, subsample=1.0; total time=  14.3s\n",
      "[CV] END colsample_bytree=0.8, gamma=0.2, learning_rate=0.05, max_depth=10, min_child_weight=10, n_estimators=100, scale_pos_weight=20, subsample=1.0; total time=  14.2s\n"
     ]
    },
    {
     "name": "stderr",
     "output_type": "stream",
     "text": [
      "/opt/anaconda3/lib/python3.11/site-packages/xgboost/core.py:158: UserWarning: [17:06:40] WARNING: /Users/runner/work/xgboost/xgboost/src/learner.cc:740: \n",
      "Parameters: { \"use_label_encoder\" } are not used.\n",
      "\n",
      "  warnings.warn(smsg, UserWarning)\n",
      "/opt/anaconda3/lib/python3.11/site-packages/xgboost/core.py:158: UserWarning: [17:06:41] WARNING: /Users/runner/work/xgboost/xgboost/src/learner.cc:740: \n",
      "Parameters: { \"use_label_encoder\" } are not used.\n",
      "\n",
      "  warnings.warn(smsg, UserWarning)\n"
     ]
    },
    {
     "name": "stdout",
     "output_type": "stream",
     "text": [
      "[CV] END colsample_bytree=0.8, gamma=0.2, learning_rate=0.05, max_depth=10, min_child_weight=10, n_estimators=100, scale_pos_weight=20, subsample=1.0; total time=  14.2s\n",
      "[CV] END colsample_bytree=0.8, gamma=0.2, learning_rate=0.05, max_depth=10, min_child_weight=10, n_estimators=100, scale_pos_weight=20, subsample=1.0; total time=  14.6s\n"
     ]
    },
    {
     "name": "stderr",
     "output_type": "stream",
     "text": [
      "/opt/anaconda3/lib/python3.11/site-packages/xgboost/core.py:158: UserWarning: [17:06:43] WARNING: /Users/runner/work/xgboost/xgboost/src/learner.cc:740: \n",
      "Parameters: { \"use_label_encoder\" } are not used.\n",
      "\n",
      "  warnings.warn(smsg, UserWarning)\n",
      "/opt/anaconda3/lib/python3.11/site-packages/xgboost/core.py:158: UserWarning: [17:06:45] WARNING: /Users/runner/work/xgboost/xgboost/src/learner.cc:740: \n",
      "Parameters: { \"use_label_encoder\" } are not used.\n",
      "\n",
      "  warnings.warn(smsg, UserWarning)\n",
      "/opt/anaconda3/lib/python3.11/site-packages/xgboost/core.py:158: UserWarning: [17:06:45] WARNING: /Users/runner/work/xgboost/xgboost/src/learner.cc:740: \n",
      "Parameters: { \"use_label_encoder\" } are not used.\n",
      "\n",
      "  warnings.warn(smsg, UserWarning)\n"
     ]
    },
    {
     "name": "stdout",
     "output_type": "stream",
     "text": [
      "[CV] END colsample_bytree=0.8, gamma=0.2, learning_rate=0.1, max_depth=10, min_child_weight=5, n_estimators=300, scale_pos_weight=1, subsample=1.0; total time=  30.3s\n",
      "[CV] END colsample_bytree=0.8, gamma=0.2, learning_rate=0.1, max_depth=10, min_child_weight=5, n_estimators=300, scale_pos_weight=1, subsample=1.0; total time=  31.6s\n",
      "[CV] END colsample_bytree=0.8, gamma=0.2, learning_rate=0.1, max_depth=10, min_child_weight=5, n_estimators=300, scale_pos_weight=1, subsample=1.0; total time=  30.9s\n"
     ]
    },
    {
     "name": "stderr",
     "output_type": "stream",
     "text": [
      "/opt/anaconda3/lib/python3.11/site-packages/xgboost/core.py:158: UserWarning: [17:07:05] WARNING: /Users/runner/work/xgboost/xgboost/src/learner.cc:740: \n",
      "Parameters: { \"use_label_encoder\" } are not used.\n",
      "\n",
      "  warnings.warn(smsg, UserWarning)\n",
      "/opt/anaconda3/lib/python3.11/site-packages/xgboost/core.py:158: UserWarning: [17:07:07] WARNING: /Users/runner/work/xgboost/xgboost/src/learner.cc:740: \n",
      "Parameters: { \"use_label_encoder\" } are not used.\n",
      "\n",
      "  warnings.warn(smsg, UserWarning)\n",
      "/opt/anaconda3/lib/python3.11/site-packages/xgboost/core.py:158: UserWarning: [17:07:08] WARNING: /Users/runner/work/xgboost/xgboost/src/learner.cc:740: \n",
      "Parameters: { \"use_label_encoder\" } are not used.\n",
      "\n",
      "  warnings.warn(smsg, UserWarning)\n"
     ]
    },
    {
     "name": "stdout",
     "output_type": "stream",
     "text": [
      "[CV] END colsample_bytree=0.8, gamma=0.2, learning_rate=0.1, max_depth=10, min_child_weight=5, n_estimators=300, scale_pos_weight=1, subsample=1.0; total time=  31.0s\n",
      "[CV] END colsample_bytree=0.8, gamma=0, learning_rate=0.2, max_depth=15, min_child_weight=5, n_estimators=200, scale_pos_weight=20, subsample=0.8; total time=  29.4s\n",
      "[CV] END colsample_bytree=0.8, gamma=0.2, learning_rate=0.1, max_depth=10, min_child_weight=5, n_estimators=300, scale_pos_weight=1, subsample=1.0; total time=  31.8s\n"
     ]
    },
    {
     "name": "stderr",
     "output_type": "stream",
     "text": [
      "/opt/anaconda3/lib/python3.11/site-packages/xgboost/core.py:158: UserWarning: [17:07:12] WARNING: /Users/runner/work/xgboost/xgboost/src/learner.cc:740: \n",
      "Parameters: { \"use_label_encoder\" } are not used.\n",
      "\n",
      "  warnings.warn(smsg, UserWarning)\n",
      "/opt/anaconda3/lib/python3.11/site-packages/xgboost/core.py:158: UserWarning: [17:07:14] WARNING: /Users/runner/work/xgboost/xgboost/src/learner.cc:740: \n",
      "Parameters: { \"use_label_encoder\" } are not used.\n",
      "\n",
      "  warnings.warn(smsg, UserWarning)\n",
      "/opt/anaconda3/lib/python3.11/site-packages/xgboost/core.py:158: UserWarning: [17:07:15] WARNING: /Users/runner/work/xgboost/xgboost/src/learner.cc:740: \n",
      "Parameters: { \"use_label_encoder\" } are not used.\n",
      "\n",
      "  warnings.warn(smsg, UserWarning)\n"
     ]
    },
    {
     "name": "stdout",
     "output_type": "stream",
     "text": [
      "[CV] END colsample_bytree=0.8, gamma=0, learning_rate=0.2, max_depth=15, min_child_weight=5, n_estimators=200, scale_pos_weight=20, subsample=0.8; total time=  34.6s\n",
      "[CV] END colsample_bytree=0.8, gamma=0, learning_rate=0.2, max_depth=15, min_child_weight=5, n_estimators=200, scale_pos_weight=20, subsample=0.8; total time=  35.6s\n"
     ]
    },
    {
     "name": "stderr",
     "output_type": "stream",
     "text": [
      "/opt/anaconda3/lib/python3.11/site-packages/xgboost/core.py:158: UserWarning: [17:07:20] WARNING: /Users/runner/work/xgboost/xgboost/src/learner.cc:740: \n",
      "Parameters: { \"use_label_encoder\" } are not used.\n",
      "\n",
      "  warnings.warn(smsg, UserWarning)\n",
      "/opt/anaconda3/lib/python3.11/site-packages/xgboost/core.py:158: UserWarning: [17:07:21] WARNING: /Users/runner/work/xgboost/xgboost/src/learner.cc:740: \n",
      "Parameters: { \"use_label_encoder\" } are not used.\n",
      "\n",
      "  warnings.warn(smsg, UserWarning)\n"
     ]
    },
    {
     "name": "stdout",
     "output_type": "stream",
     "text": [
      "[CV] END colsample_bytree=0.8, gamma=0, learning_rate=0.2, max_depth=15, min_child_weight=5, n_estimators=200, scale_pos_weight=20, subsample=0.8; total time=  35.1s\n",
      "[CV] END colsample_bytree=0.8, gamma=0, learning_rate=0.2, max_depth=15, min_child_weight=5, n_estimators=200, scale_pos_weight=20, subsample=0.8; total time=  35.0s\n",
      "[CV] END colsample_bytree=0.8, gamma=0, learning_rate=0.05, max_depth=10, min_child_weight=1, n_estimators=300, scale_pos_weight=20, subsample=1.0; total time=  34.7s\n"
     ]
    },
    {
     "name": "stderr",
     "output_type": "stream",
     "text": [
      "/opt/anaconda3/lib/python3.11/site-packages/xgboost/core.py:158: UserWarning: [17:07:41] WARNING: /Users/runner/work/xgboost/xgboost/src/learner.cc:740: \n",
      "Parameters: { \"use_label_encoder\" } are not used.\n",
      "\n",
      "  warnings.warn(smsg, UserWarning)\n",
      "/opt/anaconda3/lib/python3.11/site-packages/xgboost/core.py:158: UserWarning: [17:07:43] WARNING: /Users/runner/work/xgboost/xgboost/src/learner.cc:740: \n",
      "Parameters: { \"use_label_encoder\" } are not used.\n",
      "\n",
      "  warnings.warn(smsg, UserWarning)\n",
      "/opt/anaconda3/lib/python3.11/site-packages/xgboost/core.py:158: UserWarning: [17:07:44] WARNING: /Users/runner/work/xgboost/xgboost/src/learner.cc:740: \n",
      "Parameters: { \"use_label_encoder\" } are not used.\n",
      "\n",
      "  warnings.warn(smsg, UserWarning)\n"
     ]
    },
    {
     "name": "stdout",
     "output_type": "stream",
     "text": [
      "[CV] END colsample_bytree=0.8, gamma=0, learning_rate=0.05, max_depth=10, min_child_weight=1, n_estimators=300, scale_pos_weight=20, subsample=1.0; total time=  35.5s\n",
      "[CV] END colsample_bytree=0.8, gamma=0, learning_rate=0.05, max_depth=10, min_child_weight=1, n_estimators=300, scale_pos_weight=20, subsample=1.0; total time=  35.2s\n",
      "[CV] END colsample_bytree=0.8, gamma=0, learning_rate=0.05, max_depth=10, min_child_weight=1, n_estimators=300, scale_pos_weight=20, subsample=1.0; total time=  35.9s\n"
     ]
    },
    {
     "name": "stderr",
     "output_type": "stream",
     "text": [
      "/opt/anaconda3/lib/python3.11/site-packages/xgboost/core.py:158: UserWarning: [17:07:48] WARNING: /Users/runner/work/xgboost/xgboost/src/learner.cc:740: \n",
      "Parameters: { \"use_label_encoder\" } are not used.\n",
      "\n",
      "  warnings.warn(smsg, UserWarning)\n",
      "/opt/anaconda3/lib/python3.11/site-packages/xgboost/core.py:158: UserWarning: [17:07:49] WARNING: /Users/runner/work/xgboost/xgboost/src/learner.cc:740: \n",
      "Parameters: { \"use_label_encoder\" } are not used.\n",
      "\n",
      "  warnings.warn(smsg, UserWarning)\n",
      "/opt/anaconda3/lib/python3.11/site-packages/xgboost/core.py:158: UserWarning: [17:07:51] WARNING: /Users/runner/work/xgboost/xgboost/src/learner.cc:740: \n",
      "Parameters: { \"use_label_encoder\" } are not used.\n",
      "\n",
      "  warnings.warn(smsg, UserWarning)\n"
     ]
    },
    {
     "name": "stdout",
     "output_type": "stream",
     "text": [
      "[CV] END colsample_bytree=0.8, gamma=0, learning_rate=0.05, max_depth=10, min_child_weight=1, n_estimators=300, scale_pos_weight=20, subsample=1.0; total time=  36.0s\n"
     ]
    },
    {
     "name": "stderr",
     "output_type": "stream",
     "text": [
      "/opt/anaconda3/lib/python3.11/site-packages/xgboost/core.py:158: UserWarning: [17:07:57] WARNING: /Users/runner/work/xgboost/xgboost/src/learner.cc:740: \n",
      "Parameters: { \"use_label_encoder\" } are not used.\n",
      "\n",
      "  warnings.warn(smsg, UserWarning)\n"
     ]
    },
    {
     "name": "stdout",
     "output_type": "stream",
     "text": [
      "[CV] END colsample_bytree=0.8, gamma=0, learning_rate=0.01, max_depth=10, min_child_weight=1, n_estimators=300, scale_pos_weight=10, subsample=0.8; total time=  43.2s\n"
     ]
    },
    {
     "name": "stderr",
     "output_type": "stream",
     "text": [
      "/opt/anaconda3/lib/python3.11/site-packages/xgboost/core.py:158: UserWarning: [17:08:05] WARNING: /Users/runner/work/xgboost/xgboost/src/learner.cc:740: \n",
      "Parameters: { \"use_label_encoder\" } are not used.\n",
      "\n",
      "  warnings.warn(smsg, UserWarning)\n"
     ]
    },
    {
     "name": "stdout",
     "output_type": "stream",
     "text": [
      "[CV] END colsample_bytree=0.8, gamma=0, learning_rate=0.01, max_depth=10, min_child_weight=1, n_estimators=300, scale_pos_weight=10, subsample=0.8; total time=  43.6s\n",
      "[CV] END colsample_bytree=0.8, gamma=0, learning_rate=0.01, max_depth=10, min_child_weight=1, n_estimators=300, scale_pos_weight=10, subsample=0.8; total time=  43.0s\n",
      "[CV] END colsample_bytree=0.8, gamma=0, learning_rate=0.01, max_depth=10, min_child_weight=1, n_estimators=300, scale_pos_weight=10, subsample=0.8; total time=  44.9s\n"
     ]
    },
    {
     "name": "stderr",
     "output_type": "stream",
     "text": [
      "/opt/anaconda3/lib/python3.11/site-packages/xgboost/core.py:158: UserWarning: [17:08:25] WARNING: /Users/runner/work/xgboost/xgboost/src/learner.cc:740: \n",
      "Parameters: { \"use_label_encoder\" } are not used.\n",
      "\n",
      "  warnings.warn(smsg, UserWarning)\n",
      "/opt/anaconda3/lib/python3.11/site-packages/xgboost/core.py:158: UserWarning: [17:08:27] WARNING: /Users/runner/work/xgboost/xgboost/src/learner.cc:740: \n",
      "Parameters: { \"use_label_encoder\" } are not used.\n",
      "\n",
      "  warnings.warn(smsg, UserWarning)\n",
      "/opt/anaconda3/lib/python3.11/site-packages/xgboost/core.py:158: UserWarning: [17:08:28] WARNING: /Users/runner/work/xgboost/xgboost/src/learner.cc:740: \n",
      "Parameters: { \"use_label_encoder\" } are not used.\n",
      "\n",
      "  warnings.warn(smsg, UserWarning)\n"
     ]
    },
    {
     "name": "stdout",
     "output_type": "stream",
     "text": [
      "[CV] END colsample_bytree=0.8, gamma=0, learning_rate=0.01, max_depth=10, min_child_weight=1, n_estimators=300, scale_pos_weight=10, subsample=0.8; total time=  44.0s\n"
     ]
    },
    {
     "name": "stderr",
     "output_type": "stream",
     "text": [
      "/opt/anaconda3/lib/python3.11/site-packages/xgboost/core.py:158: UserWarning: [17:08:33] WARNING: /Users/runner/work/xgboost/xgboost/src/learner.cc:740: \n",
      "Parameters: { \"use_label_encoder\" } are not used.\n",
      "\n",
      "  warnings.warn(smsg, UserWarning)\n"
     ]
    },
    {
     "name": "stdout",
     "output_type": "stream",
     "text": [
      "[CV] END colsample_bytree=0.8, gamma=0.1, learning_rate=0.1, max_depth=20, min_child_weight=5, n_estimators=300, scale_pos_weight=10, subsample=1.0; total time=  49.1s\n"
     ]
    },
    {
     "name": "stderr",
     "output_type": "stream",
     "text": [
      "/opt/anaconda3/lib/python3.11/site-packages/xgboost/core.py:158: UserWarning: [17:08:39] WARNING: /Users/runner/work/xgboost/xgboost/src/learner.cc:740: \n",
      "Parameters: { \"use_label_encoder\" } are not used.\n",
      "\n",
      "  warnings.warn(smsg, UserWarning)\n"
     ]
    },
    {
     "name": "stdout",
     "output_type": "stream",
     "text": [
      "[CV] END colsample_bytree=0.8, gamma=0.1, learning_rate=0.1, max_depth=20, min_child_weight=5, n_estimators=300, scale_pos_weight=10, subsample=1.0; total time= 1.0min\n"
     ]
    },
    {
     "name": "stderr",
     "output_type": "stream",
     "text": [
      "/opt/anaconda3/lib/python3.11/site-packages/xgboost/core.py:158: UserWarning: [17:08:54] WARNING: /Users/runner/work/xgboost/xgboost/src/learner.cc:740: \n",
      "Parameters: { \"use_label_encoder\" } are not used.\n",
      "\n",
      "  warnings.warn(smsg, UserWarning)\n"
     ]
    },
    {
     "name": "stdout",
     "output_type": "stream",
     "text": [
      "[CV] END colsample_bytree=1.0, gamma=0, learning_rate=0.1, max_depth=15, min_child_weight=5, n_estimators=200, scale_pos_weight=1, subsample=1.0; total time=  30.6s\n"
     ]
    },
    {
     "name": "stderr",
     "output_type": "stream",
     "text": [
      "/opt/anaconda3/lib/python3.11/site-packages/xgboost/core.py:158: UserWarning: [17:08:57] WARNING: /Users/runner/work/xgboost/xgboost/src/learner.cc:740: \n",
      "Parameters: { \"use_label_encoder\" } are not used.\n",
      "\n",
      "  warnings.warn(smsg, UserWarning)\n"
     ]
    },
    {
     "name": "stdout",
     "output_type": "stream",
     "text": [
      "[CV] END colsample_bytree=1.0, gamma=0, learning_rate=0.1, max_depth=15, min_child_weight=5, n_estimators=200, scale_pos_weight=1, subsample=1.0; total time=  32.4s\n",
      "[CV] END colsample_bytree=0.8, gamma=0.1, learning_rate=0.1, max_depth=20, min_child_weight=5, n_estimators=300, scale_pos_weight=10, subsample=1.0; total time= 1.1min\n"
     ]
    },
    {
     "name": "stderr",
     "output_type": "stream",
     "text": [
      "/opt/anaconda3/lib/python3.11/site-packages/xgboost/core.py:158: UserWarning: [17:09:01] WARNING: /Users/runner/work/xgboost/xgboost/src/learner.cc:740: \n",
      "Parameters: { \"use_label_encoder\" } are not used.\n",
      "\n",
      "  warnings.warn(smsg, UserWarning)\n",
      "/opt/anaconda3/lib/python3.11/site-packages/xgboost/core.py:158: UserWarning: [17:09:02] WARNING: /Users/runner/work/xgboost/xgboost/src/learner.cc:740: \n",
      "Parameters: { \"use_label_encoder\" } are not used.\n",
      "\n",
      "  warnings.warn(smsg, UserWarning)\n"
     ]
    },
    {
     "name": "stdout",
     "output_type": "stream",
     "text": [
      "[CV] END colsample_bytree=1.0, gamma=0, learning_rate=0.1, max_depth=15, min_child_weight=5, n_estimators=200, scale_pos_weight=1, subsample=1.0; total time=  32.4s\n"
     ]
    },
    {
     "name": "stderr",
     "output_type": "stream",
     "text": [
      "/opt/anaconda3/lib/python3.11/site-packages/xgboost/core.py:158: UserWarning: [17:09:05] WARNING: /Users/runner/work/xgboost/xgboost/src/learner.cc:740: \n",
      "Parameters: { \"use_label_encoder\" } are not used.\n",
      "\n",
      "  warnings.warn(smsg, UserWarning)\n"
     ]
    },
    {
     "name": "stdout",
     "output_type": "stream",
     "text": [
      "[CV] END colsample_bytree=0.8, gamma=0.1, learning_rate=0.1, max_depth=20, min_child_weight=5, n_estimators=300, scale_pos_weight=10, subsample=1.0; total time= 1.1min\n",
      "[CV] END colsample_bytree=1.0, gamma=0, learning_rate=0.1, max_depth=15, min_child_weight=5, n_estimators=200, scale_pos_weight=1, subsample=1.0; total time=  31.0s\n"
     ]
    },
    {
     "name": "stderr",
     "output_type": "stream",
     "text": [
      "/opt/anaconda3/lib/python3.11/site-packages/xgboost/core.py:158: UserWarning: [17:09:09] WARNING: /Users/runner/work/xgboost/xgboost/src/learner.cc:740: \n",
      "Parameters: { \"use_label_encoder\" } are not used.\n",
      "\n",
      "  warnings.warn(smsg, UserWarning)\n",
      "/opt/anaconda3/lib/python3.11/site-packages/xgboost/core.py:158: UserWarning: [17:09:10] WARNING: /Users/runner/work/xgboost/xgboost/src/learner.cc:740: \n",
      "Parameters: { \"use_label_encoder\" } are not used.\n",
      "\n",
      "  warnings.warn(smsg, UserWarning)\n"
     ]
    },
    {
     "name": "stdout",
     "output_type": "stream",
     "text": [
      "[CV] END colsample_bytree=1.0, gamma=0, learning_rate=0.1, max_depth=15, min_child_weight=5, n_estimators=200, scale_pos_weight=1, subsample=1.0; total time=  30.7s\n",
      "[CV] END colsample_bytree=0.8, gamma=0.1, learning_rate=0.1, max_depth=20, min_child_weight=5, n_estimators=300, scale_pos_weight=10, subsample=1.0; total time= 1.0min\n"
     ]
    },
    {
     "name": "stderr",
     "output_type": "stream",
     "text": [
      "/opt/anaconda3/lib/python3.11/site-packages/xgboost/core.py:158: UserWarning: [17:09:25] WARNING: /Users/runner/work/xgboost/xgboost/src/learner.cc:740: \n",
      "Parameters: { \"use_label_encoder\" } are not used.\n",
      "\n",
      "  warnings.warn(smsg, UserWarning)\n",
      "/opt/anaconda3/lib/python3.11/site-packages/xgboost/core.py:158: UserWarning: [17:09:28] WARNING: /Users/runner/work/xgboost/xgboost/src/learner.cc:740: \n",
      "Parameters: { \"use_label_encoder\" } are not used.\n",
      "\n",
      "  warnings.warn(smsg, UserWarning)\n"
     ]
    },
    {
     "name": "stdout",
     "output_type": "stream",
     "text": [
      "[CV] END colsample_bytree=1.0, gamma=0.1, learning_rate=0.05, max_depth=10, min_child_weight=1, n_estimators=300, scale_pos_weight=20, subsample=1.0; total time=  33.9s\n"
     ]
    },
    {
     "name": "stderr",
     "output_type": "stream",
     "text": [
      "/opt/anaconda3/lib/python3.11/site-packages/xgboost/core.py:158: UserWarning: [17:09:32] WARNING: /Users/runner/work/xgboost/xgboost/src/learner.cc:740: \n",
      "Parameters: { \"use_label_encoder\" } are not used.\n",
      "\n",
      "  warnings.warn(smsg, UserWarning)\n"
     ]
    },
    {
     "name": "stdout",
     "output_type": "stream",
     "text": [
      "[CV] END colsample_bytree=1.0, gamma=0.1, learning_rate=0.05, max_depth=10, min_child_weight=1, n_estimators=300, scale_pos_weight=20, subsample=1.0; total time=  34.9s\n",
      "[CV] END colsample_bytree=1.0, gamma=0.1, learning_rate=0.05, max_depth=10, min_child_weight=1, n_estimators=300, scale_pos_weight=20, subsample=1.0; total time=  35.5s\n"
     ]
    },
    {
     "name": "stderr",
     "output_type": "stream",
     "text": [
      "/opt/anaconda3/lib/python3.11/site-packages/xgboost/core.py:158: UserWarning: [17:09:36] WARNING: /Users/runner/work/xgboost/xgboost/src/learner.cc:740: \n",
      "Parameters: { \"use_label_encoder\" } are not used.\n",
      "\n",
      "  warnings.warn(smsg, UserWarning)\n"
     ]
    },
    {
     "name": "stdout",
     "output_type": "stream",
     "text": [
      "[CV] END colsample_bytree=1.0, gamma=0.1, learning_rate=0.05, max_depth=10, min_child_weight=1, n_estimators=300, scale_pos_weight=20, subsample=1.0; total time=  35.5s\n"
     ]
    },
    {
     "name": "stderr",
     "output_type": "stream",
     "text": [
      "/opt/anaconda3/lib/python3.11/site-packages/xgboost/core.py:158: UserWarning: [17:09:38] WARNING: /Users/runner/work/xgboost/xgboost/src/learner.cc:740: \n",
      "Parameters: { \"use_label_encoder\" } are not used.\n",
      "\n",
      "  warnings.warn(smsg, UserWarning)\n",
      "/opt/anaconda3/lib/python3.11/site-packages/xgboost/core.py:158: UserWarning: [17:09:41] WARNING: /Users/runner/work/xgboost/xgboost/src/learner.cc:740: \n",
      "Parameters: { \"use_label_encoder\" } are not used.\n",
      "\n",
      "  warnings.warn(smsg, UserWarning)\n"
     ]
    },
    {
     "name": "stdout",
     "output_type": "stream",
     "text": [
      "[CV] END colsample_bytree=1.0, gamma=0.1, learning_rate=0.05, max_depth=10, min_child_weight=1, n_estimators=300, scale_pos_weight=20, subsample=1.0; total time=  36.8s\n"
     ]
    },
    {
     "name": "stderr",
     "output_type": "stream",
     "text": [
      "/opt/anaconda3/lib/python3.11/site-packages/xgboost/core.py:158: UserWarning: [17:09:46] WARNING: /Users/runner/work/xgboost/xgboost/src/learner.cc:740: \n",
      "Parameters: { \"use_label_encoder\" } are not used.\n",
      "\n",
      "  warnings.warn(smsg, UserWarning)\n"
     ]
    },
    {
     "name": "stdout",
     "output_type": "stream",
     "text": [
      "[CV] END colsample_bytree=0.8, gamma=0.2, learning_rate=0.01, max_depth=20, min_child_weight=10, n_estimators=200, scale_pos_weight=1, subsample=0.8; total time=  41.1s\n"
     ]
    },
    {
     "name": "stderr",
     "output_type": "stream",
     "text": [
      "/opt/anaconda3/lib/python3.11/site-packages/xgboost/core.py:158: UserWarning: [17:09:52] WARNING: /Users/runner/work/xgboost/xgboost/src/learner.cc:740: \n",
      "Parameters: { \"use_label_encoder\" } are not used.\n",
      "\n",
      "  warnings.warn(smsg, UserWarning)\n"
     ]
    },
    {
     "name": "stdout",
     "output_type": "stream",
     "text": [
      "[CV] END colsample_bytree=0.8, gamma=0.1, learning_rate=0.1, max_depth=10, min_child_weight=5, n_estimators=200, scale_pos_weight=10, subsample=1.0; total time=  23.0s\n"
     ]
    },
    {
     "name": "stderr",
     "output_type": "stream",
     "text": [
      "/opt/anaconda3/lib/python3.11/site-packages/xgboost/core.py:158: UserWarning: [17:10:02] WARNING: /Users/runner/work/xgboost/xgboost/src/learner.cc:740: \n",
      "Parameters: { \"use_label_encoder\" } are not used.\n",
      "\n",
      "  warnings.warn(smsg, UserWarning)\n"
     ]
    },
    {
     "name": "stdout",
     "output_type": "stream",
     "text": [
      "[CV] END colsample_bytree=0.8, gamma=0.1, learning_rate=0.1, max_depth=10, min_child_weight=5, n_estimators=200, scale_pos_weight=10, subsample=1.0; total time=  23.2s\n",
      "[CV] END colsample_bytree=0.8, gamma=0.2, learning_rate=0.01, max_depth=20, min_child_weight=10, n_estimators=200, scale_pos_weight=1, subsample=0.8; total time=  42.1s\n"
     ]
    },
    {
     "name": "stderr",
     "output_type": "stream",
     "text": [
      "/opt/anaconda3/lib/python3.11/site-packages/xgboost/core.py:158: UserWarning: [17:10:05] WARNING: /Users/runner/work/xgboost/xgboost/src/learner.cc:740: \n",
      "Parameters: { \"use_label_encoder\" } are not used.\n",
      "\n",
      "  warnings.warn(smsg, UserWarning)\n"
     ]
    },
    {
     "name": "stdout",
     "output_type": "stream",
     "text": [
      "[CV] END colsample_bytree=0.8, gamma=0.1, learning_rate=0.1, max_depth=10, min_child_weight=5, n_estimators=200, scale_pos_weight=10, subsample=1.0; total time=  23.0s\n",
      "[CV] END colsample_bytree=0.8, gamma=0.2, learning_rate=0.01, max_depth=20, min_child_weight=10, n_estimators=200, scale_pos_weight=1, subsample=0.8; total time=  43.3s\n"
     ]
    },
    {
     "name": "stderr",
     "output_type": "stream",
     "text": [
      "/opt/anaconda3/lib/python3.11/site-packages/xgboost/core.py:158: UserWarning: [17:10:08] WARNING: /Users/runner/work/xgboost/xgboost/src/learner.cc:740: \n",
      "Parameters: { \"use_label_encoder\" } are not used.\n",
      "\n",
      "  warnings.warn(smsg, UserWarning)\n",
      "/opt/anaconda3/lib/python3.11/site-packages/xgboost/core.py:158: UserWarning: [17:10:10] WARNING: /Users/runner/work/xgboost/xgboost/src/learner.cc:740: \n",
      "Parameters: { \"use_label_encoder\" } are not used.\n",
      "\n",
      "  warnings.warn(smsg, UserWarning)\n",
      "/opt/anaconda3/lib/python3.11/site-packages/xgboost/core.py:158: UserWarning: [17:10:11] WARNING: /Users/runner/work/xgboost/xgboost/src/learner.cc:740: \n",
      "Parameters: { \"use_label_encoder\" } are not used.\n",
      "\n",
      "  warnings.warn(smsg, UserWarning)\n"
     ]
    },
    {
     "name": "stdout",
     "output_type": "stream",
     "text": [
      "[CV] END colsample_bytree=0.8, gamma=0.2, learning_rate=0.01, max_depth=20, min_child_weight=10, n_estimators=200, scale_pos_weight=1, subsample=0.8; total time=  42.7s\n",
      "[CV] END colsample_bytree=0.8, gamma=0.1, learning_rate=0.1, max_depth=10, min_child_weight=5, n_estimators=200, scale_pos_weight=10, subsample=1.0; total time=  24.4s\n"
     ]
    },
    {
     "name": "stderr",
     "output_type": "stream",
     "text": [
      "/opt/anaconda3/lib/python3.11/site-packages/xgboost/core.py:158: UserWarning: [17:10:16] WARNING: /Users/runner/work/xgboost/xgboost/src/learner.cc:740: \n",
      "Parameters: { \"use_label_encoder\" } are not used.\n",
      "\n",
      "  warnings.warn(smsg, UserWarning)\n",
      "/opt/anaconda3/lib/python3.11/site-packages/xgboost/core.py:158: UserWarning: [17:10:17] WARNING: /Users/runner/work/xgboost/xgboost/src/learner.cc:740: \n",
      "Parameters: { \"use_label_encoder\" } are not used.\n",
      "\n",
      "  warnings.warn(smsg, UserWarning)\n"
     ]
    },
    {
     "name": "stdout",
     "output_type": "stream",
     "text": [
      "[CV] END colsample_bytree=0.8, gamma=0.2, learning_rate=0.01, max_depth=20, min_child_weight=10, n_estimators=200, scale_pos_weight=1, subsample=0.8; total time=  44.3s\n"
     ]
    },
    {
     "name": "stderr",
     "output_type": "stream",
     "text": [
      "/opt/anaconda3/lib/python3.11/site-packages/xgboost/core.py:158: UserWarning: [17:10:21] WARNING: /Users/runner/work/xgboost/xgboost/src/learner.cc:740: \n",
      "Parameters: { \"use_label_encoder\" } are not used.\n",
      "\n",
      "  warnings.warn(smsg, UserWarning)\n"
     ]
    },
    {
     "name": "stdout",
     "output_type": "stream",
     "text": [
      "[CV] END colsample_bytree=0.8, gamma=0.1, learning_rate=0.1, max_depth=10, min_child_weight=5, n_estimators=200, scale_pos_weight=10, subsample=1.0; total time=  24.0s\n"
     ]
    },
    {
     "name": "stderr",
     "output_type": "stream",
     "text": [
      "/opt/anaconda3/lib/python3.11/site-packages/xgboost/core.py:158: UserWarning: [17:10:26] WARNING: /Users/runner/work/xgboost/xgboost/src/learner.cc:740: \n",
      "Parameters: { \"use_label_encoder\" } are not used.\n",
      "\n",
      "  warnings.warn(smsg, UserWarning)\n"
     ]
    },
    {
     "name": "stdout",
     "output_type": "stream",
     "text": [
      "[CV] END colsample_bytree=1.0, gamma=0.1, learning_rate=0.05, max_depth=10, min_child_weight=1, n_estimators=200, scale_pos_weight=20, subsample=0.8; total time=  24.6s\n"
     ]
    },
    {
     "name": "stderr",
     "output_type": "stream",
     "text": [
      "/opt/anaconda3/lib/python3.11/site-packages/xgboost/core.py:158: UserWarning: [17:10:42] WARNING: /Users/runner/work/xgboost/xgboost/src/learner.cc:740: \n",
      "Parameters: { \"use_label_encoder\" } are not used.\n",
      "\n",
      "  warnings.warn(smsg, UserWarning)\n"
     ]
    },
    {
     "name": "stdout",
     "output_type": "stream",
     "text": [
      "[CV] END colsample_bytree=0.8, gamma=0, learning_rate=0.2, max_depth=20, min_child_weight=10, n_estimators=300, scale_pos_weight=1, subsample=0.8; total time=  39.7s\n",
      "[CV] END colsample_bytree=1.0, gamma=0.1, learning_rate=0.05, max_depth=10, min_child_weight=1, n_estimators=200, scale_pos_weight=20, subsample=0.8; total time=  25.4s\n"
     ]
    },
    {
     "name": "stderr",
     "output_type": "stream",
     "text": [
      "/opt/anaconda3/lib/python3.11/site-packages/xgboost/core.py:158: UserWarning: [17:10:45] WARNING: /Users/runner/work/xgboost/xgboost/src/learner.cc:740: \n",
      "Parameters: { \"use_label_encoder\" } are not used.\n",
      "\n",
      "  warnings.warn(smsg, UserWarning)\n",
      "/opt/anaconda3/lib/python3.11/site-packages/xgboost/core.py:158: UserWarning: [17:10:47] WARNING: /Users/runner/work/xgboost/xgboost/src/learner.cc:740: \n",
      "Parameters: { \"use_label_encoder\" } are not used.\n",
      "\n",
      "  warnings.warn(smsg, UserWarning)\n"
     ]
    },
    {
     "name": "stdout",
     "output_type": "stream",
     "text": [
      "[CV] END colsample_bytree=1.0, gamma=0.1, learning_rate=0.05, max_depth=10, min_child_weight=1, n_estimators=200, scale_pos_weight=20, subsample=0.8; total time=  24.5s\n"
     ]
    },
    {
     "name": "stderr",
     "output_type": "stream",
     "text": [
      "/opt/anaconda3/lib/python3.11/site-packages/xgboost/core.py:158: UserWarning: [17:10:51] WARNING: /Users/runner/work/xgboost/xgboost/src/learner.cc:740: \n",
      "Parameters: { \"use_label_encoder\" } are not used.\n",
      "\n",
      "  warnings.warn(smsg, UserWarning)\n"
     ]
    },
    {
     "name": "stdout",
     "output_type": "stream",
     "text": [
      "[CV] END colsample_bytree=0.8, gamma=0, learning_rate=0.2, max_depth=20, min_child_weight=10, n_estimators=300, scale_pos_weight=1, subsample=0.8; total time=  49.1s\n",
      "[CV] END colsample_bytree=0.8, gamma=0, learning_rate=0.2, max_depth=20, min_child_weight=10, n_estimators=300, scale_pos_weight=1, subsample=0.8; total time=  48.3s\n",
      "[CV] END colsample_bytree=0.8, gamma=0, learning_rate=0.2, max_depth=20, min_child_weight=10, n_estimators=300, scale_pos_weight=1, subsample=0.8; total time=  47.4s\n"
     ]
    },
    {
     "name": "stderr",
     "output_type": "stream",
     "text": [
      "/opt/anaconda3/lib/python3.11/site-packages/xgboost/core.py:158: UserWarning: [17:10:57] WARNING: /Users/runner/work/xgboost/xgboost/src/learner.cc:740: \n",
      "Parameters: { \"use_label_encoder\" } are not used.\n",
      "\n",
      "  warnings.warn(smsg, UserWarning)\n",
      "/opt/anaconda3/lib/python3.11/site-packages/xgboost/core.py:158: UserWarning: [17:10:58] WARNING: /Users/runner/work/xgboost/xgboost/src/learner.cc:740: \n",
      "Parameters: { \"use_label_encoder\" } are not used.\n",
      "\n",
      "  warnings.warn(smsg, UserWarning)\n",
      "/opt/anaconda3/lib/python3.11/site-packages/xgboost/core.py:158: UserWarning: [17:10:59] WARNING: /Users/runner/work/xgboost/xgboost/src/learner.cc:740: \n",
      "Parameters: { \"use_label_encoder\" } are not used.\n",
      "\n",
      "  warnings.warn(smsg, UserWarning)\n"
     ]
    },
    {
     "name": "stdout",
     "output_type": "stream",
     "text": [
      "[CV] END colsample_bytree=0.8, gamma=0, learning_rate=0.2, max_depth=20, min_child_weight=10, n_estimators=300, scale_pos_weight=1, subsample=0.8; total time=  48.0s\n"
     ]
    },
    {
     "name": "stderr",
     "output_type": "stream",
     "text": [
      "/opt/anaconda3/lib/python3.11/site-packages/xgboost/core.py:158: UserWarning: [17:11:05] WARNING: /Users/runner/work/xgboost/xgboost/src/learner.cc:740: \n",
      "Parameters: { \"use_label_encoder\" } are not used.\n",
      "\n",
      "  warnings.warn(smsg, UserWarning)\n"
     ]
    },
    {
     "name": "stdout",
     "output_type": "stream",
     "text": [
      "[CV] END colsample_bytree=1.0, gamma=0.1, learning_rate=0.05, max_depth=10, min_child_weight=1, n_estimators=200, scale_pos_weight=20, subsample=0.8; total time=  26.7s\n"
     ]
    },
    {
     "name": "stderr",
     "output_type": "stream",
     "text": [
      "/opt/anaconda3/lib/python3.11/site-packages/xgboost/core.py:158: UserWarning: [17:11:09] WARNING: /Users/runner/work/xgboost/xgboost/src/learner.cc:740: \n",
      "Parameters: { \"use_label_encoder\" } are not used.\n",
      "\n",
      "  warnings.warn(smsg, UserWarning)\n"
     ]
    },
    {
     "name": "stdout",
     "output_type": "stream",
     "text": [
      "[CV] END colsample_bytree=1.0, gamma=0.1, learning_rate=0.05, max_depth=10, min_child_weight=1, n_estimators=200, scale_pos_weight=20, subsample=0.8; total time=  26.8s\n"
     ]
    },
    {
     "name": "stderr",
     "output_type": "stream",
     "text": [
      "/opt/anaconda3/lib/python3.11/site-packages/xgboost/core.py:158: UserWarning: [17:11:12] WARNING: /Users/runner/work/xgboost/xgboost/src/learner.cc:740: \n",
      "Parameters: { \"use_label_encoder\" } are not used.\n",
      "\n",
      "  warnings.warn(smsg, UserWarning)\n"
     ]
    },
    {
     "name": "stdout",
     "output_type": "stream",
     "text": [
      "[CV] END colsample_bytree=1.0, gamma=0, learning_rate=0.2, max_depth=10, min_child_weight=10, n_estimators=300, scale_pos_weight=10, subsample=0.8; total time=  33.1s\n",
      "[CV] END colsample_bytree=1.0, gamma=0, learning_rate=0.05, max_depth=15, min_child_weight=10, n_estimators=100, scale_pos_weight=1, subsample=0.8; total time=  16.7s\n"
     ]
    },
    {
     "name": "stderr",
     "output_type": "stream",
     "text": [
      "/opt/anaconda3/lib/python3.11/site-packages/xgboost/core.py:158: UserWarning: [17:11:20] WARNING: /Users/runner/work/xgboost/xgboost/src/learner.cc:740: \n",
      "Parameters: { \"use_label_encoder\" } are not used.\n",
      "\n",
      "  warnings.warn(smsg, UserWarning)\n",
      "/opt/anaconda3/lib/python3.11/site-packages/xgboost/core.py:158: UserWarning: [17:11:21] WARNING: /Users/runner/work/xgboost/xgboost/src/learner.cc:740: \n",
      "Parameters: { \"use_label_encoder\" } are not used.\n",
      "\n",
      "  warnings.warn(smsg, UserWarning)\n"
     ]
    },
    {
     "name": "stdout",
     "output_type": "stream",
     "text": [
      "[CV] END colsample_bytree=1.0, gamma=0, learning_rate=0.2, max_depth=10, min_child_weight=10, n_estimators=300, scale_pos_weight=10, subsample=0.8; total time=  34.1s\n",
      "[CV] END colsample_bytree=1.0, gamma=0, learning_rate=0.05, max_depth=15, min_child_weight=10, n_estimators=100, scale_pos_weight=1, subsample=0.8; total time=  16.7s\n"
     ]
    },
    {
     "name": "stderr",
     "output_type": "stream",
     "text": [
      "/opt/anaconda3/lib/python3.11/site-packages/xgboost/core.py:158: UserWarning: [17:11:25] WARNING: /Users/runner/work/xgboost/xgboost/src/learner.cc:740: \n",
      "Parameters: { \"use_label_encoder\" } are not used.\n",
      "\n",
      "  warnings.warn(smsg, UserWarning)\n",
      "/opt/anaconda3/lib/python3.11/site-packages/xgboost/core.py:158: UserWarning: [17:11:26] WARNING: /Users/runner/work/xgboost/xgboost/src/learner.cc:740: \n",
      "Parameters: { \"use_label_encoder\" } are not used.\n",
      "\n",
      "  warnings.warn(smsg, UserWarning)\n"
     ]
    },
    {
     "name": "stdout",
     "output_type": "stream",
     "text": [
      "[CV] END colsample_bytree=1.0, gamma=0, learning_rate=0.05, max_depth=15, min_child_weight=10, n_estimators=100, scale_pos_weight=1, subsample=0.8; total time=  16.6s\n",
      "[CV] END colsample_bytree=1.0, gamma=0, learning_rate=0.2, max_depth=10, min_child_weight=10, n_estimators=300, scale_pos_weight=10, subsample=0.8; total time=  34.0s\n"
     ]
    },
    {
     "name": "stderr",
     "output_type": "stream",
     "text": [
      "/opt/anaconda3/lib/python3.11/site-packages/xgboost/core.py:158: UserWarning: [17:11:29] WARNING: /Users/runner/work/xgboost/xgboost/src/learner.cc:740: \n",
      "Parameters: { \"use_label_encoder\" } are not used.\n",
      "\n",
      "  warnings.warn(smsg, UserWarning)\n"
     ]
    },
    {
     "name": "stdout",
     "output_type": "stream",
     "text": [
      "[CV] END colsample_bytree=1.0, gamma=0, learning_rate=0.2, max_depth=10, min_child_weight=10, n_estimators=300, scale_pos_weight=10, subsample=0.8; total time=  34.3s\n",
      "[CV] END colsample_bytree=1.0, gamma=0, learning_rate=0.2, max_depth=10, min_child_weight=10, n_estimators=300, scale_pos_weight=10, subsample=0.8; total time=  33.9s\n"
     ]
    },
    {
     "name": "stderr",
     "output_type": "stream",
     "text": [
      "/opt/anaconda3/lib/python3.11/site-packages/xgboost/core.py:158: UserWarning: [17:11:32] WARNING: /Users/runner/work/xgboost/xgboost/src/learner.cc:740: \n",
      "Parameters: { \"use_label_encoder\" } are not used.\n",
      "\n",
      "  warnings.warn(smsg, UserWarning)\n",
      "/opt/anaconda3/lib/python3.11/site-packages/xgboost/core.py:158: UserWarning: [17:11:33] WARNING: /Users/runner/work/xgboost/xgboost/src/learner.cc:740: \n",
      "Parameters: { \"use_label_encoder\" } are not used.\n",
      "\n",
      "  warnings.warn(smsg, UserWarning)\n",
      "/opt/anaconda3/lib/python3.11/site-packages/xgboost/core.py:158: UserWarning: [17:11:34] WARNING: /Users/runner/work/xgboost/xgboost/src/learner.cc:740: \n",
      "Parameters: { \"use_label_encoder\" } are not used.\n",
      "\n",
      "  warnings.warn(smsg, UserWarning)\n"
     ]
    },
    {
     "name": "stdout",
     "output_type": "stream",
     "text": [
      "[CV] END colsample_bytree=1.0, gamma=0, learning_rate=0.05, max_depth=15, min_child_weight=10, n_estimators=100, scale_pos_weight=1, subsample=0.8; total time=  16.2s\n",
      "[CV] END colsample_bytree=1.0, gamma=0, learning_rate=0.05, max_depth=15, min_child_weight=10, n_estimators=100, scale_pos_weight=1, subsample=0.8; total time=  17.8s\n"
     ]
    },
    {
     "name": "stderr",
     "output_type": "stream",
     "text": [
      "/opt/anaconda3/lib/python3.11/site-packages/xgboost/core.py:158: UserWarning: [17:11:38] WARNING: /Users/runner/work/xgboost/xgboost/src/learner.cc:740: \n",
      "Parameters: { \"use_label_encoder\" } are not used.\n",
      "\n",
      "  warnings.warn(smsg, UserWarning)\n",
      "/opt/anaconda3/lib/python3.11/site-packages/xgboost/core.py:158: UserWarning: [17:11:42] WARNING: /Users/runner/work/xgboost/xgboost/src/learner.cc:740: \n",
      "Parameters: { \"use_label_encoder\" } are not used.\n",
      "\n",
      "  warnings.warn(smsg, UserWarning)\n"
     ]
    },
    {
     "name": "stdout",
     "output_type": "stream",
     "text": [
      "[CV] END colsample_bytree=0.8, gamma=0, learning_rate=0.01, max_depth=10, min_child_weight=5, n_estimators=300, scale_pos_weight=10, subsample=0.8; total time=  48.9s\n",
      "[CV] END colsample_bytree=0.8, gamma=0, learning_rate=0.01, max_depth=10, min_child_weight=5, n_estimators=300, scale_pos_weight=10, subsample=0.8; total time=  49.3s\n"
     ]
    },
    {
     "name": "stderr",
     "output_type": "stream",
     "text": [
      "/opt/anaconda3/lib/python3.11/site-packages/xgboost/core.py:158: UserWarning: [17:12:16] WARNING: /Users/runner/work/xgboost/xgboost/src/learner.cc:740: \n",
      "Parameters: { \"use_label_encoder\" } are not used.\n",
      "\n",
      "  warnings.warn(smsg, UserWarning)\n",
      "/opt/anaconda3/lib/python3.11/site-packages/xgboost/core.py:158: UserWarning: [17:12:16] WARNING: /Users/runner/work/xgboost/xgboost/src/learner.cc:740: \n",
      "Parameters: { \"use_label_encoder\" } are not used.\n",
      "\n",
      "  warnings.warn(smsg, UserWarning)\n"
     ]
    },
    {
     "name": "stdout",
     "output_type": "stream",
     "text": [
      "[CV] END colsample_bytree=0.8, gamma=0, learning_rate=0.01, max_depth=10, min_child_weight=5, n_estimators=300, scale_pos_weight=10, subsample=0.8; total time=  51.5s\n",
      "[CV] END colsample_bytree=0.8, gamma=0, learning_rate=0.01, max_depth=10, min_child_weight=5, n_estimators=300, scale_pos_weight=10, subsample=0.8; total time=  50.8s\n",
      "[CV] END colsample_bytree=0.8, gamma=0, learning_rate=0.01, max_depth=10, min_child_weight=5, n_estimators=300, scale_pos_weight=10, subsample=0.8; total time=  50.9s\n"
     ]
    },
    {
     "name": "stderr",
     "output_type": "stream",
     "text": [
      "/opt/anaconda3/lib/python3.11/site-packages/xgboost/core.py:158: UserWarning: [17:12:22] WARNING: /Users/runner/work/xgboost/xgboost/src/learner.cc:740: \n",
      "Parameters: { \"use_label_encoder\" } are not used.\n",
      "\n",
      "  warnings.warn(smsg, UserWarning)\n",
      "/opt/anaconda3/lib/python3.11/site-packages/xgboost/core.py:158: UserWarning: [17:12:23] WARNING: /Users/runner/work/xgboost/xgboost/src/learner.cc:740: \n",
      "Parameters: { \"use_label_encoder\" } are not used.\n",
      "\n",
      "  warnings.warn(smsg, UserWarning)\n",
      "/opt/anaconda3/lib/python3.11/site-packages/xgboost/core.py:158: UserWarning: [17:12:24] WARNING: /Users/runner/work/xgboost/xgboost/src/learner.cc:740: \n",
      "Parameters: { \"use_label_encoder\" } are not used.\n",
      "\n",
      "  warnings.warn(smsg, UserWarning)\n"
     ]
    },
    {
     "name": "stdout",
     "output_type": "stream",
     "text": [
      "[CV] END colsample_bytree=0.8, gamma=0.1, learning_rate=0.01, max_depth=20, min_child_weight=10, n_estimators=200, scale_pos_weight=20, subsample=1.0; total time= 1.0min\n"
     ]
    },
    {
     "name": "stderr",
     "output_type": "stream",
     "text": [
      "/opt/anaconda3/lib/python3.11/site-packages/xgboost/core.py:158: UserWarning: [17:12:36] WARNING: /Users/runner/work/xgboost/xgboost/src/learner.cc:740: \n",
      "Parameters: { \"use_label_encoder\" } are not used.\n",
      "\n",
      "  warnings.warn(smsg, UserWarning)\n"
     ]
    },
    {
     "name": "stdout",
     "output_type": "stream",
     "text": [
      "[CV] END colsample_bytree=0.8, gamma=0.1, learning_rate=0.01, max_depth=20, min_child_weight=10, n_estimators=200, scale_pos_weight=20, subsample=1.0; total time= 1.1min\n",
      "[CV] END colsample_bytree=0.8, gamma=0.1, learning_rate=0.01, max_depth=20, min_child_weight=10, n_estimators=200, scale_pos_weight=20, subsample=1.0; total time= 1.2min\n"
     ]
    },
    {
     "name": "stderr",
     "output_type": "stream",
     "text": [
      "/opt/anaconda3/lib/python3.11/site-packages/xgboost/core.py:158: UserWarning: [17:12:47] WARNING: /Users/runner/work/xgboost/xgboost/src/learner.cc:740: \n",
      "Parameters: { \"use_label_encoder\" } are not used.\n",
      "\n",
      "  warnings.warn(smsg, UserWarning)\n",
      "/opt/anaconda3/lib/python3.11/site-packages/xgboost/core.py:158: UserWarning: [17:12:52] WARNING: /Users/runner/work/xgboost/xgboost/src/learner.cc:740: \n",
      "Parameters: { \"use_label_encoder\" } are not used.\n",
      "\n",
      "  warnings.warn(smsg, UserWarning)\n"
     ]
    },
    {
     "name": "stdout",
     "output_type": "stream",
     "text": [
      "[CV] END colsample_bytree=0.8, gamma=0.1, learning_rate=0.01, max_depth=20, min_child_weight=10, n_estimators=200, scale_pos_weight=20, subsample=1.0; total time= 1.2min\n",
      "[CV] END colsample_bytree=0.8, gamma=0.1, learning_rate=0.01, max_depth=20, min_child_weight=10, n_estimators=200, scale_pos_weight=20, subsample=1.0; total time= 1.2min\n"
     ]
    },
    {
     "name": "stderr",
     "output_type": "stream",
     "text": [
      "/opt/anaconda3/lib/python3.11/site-packages/xgboost/core.py:158: UserWarning: [17:13:30] WARNING: /Users/runner/work/xgboost/xgboost/src/learner.cc:740: \n",
      "Parameters: { \"use_label_encoder\" } are not used.\n",
      "\n",
      "  warnings.warn(smsg, UserWarning)\n",
      "/opt/anaconda3/lib/python3.11/site-packages/xgboost/core.py:158: UserWarning: [17:13:31] WARNING: /Users/runner/work/xgboost/xgboost/src/learner.cc:740: \n",
      "Parameters: { \"use_label_encoder\" } are not used.\n",
      "\n",
      "  warnings.warn(smsg, UserWarning)\n"
     ]
    },
    {
     "name": "stdout",
     "output_type": "stream",
     "text": [
      "[CV] END colsample_bytree=0.8, gamma=0.1, learning_rate=0.01, max_depth=20, min_child_weight=5, n_estimators=100, scale_pos_weight=10, subsample=0.8; total time=  44.3s\n",
      "[CV] END colsample_bytree=1.0, gamma=0.2, learning_rate=0.01, max_depth=15, min_child_weight=10, n_estimators=300, scale_pos_weight=10, subsample=1.0; total time= 1.3min\n"
     ]
    },
    {
     "name": "stderr",
     "output_type": "stream",
     "text": [
      "/opt/anaconda3/lib/python3.11/site-packages/xgboost/core.py:158: UserWarning: [17:13:36] WARNING: /Users/runner/work/xgboost/xgboost/src/learner.cc:740: \n",
      "Parameters: { \"use_label_encoder\" } are not used.\n",
      "\n",
      "  warnings.warn(smsg, UserWarning)\n"
     ]
    },
    {
     "name": "stdout",
     "output_type": "stream",
     "text": [
      "[CV] END colsample_bytree=1.0, gamma=0.2, learning_rate=0.01, max_depth=15, min_child_weight=10, n_estimators=300, scale_pos_weight=10, subsample=1.0; total time= 1.3min\n"
     ]
    },
    {
     "name": "stderr",
     "output_type": "stream",
     "text": [
      "/opt/anaconda3/lib/python3.11/site-packages/xgboost/core.py:158: UserWarning: [17:13:39] WARNING: /Users/runner/work/xgboost/xgboost/src/learner.cc:740: \n",
      "Parameters: { \"use_label_encoder\" } are not used.\n",
      "\n",
      "  warnings.warn(smsg, UserWarning)\n"
     ]
    },
    {
     "name": "stdout",
     "output_type": "stream",
     "text": [
      "[CV] END colsample_bytree=1.0, gamma=0.2, learning_rate=0.01, max_depth=15, min_child_weight=10, n_estimators=300, scale_pos_weight=10, subsample=1.0; total time= 1.3min\n"
     ]
    },
    {
     "name": "stderr",
     "output_type": "stream",
     "text": [
      "/opt/anaconda3/lib/python3.11/site-packages/xgboost/core.py:158: UserWarning: [17:13:40] WARNING: /Users/runner/work/xgboost/xgboost/src/learner.cc:740: \n",
      "Parameters: { \"use_label_encoder\" } are not used.\n",
      "\n",
      "  warnings.warn(smsg, UserWarning)\n",
      "/opt/anaconda3/lib/python3.11/site-packages/xgboost/core.py:158: UserWarning: [17:13:47] WARNING: /Users/runner/work/xgboost/xgboost/src/learner.cc:740: \n",
      "Parameters: { \"use_label_encoder\" } are not used.\n",
      "\n",
      "  warnings.warn(smsg, UserWarning)\n"
     ]
    },
    {
     "name": "stdout",
     "output_type": "stream",
     "text": [
      "[CV] END colsample_bytree=1.0, gamma=0.2, learning_rate=0.01, max_depth=15, min_child_weight=10, n_estimators=300, scale_pos_weight=10, subsample=1.0; total time= 1.4min\n"
     ]
    },
    {
     "name": "stderr",
     "output_type": "stream",
     "text": [
      "/opt/anaconda3/lib/python3.11/site-packages/xgboost/core.py:158: UserWarning: [17:13:59] WARNING: /Users/runner/work/xgboost/xgboost/src/learner.cc:740: \n",
      "Parameters: { \"use_label_encoder\" } are not used.\n",
      "\n",
      "  warnings.warn(smsg, UserWarning)\n"
     ]
    },
    {
     "name": "stdout",
     "output_type": "stream",
     "text": [
      "[CV] END colsample_bytree=0.8, gamma=0.1, learning_rate=0.01, max_depth=20, min_child_weight=5, n_estimators=100, scale_pos_weight=10, subsample=0.8; total time=  39.2s\n",
      "[CV] END colsample_bytree=1.0, gamma=0.2, learning_rate=0.01, max_depth=15, min_child_weight=10, n_estimators=300, scale_pos_weight=10, subsample=1.0; total time= 1.4min\n",
      "[CV] END colsample_bytree=0.8, gamma=0.1, learning_rate=0.01, max_depth=20, min_child_weight=5, n_estimators=100, scale_pos_weight=10, subsample=0.8; total time=  41.7s\n"
     ]
    },
    {
     "name": "stderr",
     "output_type": "stream",
     "text": [
      "/opt/anaconda3/lib/python3.11/site-packages/xgboost/core.py:158: UserWarning: [17:14:10] WARNING: /Users/runner/work/xgboost/xgboost/src/learner.cc:740: \n",
      "Parameters: { \"use_label_encoder\" } are not used.\n",
      "\n",
      "  warnings.warn(smsg, UserWarning)\n",
      "/opt/anaconda3/lib/python3.11/site-packages/xgboost/core.py:158: UserWarning: [17:14:12] WARNING: /Users/runner/work/xgboost/xgboost/src/learner.cc:740: \n",
      "Parameters: { \"use_label_encoder\" } are not used.\n",
      "\n",
      "  warnings.warn(smsg, UserWarning)\n",
      "/opt/anaconda3/lib/python3.11/site-packages/xgboost/core.py:158: UserWarning: [17:14:13] WARNING: /Users/runner/work/xgboost/xgboost/src/learner.cc:740: \n",
      "Parameters: { \"use_label_encoder\" } are not used.\n",
      "\n",
      "  warnings.warn(smsg, UserWarning)\n"
     ]
    },
    {
     "name": "stdout",
     "output_type": "stream",
     "text": [
      "[CV] END colsample_bytree=0.8, gamma=0.1, learning_rate=0.01, max_depth=20, min_child_weight=5, n_estimators=100, scale_pos_weight=10, subsample=0.8; total time=  40.6s\n",
      "[CV] END colsample_bytree=0.8, gamma=0, learning_rate=0.1, max_depth=15, min_child_weight=5, n_estimators=200, scale_pos_weight=1, subsample=0.8; total time=  36.9s\n",
      "[CV] END colsample_bytree=0.8, gamma=0.1, learning_rate=0.01, max_depth=20, min_child_weight=5, n_estimators=100, scale_pos_weight=10, subsample=0.8; total time=  40.6s\n"
     ]
    },
    {
     "name": "stderr",
     "output_type": "stream",
     "text": [
      "/opt/anaconda3/lib/python3.11/site-packages/xgboost/core.py:158: UserWarning: [17:14:17] WARNING: /Users/runner/work/xgboost/xgboost/src/learner.cc:740: \n",
      "Parameters: { \"use_label_encoder\" } are not used.\n",
      "\n",
      "  warnings.warn(smsg, UserWarning)\n",
      "/opt/anaconda3/lib/python3.11/site-packages/xgboost/core.py:158: UserWarning: [17:14:19] WARNING: /Users/runner/work/xgboost/xgboost/src/learner.cc:740: \n",
      "Parameters: { \"use_label_encoder\" } are not used.\n",
      "\n",
      "  warnings.warn(smsg, UserWarning)\n"
     ]
    },
    {
     "name": "stdout",
     "output_type": "stream",
     "text": [
      "[CV] END colsample_bytree=0.8, gamma=0, learning_rate=0.1, max_depth=15, min_child_weight=5, n_estimators=200, scale_pos_weight=1, subsample=0.8; total time=  38.5s\n"
     ]
    },
    {
     "name": "stderr",
     "output_type": "stream",
     "text": [
      "/opt/anaconda3/lib/python3.11/site-packages/xgboost/core.py:158: UserWarning: [17:14:19] WARNING: /Users/runner/work/xgboost/xgboost/src/learner.cc:740: \n",
      "Parameters: { \"use_label_encoder\" } are not used.\n",
      "\n",
      "  warnings.warn(smsg, UserWarning)\n",
      "/opt/anaconda3/lib/python3.11/site-packages/xgboost/core.py:158: UserWarning: [17:14:23] WARNING: /Users/runner/work/xgboost/xgboost/src/learner.cc:740: \n",
      "Parameters: { \"use_label_encoder\" } are not used.\n",
      "\n",
      "  warnings.warn(smsg, UserWarning)\n"
     ]
    },
    {
     "name": "stdout",
     "output_type": "stream",
     "text": [
      "[CV] END colsample_bytree=0.8, gamma=0, learning_rate=0.1, max_depth=15, min_child_weight=5, n_estimators=200, scale_pos_weight=1, subsample=0.8; total time=  33.7s\n"
     ]
    },
    {
     "name": "stderr",
     "output_type": "stream",
     "text": [
      "/opt/anaconda3/lib/python3.11/site-packages/xgboost/core.py:158: UserWarning: [17:14:33] WARNING: /Users/runner/work/xgboost/xgboost/src/learner.cc:740: \n",
      "Parameters: { \"use_label_encoder\" } are not used.\n",
      "\n",
      "  warnings.warn(smsg, UserWarning)\n"
     ]
    },
    {
     "name": "stdout",
     "output_type": "stream",
     "text": [
      "[CV] END colsample_bytree=0.8, gamma=0, learning_rate=0.1, max_depth=15, min_child_weight=5, n_estimators=200, scale_pos_weight=1, subsample=0.8; total time=  34.4s\n",
      "[CV] END colsample_bytree=0.8, gamma=0, learning_rate=0.1, max_depth=15, min_child_weight=5, n_estimators=200, scale_pos_weight=1, subsample=0.8; total time=  34.8s\n"
     ]
    },
    {
     "name": "stderr",
     "output_type": "stream",
     "text": [
      "/opt/anaconda3/lib/python3.11/site-packages/xgboost/core.py:158: UserWarning: [17:14:45] WARNING: /Users/runner/work/xgboost/xgboost/src/learner.cc:740: \n",
      "Parameters: { \"use_label_encoder\" } are not used.\n",
      "\n",
      "  warnings.warn(smsg, UserWarning)\n",
      "/opt/anaconda3/lib/python3.11/site-packages/xgboost/core.py:158: UserWarning: [17:14:48] WARNING: /Users/runner/work/xgboost/xgboost/src/learner.cc:740: \n",
      "Parameters: { \"use_label_encoder\" } are not used.\n",
      "\n",
      "  warnings.warn(smsg, UserWarning)\n"
     ]
    },
    {
     "name": "stdout",
     "output_type": "stream",
     "text": [
      "[CV] END colsample_bytree=1.0, gamma=0, learning_rate=0.1, max_depth=15, min_child_weight=10, n_estimators=300, scale_pos_weight=20, subsample=0.8; total time=  45.9s\n",
      "[CV] END colsample_bytree=1.0, gamma=0.2, learning_rate=0.2, max_depth=20, min_child_weight=1, n_estimators=200, scale_pos_weight=1, subsample=0.8; total time=  28.4s\n"
     ]
    },
    {
     "name": "stderr",
     "output_type": "stream",
     "text": [
      "/opt/anaconda3/lib/python3.11/site-packages/xgboost/core.py:158: UserWarning: [17:15:00] WARNING: /Users/runner/work/xgboost/xgboost/src/learner.cc:740: \n",
      "Parameters: { \"use_label_encoder\" } are not used.\n",
      "\n",
      "  warnings.warn(smsg, UserWarning)\n",
      "/opt/anaconda3/lib/python3.11/site-packages/xgboost/core.py:158: UserWarning: [17:15:02] WARNING: /Users/runner/work/xgboost/xgboost/src/learner.cc:740: \n",
      "Parameters: { \"use_label_encoder\" } are not used.\n",
      "\n",
      "  warnings.warn(smsg, UserWarning)\n"
     ]
    },
    {
     "name": "stdout",
     "output_type": "stream",
     "text": [
      "[CV] END colsample_bytree=1.0, gamma=0, learning_rate=0.1, max_depth=15, min_child_weight=10, n_estimators=300, scale_pos_weight=20, subsample=0.8; total time=  51.7s\n",
      "[CV] END colsample_bytree=1.0, gamma=0, learning_rate=0.1, max_depth=15, min_child_weight=10, n_estimators=300, scale_pos_weight=20, subsample=0.8; total time=  54.8s\n",
      "[CV] END colsample_bytree=1.0, gamma=0, learning_rate=0.1, max_depth=15, min_child_weight=10, n_estimators=300, scale_pos_weight=20, subsample=0.8; total time=  53.2s\n"
     ]
    },
    {
     "name": "stderr",
     "output_type": "stream",
     "text": [
      "/opt/anaconda3/lib/python3.11/site-packages/xgboost/core.py:158: UserWarning: [17:15:11] WARNING: /Users/runner/work/xgboost/xgboost/src/learner.cc:740: \n",
      "Parameters: { \"use_label_encoder\" } are not used.\n",
      "\n",
      "  warnings.warn(smsg, UserWarning)\n"
     ]
    },
    {
     "name": "stdout",
     "output_type": "stream",
     "text": [
      "[CV] END colsample_bytree=1.0, gamma=0, learning_rate=0.1, max_depth=15, min_child_weight=10, n_estimators=300, scale_pos_weight=20, subsample=0.8; total time=  52.0s\n"
     ]
    },
    {
     "name": "stderr",
     "output_type": "stream",
     "text": [
      "/opt/anaconda3/lib/python3.11/site-packages/xgboost/core.py:158: UserWarning: [17:15:12] WARNING: /Users/runner/work/xgboost/xgboost/src/learner.cc:740: \n",
      "Parameters: { \"use_label_encoder\" } are not used.\n",
      "\n",
      "  warnings.warn(smsg, UserWarning)\n",
      "/opt/anaconda3/lib/python3.11/site-packages/xgboost/core.py:158: UserWarning: [17:15:12] WARNING: /Users/runner/work/xgboost/xgboost/src/learner.cc:740: \n",
      "Parameters: { \"use_label_encoder\" } are not used.\n",
      "\n",
      "  warnings.warn(smsg, UserWarning)\n",
      "/opt/anaconda3/lib/python3.11/site-packages/xgboost/core.py:158: UserWarning: [17:15:16] WARNING: /Users/runner/work/xgboost/xgboost/src/learner.cc:740: \n",
      "Parameters: { \"use_label_encoder\" } are not used.\n",
      "\n",
      "  warnings.warn(smsg, UserWarning)\n"
     ]
    },
    {
     "name": "stdout",
     "output_type": "stream",
     "text": [
      "[CV] END colsample_bytree=1.0, gamma=0.2, learning_rate=0.2, max_depth=20, min_child_weight=1, n_estimators=200, scale_pos_weight=1, subsample=0.8; total time=  35.9s\n",
      "[CV] END colsample_bytree=1.0, gamma=0.2, learning_rate=0.2, max_depth=20, min_child_weight=1, n_estimators=200, scale_pos_weight=1, subsample=0.8; total time=  35.1s\n"
     ]
    },
    {
     "name": "stderr",
     "output_type": "stream",
     "text": [
      "/opt/anaconda3/lib/python3.11/site-packages/xgboost/core.py:158: UserWarning: [17:15:21] WARNING: /Users/runner/work/xgboost/xgboost/src/learner.cc:740: \n",
      "Parameters: { \"use_label_encoder\" } are not used.\n",
      "\n",
      "  warnings.warn(smsg, UserWarning)\n",
      "/opt/anaconda3/lib/python3.11/site-packages/xgboost/core.py:158: UserWarning: [17:15:23] WARNING: /Users/runner/work/xgboost/xgboost/src/learner.cc:740: \n",
      "Parameters: { \"use_label_encoder\" } are not used.\n",
      "\n",
      "  warnings.warn(smsg, UserWarning)\n"
     ]
    },
    {
     "name": "stdout",
     "output_type": "stream",
     "text": [
      "[CV] END colsample_bytree=1.0, gamma=0.2, learning_rate=0.2, max_depth=20, min_child_weight=1, n_estimators=200, scale_pos_weight=1, subsample=0.8; total time=  33.5s\n",
      "[CV] END colsample_bytree=1.0, gamma=0.2, learning_rate=0.2, max_depth=20, min_child_weight=1, n_estimators=200, scale_pos_weight=1, subsample=0.8; total time=  34.2s\n"
     ]
    },
    {
     "name": "stderr",
     "output_type": "stream",
     "text": [
      "/opt/anaconda3/lib/python3.11/site-packages/xgboost/core.py:158: UserWarning: [17:15:34] WARNING: /Users/runner/work/xgboost/xgboost/src/learner.cc:740: \n",
      "Parameters: { \"use_label_encoder\" } are not used.\n",
      "\n",
      "  warnings.warn(smsg, UserWarning)\n",
      "/opt/anaconda3/lib/python3.11/site-packages/xgboost/core.py:158: UserWarning: [17:15:37] WARNING: /Users/runner/work/xgboost/xgboost/src/learner.cc:740: \n",
      "Parameters: { \"use_label_encoder\" } are not used.\n",
      "\n",
      "  warnings.warn(smsg, UserWarning)\n"
     ]
    },
    {
     "name": "stdout",
     "output_type": "stream",
     "text": [
      "[CV] END colsample_bytree=1.0, gamma=0.2, learning_rate=0.01, max_depth=20, min_child_weight=10, n_estimators=300, scale_pos_weight=10, subsample=0.8; total time= 1.2min\n"
     ]
    },
    {
     "name": "stderr",
     "output_type": "stream",
     "text": [
      "/opt/anaconda3/lib/python3.11/site-packages/xgboost/core.py:158: UserWarning: [17:16:39] WARNING: /Users/runner/work/xgboost/xgboost/src/learner.cc:740: \n",
      "Parameters: { \"use_label_encoder\" } are not used.\n",
      "\n",
      "  warnings.warn(smsg, UserWarning)\n"
     ]
    },
    {
     "name": "stdout",
     "output_type": "stream",
     "text": [
      "[CV] END colsample_bytree=1.0, gamma=0.2, learning_rate=0.01, max_depth=20, min_child_weight=10, n_estimators=300, scale_pos_weight=10, subsample=0.8; total time= 1.3min\n"
     ]
    },
    {
     "name": "stderr",
     "output_type": "stream",
     "text": [
      "/opt/anaconda3/lib/python3.11/site-packages/xgboost/core.py:158: UserWarning: [17:16:54] WARNING: /Users/runner/work/xgboost/xgboost/src/learner.cc:740: \n",
      "Parameters: { \"use_label_encoder\" } are not used.\n",
      "\n",
      "  warnings.warn(smsg, UserWarning)\n"
     ]
    },
    {
     "name": "stdout",
     "output_type": "stream",
     "text": [
      "[CV] END colsample_bytree=1.0, gamma=0.2, learning_rate=0.01, max_depth=20, min_child_weight=10, n_estimators=300, scale_pos_weight=10, subsample=0.8; total time= 1.4min\n"
     ]
    },
    {
     "name": "stderr",
     "output_type": "stream",
     "text": [
      "/opt/anaconda3/lib/python3.11/site-packages/xgboost/core.py:158: UserWarning: [17:16:59] WARNING: /Users/runner/work/xgboost/xgboost/src/learner.cc:740: \n",
      "Parameters: { \"use_label_encoder\" } are not used.\n",
      "\n",
      "  warnings.warn(smsg, UserWarning)\n"
     ]
    },
    {
     "name": "stdout",
     "output_type": "stream",
     "text": [
      "[CV] END colsample_bytree=1.0, gamma=0, learning_rate=0.01, max_depth=20, min_child_weight=1, n_estimators=300, scale_pos_weight=10, subsample=0.8; total time= 1.9min\n"
     ]
    },
    {
     "name": "stderr",
     "output_type": "stream",
     "text": [
      "/opt/anaconda3/lib/python3.11/site-packages/xgboost/core.py:158: UserWarning: [17:17:11] WARNING: /Users/runner/work/xgboost/xgboost/src/learner.cc:740: \n",
      "Parameters: { \"use_label_encoder\" } are not used.\n",
      "\n",
      "  warnings.warn(smsg, UserWarning)\n"
     ]
    },
    {
     "name": "stdout",
     "output_type": "stream",
     "text": [
      "[CV] END colsample_bytree=0.8, gamma=0.2, learning_rate=0.2, max_depth=15, min_child_weight=10, n_estimators=200, scale_pos_weight=1, subsample=0.8; total time=  32.7s\n",
      "[CV] END colsample_bytree=1.0, gamma=0, learning_rate=0.01, max_depth=20, min_child_weight=1, n_estimators=300, scale_pos_weight=10, subsample=0.8; total time= 2.4min\n"
     ]
    },
    {
     "name": "stderr",
     "output_type": "stream",
     "text": [
      "/opt/anaconda3/lib/python3.11/site-packages/xgboost/core.py:158: UserWarning: [17:17:33] WARNING: /Users/runner/work/xgboost/xgboost/src/learner.cc:740: \n",
      "Parameters: { \"use_label_encoder\" } are not used.\n",
      "\n",
      "  warnings.warn(smsg, UserWarning)\n"
     ]
    },
    {
     "name": "stdout",
     "output_type": "stream",
     "text": [
      "[CV] END colsample_bytree=1.0, gamma=0, learning_rate=0.01, max_depth=20, min_child_weight=1, n_estimators=300, scale_pos_weight=10, subsample=0.8; total time= 2.4min\n"
     ]
    },
    {
     "name": "stderr",
     "output_type": "stream",
     "text": [
      "/opt/anaconda3/lib/python3.11/site-packages/xgboost/core.py:158: UserWarning: [17:17:36] WARNING: /Users/runner/work/xgboost/xgboost/src/learner.cc:740: \n",
      "Parameters: { \"use_label_encoder\" } are not used.\n",
      "\n",
      "  warnings.warn(smsg, UserWarning)\n"
     ]
    },
    {
     "name": "stdout",
     "output_type": "stream",
     "text": [
      "[CV] END colsample_bytree=1.0, gamma=0, learning_rate=0.01, max_depth=20, min_child_weight=1, n_estimators=300, scale_pos_weight=10, subsample=0.8; total time= 2.4min\n"
     ]
    },
    {
     "name": "stderr",
     "output_type": "stream",
     "text": [
      "/opt/anaconda3/lib/python3.11/site-packages/xgboost/core.py:158: UserWarning: [17:17:37] WARNING: /Users/runner/work/xgboost/xgboost/src/learner.cc:740: \n",
      "Parameters: { \"use_label_encoder\" } are not used.\n",
      "\n",
      "  warnings.warn(smsg, UserWarning)\n",
      "/opt/anaconda3/lib/python3.11/site-packages/xgboost/core.py:158: UserWarning: [17:17:41] WARNING: /Users/runner/work/xgboost/xgboost/src/learner.cc:740: \n",
      "Parameters: { \"use_label_encoder\" } are not used.\n",
      "\n",
      "  warnings.warn(smsg, UserWarning)\n"
     ]
    },
    {
     "name": "stdout",
     "output_type": "stream",
     "text": [
      "[CV] END colsample_bytree=1.0, gamma=0, learning_rate=0.01, max_depth=20, min_child_weight=1, n_estimators=300, scale_pos_weight=10, subsample=0.8; total time= 2.4min\n"
     ]
    },
    {
     "name": "stderr",
     "output_type": "stream",
     "text": [
      "/opt/anaconda3/lib/python3.11/site-packages/xgboost/core.py:158: UserWarning: [17:17:47] WARNING: /Users/runner/work/xgboost/xgboost/src/learner.cc:740: \n",
      "Parameters: { \"use_label_encoder\" } are not used.\n",
      "\n",
      "  warnings.warn(smsg, UserWarning)\n"
     ]
    },
    {
     "name": "stdout",
     "output_type": "stream",
     "text": [
      "[CV] END colsample_bytree=0.8, gamma=0.2, learning_rate=0.2, max_depth=15, min_child_weight=10, n_estimators=200, scale_pos_weight=1, subsample=0.8; total time=  41.7s\n"
     ]
    },
    {
     "name": "stderr",
     "output_type": "stream",
     "text": [
      "/opt/anaconda3/lib/python3.11/site-packages/xgboost/core.py:158: UserWarning: [17:17:50] WARNING: /Users/runner/work/xgboost/xgboost/src/learner.cc:740: \n",
      "Parameters: { \"use_label_encoder\" } are not used.\n",
      "\n",
      "  warnings.warn(smsg, UserWarning)\n"
     ]
    },
    {
     "name": "stdout",
     "output_type": "stream",
     "text": [
      "[CV] END colsample_bytree=1.0, gamma=0.2, learning_rate=0.01, max_depth=20, min_child_weight=10, n_estimators=300, scale_pos_weight=10, subsample=0.8; total time= 1.4min\n",
      "[CV] END colsample_bytree=0.8, gamma=0.2, learning_rate=0.2, max_depth=15, min_child_weight=10, n_estimators=200, scale_pos_weight=1, subsample=0.8; total time=  32.4s\n"
     ]
    },
    {
     "name": "stderr",
     "output_type": "stream",
     "text": [
      "/opt/anaconda3/lib/python3.11/site-packages/xgboost/core.py:158: UserWarning: [17:18:04] WARNING: /Users/runner/work/xgboost/xgboost/src/learner.cc:740: \n",
      "Parameters: { \"use_label_encoder\" } are not used.\n",
      "\n",
      "  warnings.warn(smsg, UserWarning)\n"
     ]
    },
    {
     "name": "stdout",
     "output_type": "stream",
     "text": [
      "[CV] END colsample_bytree=0.8, gamma=0.2, learning_rate=0.2, max_depth=15, min_child_weight=10, n_estimators=200, scale_pos_weight=1, subsample=0.8; total time=  30.8s\n"
     ]
    },
    {
     "name": "stderr",
     "output_type": "stream",
     "text": [
      "/opt/anaconda3/lib/python3.11/site-packages/xgboost/core.py:158: UserWarning: [17:18:05] WARNING: /Users/runner/work/xgboost/xgboost/src/learner.cc:740: \n",
      "Parameters: { \"use_label_encoder\" } are not used.\n",
      "\n",
      "  warnings.warn(smsg, UserWarning)\n"
     ]
    },
    {
     "name": "stdout",
     "output_type": "stream",
     "text": [
      "[CV] END colsample_bytree=0.8, gamma=0.2, learning_rate=0.2, max_depth=15, min_child_weight=10, n_estimators=200, scale_pos_weight=1, subsample=0.8; total time=  32.4s\n",
      "[CV] END colsample_bytree=1.0, gamma=0.2, learning_rate=0.2, max_depth=15, min_child_weight=10, n_estimators=200, scale_pos_weight=20, subsample=0.8; total time=  29.7s\n"
     ]
    },
    {
     "name": "stderr",
     "output_type": "stream",
     "text": [
      "/opt/anaconda3/lib/python3.11/site-packages/xgboost/core.py:158: UserWarning: [17:18:07] WARNING: /Users/runner/work/xgboost/xgboost/src/learner.cc:740: \n",
      "Parameters: { \"use_label_encoder\" } are not used.\n",
      "\n",
      "  warnings.warn(smsg, UserWarning)\n",
      "/opt/anaconda3/lib/python3.11/site-packages/xgboost/core.py:158: UserWarning: [17:18:08] WARNING: /Users/runner/work/xgboost/xgboost/src/learner.cc:740: \n",
      "Parameters: { \"use_label_encoder\" } are not used.\n",
      "\n",
      "  warnings.warn(smsg, UserWarning)\n",
      "/opt/anaconda3/lib/python3.11/site-packages/xgboost/core.py:158: UserWarning: [17:18:09] WARNING: /Users/runner/work/xgboost/xgboost/src/learner.cc:740: \n",
      "Parameters: { \"use_label_encoder\" } are not used.\n",
      "\n",
      "  warnings.warn(smsg, UserWarning)\n"
     ]
    },
    {
     "name": "stdout",
     "output_type": "stream",
     "text": [
      "[CV] END colsample_bytree=1.0, gamma=0.2, learning_rate=0.01, max_depth=20, min_child_weight=10, n_estimators=300, scale_pos_weight=10, subsample=0.8; total time= 1.4min\n",
      "[CV] END colsample_bytree=1.0, gamma=0.2, learning_rate=0.2, max_depth=15, min_child_weight=10, n_estimators=200, scale_pos_weight=20, subsample=0.8; total time=  30.3s\n"
     ]
    },
    {
     "name": "stderr",
     "output_type": "stream",
     "text": [
      "/opt/anaconda3/lib/python3.11/site-packages/xgboost/core.py:158: UserWarning: [17:18:17] WARNING: /Users/runner/work/xgboost/xgboost/src/learner.cc:740: \n",
      "Parameters: { \"use_label_encoder\" } are not used.\n",
      "\n",
      "  warnings.warn(smsg, UserWarning)\n",
      "/opt/anaconda3/lib/python3.11/site-packages/xgboost/core.py:158: UserWarning: [17:18:17] WARNING: /Users/runner/work/xgboost/xgboost/src/learner.cc:740: \n",
      "Parameters: { \"use_label_encoder\" } are not used.\n",
      "\n",
      "  warnings.warn(smsg, UserWarning)\n"
     ]
    },
    {
     "name": "stdout",
     "output_type": "stream",
     "text": [
      "[CV] END colsample_bytree=1.0, gamma=0.2, learning_rate=0.2, max_depth=15, min_child_weight=10, n_estimators=200, scale_pos_weight=20, subsample=0.8; total time=  31.1s\n",
      "[CV] END colsample_bytree=1.0, gamma=0, learning_rate=0.01, max_depth=10, min_child_weight=1, n_estimators=100, scale_pos_weight=20, subsample=0.8; total time=  14.6s\n",
      "[CV] END colsample_bytree=1.0, gamma=0, learning_rate=0.01, max_depth=10, min_child_weight=1, n_estimators=100, scale_pos_weight=20, subsample=0.8; total time=  14.4s\n"
     ]
    },
    {
     "name": "stderr",
     "output_type": "stream",
     "text": [
      "/opt/anaconda3/lib/python3.11/site-packages/xgboost/core.py:158: UserWarning: [17:18:21] WARNING: /Users/runner/work/xgboost/xgboost/src/learner.cc:740: \n",
      "Parameters: { \"use_label_encoder\" } are not used.\n",
      "\n",
      "  warnings.warn(smsg, UserWarning)\n"
     ]
    },
    {
     "name": "stdout",
     "output_type": "stream",
     "text": [
      "[CV] END colsample_bytree=1.0, gamma=0, learning_rate=0.01, max_depth=10, min_child_weight=1, n_estimators=100, scale_pos_weight=20, subsample=0.8; total time=  14.5s\n"
     ]
    },
    {
     "name": "stderr",
     "output_type": "stream",
     "text": [
      "/opt/anaconda3/lib/python3.11/site-packages/xgboost/core.py:158: UserWarning: [17:18:22] WARNING: /Users/runner/work/xgboost/xgboost/src/learner.cc:740: \n",
      "Parameters: { \"use_label_encoder\" } are not used.\n",
      "\n",
      "  warnings.warn(smsg, UserWarning)\n",
      "/opt/anaconda3/lib/python3.11/site-packages/xgboost/core.py:158: UserWarning: [17:18:22] WARNING: /Users/runner/work/xgboost/xgboost/src/learner.cc:740: \n",
      "Parameters: { \"use_label_encoder\" } are not used.\n",
      "\n",
      "  warnings.warn(smsg, UserWarning)\n",
      "/opt/anaconda3/lib/python3.11/site-packages/xgboost/core.py:158: UserWarning: [17:18:24] WARNING: /Users/runner/work/xgboost/xgboost/src/learner.cc:740: \n",
      "Parameters: { \"use_label_encoder\" } are not used.\n",
      "\n",
      "  warnings.warn(smsg, UserWarning)\n"
     ]
    },
    {
     "name": "stdout",
     "output_type": "stream",
     "text": [
      "[CV] END colsample_bytree=1.0, gamma=0, learning_rate=0.01, max_depth=10, min_child_weight=1, n_estimators=100, scale_pos_weight=20, subsample=0.8; total time=  15.5s\n",
      "[CV] END colsample_bytree=1.0, gamma=0, learning_rate=0.01, max_depth=10, min_child_weight=1, n_estimators=100, scale_pos_weight=20, subsample=0.8; total time=  15.7s\n",
      "[CV] END colsample_bytree=1.0, gamma=0.2, learning_rate=0.2, max_depth=15, min_child_weight=10, n_estimators=200, scale_pos_weight=20, subsample=0.8; total time=  29.5s\n",
      "[CV] END colsample_bytree=1.0, gamma=0.2, learning_rate=0.2, max_depth=15, min_child_weight=10, n_estimators=200, scale_pos_weight=20, subsample=0.8; total time=  30.6s\n"
     ]
    },
    {
     "name": "stderr",
     "output_type": "stream",
     "text": [
      "/opt/anaconda3/lib/python3.11/site-packages/xgboost/core.py:158: UserWarning: [17:18:33] WARNING: /Users/runner/work/xgboost/xgboost/src/learner.cc:740: \n",
      "Parameters: { \"use_label_encoder\" } are not used.\n",
      "\n",
      "  warnings.warn(smsg, UserWarning)\n",
      "/opt/anaconda3/lib/python3.11/site-packages/xgboost/core.py:158: UserWarning: [17:18:33] WARNING: /Users/runner/work/xgboost/xgboost/src/learner.cc:740: \n",
      "Parameters: { \"use_label_encoder\" } are not used.\n",
      "\n",
      "  warnings.warn(smsg, UserWarning)\n",
      "/opt/anaconda3/lib/python3.11/site-packages/xgboost/core.py:158: UserWarning: [17:18:35] WARNING: /Users/runner/work/xgboost/xgboost/src/learner.cc:740: \n",
      "Parameters: { \"use_label_encoder\" } are not used.\n",
      "\n",
      "  warnings.warn(smsg, UserWarning)\n"
     ]
    },
    {
     "name": "stdout",
     "output_type": "stream",
     "text": [
      "[CV] END colsample_bytree=0.8, gamma=0.1, learning_rate=0.2, max_depth=15, min_child_weight=10, n_estimators=100, scale_pos_weight=10, subsample=0.8; total time=  15.8s\n"
     ]
    },
    {
     "name": "stderr",
     "output_type": "stream",
     "text": [
      "/opt/anaconda3/lib/python3.11/site-packages/xgboost/core.py:158: UserWarning: [17:18:35] WARNING: /Users/runner/work/xgboost/xgboost/src/learner.cc:740: \n",
      "Parameters: { \"use_label_encoder\" } are not used.\n",
      "\n",
      "  warnings.warn(smsg, UserWarning)\n"
     ]
    },
    {
     "name": "stdout",
     "output_type": "stream",
     "text": [
      "[CV] END colsample_bytree=0.8, gamma=0.1, learning_rate=0.2, max_depth=15, min_child_weight=10, n_estimators=100, scale_pos_weight=10, subsample=0.8; total time=  16.4s\n",
      "[CV] END colsample_bytree=0.8, gamma=0.1, learning_rate=0.2, max_depth=15, min_child_weight=10, n_estimators=100, scale_pos_weight=10, subsample=0.8; total time=  17.2s\n"
     ]
    },
    {
     "name": "stderr",
     "output_type": "stream",
     "text": [
      "/opt/anaconda3/lib/python3.11/site-packages/xgboost/core.py:158: UserWarning: [17:18:38] WARNING: /Users/runner/work/xgboost/xgboost/src/learner.cc:740: \n",
      "Parameters: { \"use_label_encoder\" } are not used.\n",
      "\n",
      "  warnings.warn(smsg, UserWarning)\n"
     ]
    },
    {
     "name": "stdout",
     "output_type": "stream",
     "text": [
      "[CV] END colsample_bytree=0.8, gamma=0.1, learning_rate=0.2, max_depth=15, min_child_weight=10, n_estimators=100, scale_pos_weight=10, subsample=0.8; total time=  16.6s\n"
     ]
    },
    {
     "name": "stderr",
     "output_type": "stream",
     "text": [
      "/opt/anaconda3/lib/python3.11/site-packages/xgboost/core.py:158: UserWarning: [17:18:39] WARNING: /Users/runner/work/xgboost/xgboost/src/learner.cc:740: \n",
      "Parameters: { \"use_label_encoder\" } are not used.\n",
      "\n",
      "  warnings.warn(smsg, UserWarning)\n",
      "/opt/anaconda3/lib/python3.11/site-packages/xgboost/core.py:158: UserWarning: [17:18:40] WARNING: /Users/runner/work/xgboost/xgboost/src/learner.cc:740: \n",
      "Parameters: { \"use_label_encoder\" } are not used.\n",
      "\n",
      "  warnings.warn(smsg, UserWarning)\n",
      "/opt/anaconda3/lib/python3.11/site-packages/xgboost/core.py:158: UserWarning: [17:18:42] WARNING: /Users/runner/work/xgboost/xgboost/src/learner.cc:740: \n",
      "Parameters: { \"use_label_encoder\" } are not used.\n",
      "\n",
      "  warnings.warn(smsg, UserWarning)\n"
     ]
    },
    {
     "name": "stdout",
     "output_type": "stream",
     "text": [
      "[CV] END colsample_bytree=0.8, gamma=0.1, learning_rate=0.2, max_depth=15, min_child_weight=10, n_estimators=100, scale_pos_weight=10, subsample=0.8; total time=  18.8s\n"
     ]
    },
    {
     "name": "stderr",
     "output_type": "stream",
     "text": [
      "/opt/anaconda3/lib/python3.11/site-packages/xgboost/core.py:158: UserWarning: [17:18:53] WARNING: /Users/runner/work/xgboost/xgboost/src/learner.cc:740: \n",
      "Parameters: { \"use_label_encoder\" } are not used.\n",
      "\n",
      "  warnings.warn(smsg, UserWarning)\n"
     ]
    },
    {
     "name": "stdout",
     "output_type": "stream",
     "text": [
      "[CV] END colsample_bytree=1.0, gamma=0.2, learning_rate=0.05, max_depth=20, min_child_weight=1, n_estimators=100, scale_pos_weight=10, subsample=1.0; total time=  35.6s\n"
     ]
    },
    {
     "name": "stderr",
     "output_type": "stream",
     "text": [
      "/opt/anaconda3/lib/python3.11/site-packages/xgboost/core.py:158: UserWarning: [17:19:10] WARNING: /Users/runner/work/xgboost/xgboost/src/learner.cc:740: \n",
      "Parameters: { \"use_label_encoder\" } are not used.\n",
      "\n",
      "  warnings.warn(smsg, UserWarning)\n"
     ]
    },
    {
     "name": "stdout",
     "output_type": "stream",
     "text": [
      "[CV] END colsample_bytree=1.0, gamma=0.2, learning_rate=0.05, max_depth=20, min_child_weight=1, n_estimators=100, scale_pos_weight=10, subsample=1.0; total time=  41.5s\n",
      "[CV] END colsample_bytree=1.0, gamma=0.2, learning_rate=0.05, max_depth=20, min_child_weight=1, n_estimators=100, scale_pos_weight=10, subsample=1.0; total time=  42.1s\n",
      "[CV] END colsample_bytree=1.0, gamma=0.2, learning_rate=0.05, max_depth=20, min_child_weight=1, n_estimators=100, scale_pos_weight=10, subsample=1.0; total time=  39.7s\n",
      "[CV] END colsample_bytree=1.0, gamma=0.2, learning_rate=0.05, max_depth=20, min_child_weight=1, n_estimators=100, scale_pos_weight=10, subsample=1.0; total time=  41.2s\n"
     ]
    },
    {
     "name": "stderr",
     "output_type": "stream",
     "text": [
      "/opt/anaconda3/lib/python3.11/site-packages/xgboost/core.py:158: UserWarning: [17:19:17] WARNING: /Users/runner/work/xgboost/xgboost/src/learner.cc:740: \n",
      "Parameters: { \"use_label_encoder\" } are not used.\n",
      "\n",
      "  warnings.warn(smsg, UserWarning)\n",
      "/opt/anaconda3/lib/python3.11/site-packages/xgboost/core.py:158: UserWarning: [17:19:17] WARNING: /Users/runner/work/xgboost/xgboost/src/learner.cc:740: \n",
      "Parameters: { \"use_label_encoder\" } are not used.\n",
      "\n",
      "  warnings.warn(smsg, UserWarning)\n"
     ]
    },
    {
     "name": "stdout",
     "output_type": "stream",
     "text": [
      "[CV] END colsample_bytree=1.0, gamma=0, learning_rate=0.01, max_depth=10, min_child_weight=1, n_estimators=300, scale_pos_weight=1, subsample=1.0; total time=  41.2s\n"
     ]
    },
    {
     "name": "stderr",
     "output_type": "stream",
     "text": [
      "/opt/anaconda3/lib/python3.11/site-packages/xgboost/core.py:158: UserWarning: [17:19:19] WARNING: /Users/runner/work/xgboost/xgboost/src/learner.cc:740: \n",
      "Parameters: { \"use_label_encoder\" } are not used.\n",
      "\n",
      "  warnings.warn(smsg, UserWarning)\n",
      "/opt/anaconda3/lib/python3.11/site-packages/xgboost/core.py:158: UserWarning: [17:19:19] WARNING: /Users/runner/work/xgboost/xgboost/src/learner.cc:740: \n",
      "Parameters: { \"use_label_encoder\" } are not used.\n",
      "\n",
      "  warnings.warn(smsg, UserWarning)\n"
     ]
    },
    {
     "name": "stdout",
     "output_type": "stream",
     "text": [
      "[CV] END colsample_bytree=1.0, gamma=0, learning_rate=0.01, max_depth=10, min_child_weight=1, n_estimators=300, scale_pos_weight=1, subsample=1.0; total time=  40.5s\n"
     ]
    },
    {
     "name": "stderr",
     "output_type": "stream",
     "text": [
      "/opt/anaconda3/lib/python3.11/site-packages/xgboost/core.py:158: UserWarning: [17:19:22] WARNING: /Users/runner/work/xgboost/xgboost/src/learner.cc:740: \n",
      "Parameters: { \"use_label_encoder\" } are not used.\n",
      "\n",
      "  warnings.warn(smsg, UserWarning)\n",
      "/opt/anaconda3/lib/python3.11/site-packages/xgboost/core.py:158: UserWarning: [17:19:22] WARNING: /Users/runner/work/xgboost/xgboost/src/learner.cc:740: \n",
      "Parameters: { \"use_label_encoder\" } are not used.\n",
      "\n",
      "  warnings.warn(smsg, UserWarning)\n"
     ]
    },
    {
     "name": "stdout",
     "output_type": "stream",
     "text": [
      "[CV] END colsample_bytree=1.0, gamma=0, learning_rate=0.01, max_depth=10, min_child_weight=1, n_estimators=300, scale_pos_weight=1, subsample=1.0; total time=  40.9s\n"
     ]
    },
    {
     "name": "stderr",
     "output_type": "stream",
     "text": [
      "/opt/anaconda3/lib/python3.11/site-packages/xgboost/core.py:158: UserWarning: [17:19:34] WARNING: /Users/runner/work/xgboost/xgboost/src/learner.cc:740: \n",
      "Parameters: { \"use_label_encoder\" } are not used.\n",
      "\n",
      "  warnings.warn(smsg, UserWarning)\n"
     ]
    },
    {
     "name": "stdout",
     "output_type": "stream",
     "text": [
      "[CV] END colsample_bytree=1.0, gamma=0, learning_rate=0.2, max_depth=10, min_child_weight=5, n_estimators=200, scale_pos_weight=10, subsample=1.0; total time=  20.5s\n",
      "[CV] END colsample_bytree=1.0, gamma=0, learning_rate=0.2, max_depth=10, min_child_weight=5, n_estimators=200, scale_pos_weight=10, subsample=1.0; total time=  20.9s\n"
     ]
    },
    {
     "name": "stderr",
     "output_type": "stream",
     "text": [
      "/opt/anaconda3/lib/python3.11/site-packages/xgboost/core.py:158: UserWarning: [17:19:38] WARNING: /Users/runner/work/xgboost/xgboost/src/learner.cc:740: \n",
      "Parameters: { \"use_label_encoder\" } are not used.\n",
      "\n",
      "  warnings.warn(smsg, UserWarning)\n"
     ]
    },
    {
     "name": "stdout",
     "output_type": "stream",
     "text": [
      "[CV] END colsample_bytree=1.0, gamma=0, learning_rate=0.2, max_depth=10, min_child_weight=5, n_estimators=200, scale_pos_weight=10, subsample=1.0; total time=  21.6s\n",
      "[CV] END colsample_bytree=1.0, gamma=0, learning_rate=0.2, max_depth=10, min_child_weight=5, n_estimators=200, scale_pos_weight=10, subsample=1.0; total time=  21.6s\n"
     ]
    },
    {
     "name": "stderr",
     "output_type": "stream",
     "text": [
      "/opt/anaconda3/lib/python3.11/site-packages/xgboost/core.py:158: UserWarning: [17:19:41] WARNING: /Users/runner/work/xgboost/xgboost/src/learner.cc:740: \n",
      "Parameters: { \"use_label_encoder\" } are not used.\n",
      "\n",
      "  warnings.warn(smsg, UserWarning)\n"
     ]
    },
    {
     "name": "stdout",
     "output_type": "stream",
     "text": [
      "[CV] END colsample_bytree=1.0, gamma=0, learning_rate=0.2, max_depth=10, min_child_weight=5, n_estimators=200, scale_pos_weight=10, subsample=1.0; total time=  21.7s\n"
     ]
    },
    {
     "name": "stderr",
     "output_type": "stream",
     "text": [
      "/opt/anaconda3/lib/python3.11/site-packages/xgboost/core.py:158: UserWarning: [17:19:42] WARNING: /Users/runner/work/xgboost/xgboost/src/learner.cc:740: \n",
      "Parameters: { \"use_label_encoder\" } are not used.\n",
      "\n",
      "  warnings.warn(smsg, UserWarning)\n",
      "/opt/anaconda3/lib/python3.11/site-packages/xgboost/core.py:158: UserWarning: [17:19:44] WARNING: /Users/runner/work/xgboost/xgboost/src/learner.cc:740: \n",
      "Parameters: { \"use_label_encoder\" } are not used.\n",
      "\n",
      "  warnings.warn(smsg, UserWarning)\n",
      "/opt/anaconda3/lib/python3.11/site-packages/xgboost/core.py:158: UserWarning: [17:19:45] WARNING: /Users/runner/work/xgboost/xgboost/src/learner.cc:740: \n",
      "Parameters: { \"use_label_encoder\" } are not used.\n",
      "\n",
      "  warnings.warn(smsg, UserWarning)\n"
     ]
    },
    {
     "name": "stdout",
     "output_type": "stream",
     "text": [
      "[CV] END colsample_bytree=1.0, gamma=0, learning_rate=0.01, max_depth=10, min_child_weight=1, n_estimators=300, scale_pos_weight=1, subsample=1.0; total time=  40.0s\n"
     ]
    },
    {
     "name": "stderr",
     "output_type": "stream",
     "text": [
      "/opt/anaconda3/lib/python3.11/site-packages/xgboost/core.py:158: UserWarning: [17:19:50] WARNING: /Users/runner/work/xgboost/xgboost/src/learner.cc:740: \n",
      "Parameters: { \"use_label_encoder\" } are not used.\n",
      "\n",
      "  warnings.warn(smsg, UserWarning)\n"
     ]
    },
    {
     "name": "stdout",
     "output_type": "stream",
     "text": [
      "[CV] END colsample_bytree=0.8, gamma=0.1, learning_rate=0.2, max_depth=20, min_child_weight=1, n_estimators=100, scale_pos_weight=1, subsample=0.8; total time=  18.6s\n"
     ]
    },
    {
     "name": "stderr",
     "output_type": "stream",
     "text": [
      "/opt/anaconda3/lib/python3.11/site-packages/xgboost/core.py:158: UserWarning: [17:19:53] WARNING: /Users/runner/work/xgboost/xgboost/src/learner.cc:740: \n",
      "Parameters: { \"use_label_encoder\" } are not used.\n",
      "\n",
      "  warnings.warn(smsg, UserWarning)\n"
     ]
    },
    {
     "name": "stdout",
     "output_type": "stream",
     "text": [
      "[CV] END colsample_bytree=1.0, gamma=0, learning_rate=0.01, max_depth=10, min_child_weight=1, n_estimators=300, scale_pos_weight=1, subsample=1.0; total time=  39.4s\n"
     ]
    },
    {
     "name": "stderr",
     "output_type": "stream",
     "text": [
      "/opt/anaconda3/lib/python3.11/site-packages/xgboost/core.py:158: UserWarning: [17:19:57] WARNING: /Users/runner/work/xgboost/xgboost/src/learner.cc:740: \n",
      "Parameters: { \"use_label_encoder\" } are not used.\n",
      "\n",
      "  warnings.warn(smsg, UserWarning)\n"
     ]
    },
    {
     "name": "stdout",
     "output_type": "stream",
     "text": [
      "[CV] END colsample_bytree=0.8, gamma=0, learning_rate=0.2, max_depth=15, min_child_weight=1, n_estimators=100, scale_pos_weight=20, subsample=0.8; total time=  18.5s\n",
      "[CV] END colsample_bytree=0.8, gamma=0.1, learning_rate=0.2, max_depth=20, min_child_weight=1, n_estimators=100, scale_pos_weight=1, subsample=0.8; total time=  24.8s\n"
     ]
    },
    {
     "name": "stderr",
     "output_type": "stream",
     "text": [
      "/opt/anaconda3/lib/python3.11/site-packages/xgboost/core.py:158: UserWarning: [17:20:03] WARNING: /Users/runner/work/xgboost/xgboost/src/learner.cc:740: \n",
      "Parameters: { \"use_label_encoder\" } are not used.\n",
      "\n",
      "  warnings.warn(smsg, UserWarning)\n",
      "/opt/anaconda3/lib/python3.11/site-packages/xgboost/core.py:158: UserWarning: [17:20:04] WARNING: /Users/runner/work/xgboost/xgboost/src/learner.cc:740: \n",
      "Parameters: { \"use_label_encoder\" } are not used.\n",
      "\n",
      "  warnings.warn(smsg, UserWarning)\n"
     ]
    },
    {
     "name": "stdout",
     "output_type": "stream",
     "text": [
      "[CV] END colsample_bytree=0.8, gamma=0.1, learning_rate=0.2, max_depth=20, min_child_weight=1, n_estimators=100, scale_pos_weight=1, subsample=0.8; total time=  25.2s\n",
      "[CV] END colsample_bytree=0.8, gamma=0.1, learning_rate=0.2, max_depth=20, min_child_weight=1, n_estimators=100, scale_pos_weight=1, subsample=0.8; total time=  26.6s\n",
      "[CV] END colsample_bytree=0.8, gamma=0.1, learning_rate=0.2, max_depth=20, min_child_weight=1, n_estimators=100, scale_pos_weight=1, subsample=0.8; total time=  25.1s\n"
     ]
    },
    {
     "name": "stderr",
     "output_type": "stream",
     "text": [
      "/opt/anaconda3/lib/python3.11/site-packages/xgboost/core.py:158: UserWarning: [17:20:07] WARNING: /Users/runner/work/xgboost/xgboost/src/learner.cc:740: \n",
      "Parameters: { \"use_label_encoder\" } are not used.\n",
      "\n",
      "  warnings.warn(smsg, UserWarning)\n",
      "/opt/anaconda3/lib/python3.11/site-packages/xgboost/core.py:158: UserWarning: [17:20:08] WARNING: /Users/runner/work/xgboost/xgboost/src/learner.cc:740: \n",
      "Parameters: { \"use_label_encoder\" } are not used.\n",
      "\n",
      "  warnings.warn(smsg, UserWarning)\n",
      "/opt/anaconda3/lib/python3.11/site-packages/xgboost/core.py:158: UserWarning: [17:20:09] WARNING: /Users/runner/work/xgboost/xgboost/src/learner.cc:740: \n",
      "Parameters: { \"use_label_encoder\" } are not used.\n",
      "\n",
      "  warnings.warn(smsg, UserWarning)\n"
     ]
    },
    {
     "name": "stdout",
     "output_type": "stream",
     "text": [
      "[CV] END colsample_bytree=0.8, gamma=0, learning_rate=0.2, max_depth=15, min_child_weight=1, n_estimators=100, scale_pos_weight=20, subsample=0.8; total time=  21.9s\n"
     ]
    },
    {
     "name": "stderr",
     "output_type": "stream",
     "text": [
      "/opt/anaconda3/lib/python3.11/site-packages/xgboost/core.py:158: UserWarning: [17:20:13] WARNING: /Users/runner/work/xgboost/xgboost/src/learner.cc:740: \n",
      "Parameters: { \"use_label_encoder\" } are not used.\n",
      "\n",
      "  warnings.warn(smsg, UserWarning)\n"
     ]
    },
    {
     "name": "stdout",
     "output_type": "stream",
     "text": [
      "[CV] END colsample_bytree=0.8, gamma=0, learning_rate=0.2, max_depth=15, min_child_weight=1, n_estimators=100, scale_pos_weight=20, subsample=0.8; total time=  23.0s\n",
      "[CV] END colsample_bytree=0.8, gamma=0, learning_rate=0.2, max_depth=15, min_child_weight=1, n_estimators=100, scale_pos_weight=20, subsample=0.8; total time=  21.6s\n"
     ]
    },
    {
     "name": "stderr",
     "output_type": "stream",
     "text": [
      "/opt/anaconda3/lib/python3.11/site-packages/xgboost/core.py:158: UserWarning: [17:20:17] WARNING: /Users/runner/work/xgboost/xgboost/src/learner.cc:740: \n",
      "Parameters: { \"use_label_encoder\" } are not used.\n",
      "\n",
      "  warnings.warn(smsg, UserWarning)\n",
      "/opt/anaconda3/lib/python3.11/site-packages/xgboost/core.py:158: UserWarning: [17:20:19] WARNING: /Users/runner/work/xgboost/xgboost/src/learner.cc:740: \n",
      "Parameters: { \"use_label_encoder\" } are not used.\n",
      "\n",
      "  warnings.warn(smsg, UserWarning)\n"
     ]
    },
    {
     "name": "stdout",
     "output_type": "stream",
     "text": [
      "[CV] END colsample_bytree=0.8, gamma=0, learning_rate=0.2, max_depth=15, min_child_weight=1, n_estimators=100, scale_pos_weight=20, subsample=0.8; total time=  23.1s\n"
     ]
    },
    {
     "name": "stderr",
     "output_type": "stream",
     "text": [
      "/opt/anaconda3/lib/python3.11/site-packages/xgboost/core.py:158: UserWarning: [17:20:27] WARNING: /Users/runner/work/xgboost/xgboost/src/learner.cc:740: \n",
      "Parameters: { \"use_label_encoder\" } are not used.\n",
      "\n",
      "  warnings.warn(smsg, UserWarning)\n"
     ]
    },
    {
     "name": "stdout",
     "output_type": "stream",
     "text": [
      "[CV] END colsample_bytree=0.8, gamma=0.1, learning_rate=0.2, max_depth=20, min_child_weight=1, n_estimators=300, scale_pos_weight=1, subsample=1.0; total time=  33.2s\n",
      "[CV] END colsample_bytree=0.8, gamma=0.1, learning_rate=0.2, max_depth=20, min_child_weight=1, n_estimators=300, scale_pos_weight=1, subsample=1.0; total time=  32.1s\n"
     ]
    },
    {
     "name": "stderr",
     "output_type": "stream",
     "text": [
      "/opt/anaconda3/lib/python3.11/site-packages/xgboost/core.py:158: UserWarning: [17:20:37] WARNING: /Users/runner/work/xgboost/xgboost/src/learner.cc:740: \n",
      "Parameters: { \"use_label_encoder\" } are not used.\n",
      "\n",
      "  warnings.warn(smsg, UserWarning)\n"
     ]
    },
    {
     "name": "stdout",
     "output_type": "stream",
     "text": [
      "[CV] END colsample_bytree=0.8, gamma=0.1, learning_rate=0.2, max_depth=20, min_child_weight=1, n_estimators=300, scale_pos_weight=1, subsample=1.0; total time=  32.4s\n",
      "[CV] END colsample_bytree=0.8, gamma=0.1, learning_rate=0.2, max_depth=20, min_child_weight=1, n_estimators=300, scale_pos_weight=1, subsample=1.0; total time=  33.3s\n"
     ]
    },
    {
     "name": "stderr",
     "output_type": "stream",
     "text": [
      "/opt/anaconda3/lib/python3.11/site-packages/xgboost/core.py:158: UserWarning: [17:20:40] WARNING: /Users/runner/work/xgboost/xgboost/src/learner.cc:740: \n",
      "Parameters: { \"use_label_encoder\" } are not used.\n",
      "\n",
      "  warnings.warn(smsg, UserWarning)\n",
      "/opt/anaconda3/lib/python3.11/site-packages/xgboost/core.py:158: UserWarning: [17:20:41] WARNING: /Users/runner/work/xgboost/xgboost/src/learner.cc:740: \n",
      "Parameters: { \"use_label_encoder\" } are not used.\n",
      "\n",
      "  warnings.warn(smsg, UserWarning)\n",
      "/opt/anaconda3/lib/python3.11/site-packages/xgboost/core.py:158: UserWarning: [17:20:43] WARNING: /Users/runner/work/xgboost/xgboost/src/learner.cc:740: \n",
      "Parameters: { \"use_label_encoder\" } are not used.\n",
      "\n",
      "  warnings.warn(smsg, UserWarning)\n"
     ]
    },
    {
     "name": "stdout",
     "output_type": "stream",
     "text": [
      "[CV] END colsample_bytree=0.8, gamma=0.1, learning_rate=0.1, max_depth=15, min_child_weight=1, n_estimators=200, scale_pos_weight=1, subsample=0.8; total time=  29.5s\n",
      "[CV] END colsample_bytree=0.8, gamma=0.1, learning_rate=0.2, max_depth=20, min_child_weight=1, n_estimators=300, scale_pos_weight=1, subsample=1.0; total time=  34.2s\n"
     ]
    },
    {
     "name": "stderr",
     "output_type": "stream",
     "text": [
      "/opt/anaconda3/lib/python3.11/site-packages/xgboost/core.py:158: UserWarning: [17:20:47] WARNING: /Users/runner/work/xgboost/xgboost/src/learner.cc:740: \n",
      "Parameters: { \"use_label_encoder\" } are not used.\n",
      "\n",
      "  warnings.warn(smsg, UserWarning)\n",
      "/opt/anaconda3/lib/python3.11/site-packages/xgboost/core.py:158: UserWarning: [17:20:48] WARNING: /Users/runner/work/xgboost/xgboost/src/learner.cc:740: \n",
      "Parameters: { \"use_label_encoder\" } are not used.\n",
      "\n",
      "  warnings.warn(smsg, UserWarning)\n"
     ]
    },
    {
     "name": "stdout",
     "output_type": "stream",
     "text": [
      "[CV] END colsample_bytree=0.8, gamma=0.1, learning_rate=0.1, max_depth=15, min_child_weight=1, n_estimators=200, scale_pos_weight=1, subsample=0.8; total time=  34.2s\n",
      "[CV] END colsample_bytree=1.0, gamma=0.1, learning_rate=0.2, max_depth=15, min_child_weight=10, n_estimators=100, scale_pos_weight=1, subsample=0.8; total time=  15.0s\n"
     ]
    },
    {
     "name": "stderr",
     "output_type": "stream",
     "text": [
      "/opt/anaconda3/lib/python3.11/site-packages/xgboost/core.py:158: UserWarning: [17:20:53] WARNING: /Users/runner/work/xgboost/xgboost/src/learner.cc:740: \n",
      "Parameters: { \"use_label_encoder\" } are not used.\n",
      "\n",
      "  warnings.warn(smsg, UserWarning)\n",
      "/opt/anaconda3/lib/python3.11/site-packages/xgboost/core.py:158: UserWarning: [17:20:56] WARNING: /Users/runner/work/xgboost/xgboost/src/learner.cc:740: \n",
      "Parameters: { \"use_label_encoder\" } are not used.\n",
      "\n",
      "  warnings.warn(smsg, UserWarning)\n"
     ]
    },
    {
     "name": "stdout",
     "output_type": "stream",
     "text": [
      "[CV] END colsample_bytree=1.0, gamma=0.1, learning_rate=0.2, max_depth=15, min_child_weight=10, n_estimators=100, scale_pos_weight=1, subsample=0.8; total time=  16.4s\n",
      "[CV] END colsample_bytree=0.8, gamma=0.1, learning_rate=0.1, max_depth=15, min_child_weight=1, n_estimators=200, scale_pos_weight=1, subsample=0.8; total time=  34.6s\n"
     ]
    },
    {
     "name": "stderr",
     "output_type": "stream",
     "text": [
      "/opt/anaconda3/lib/python3.11/site-packages/xgboost/core.py:158: UserWarning: [17:20:59] WARNING: /Users/runner/work/xgboost/xgboost/src/learner.cc:740: \n",
      "Parameters: { \"use_label_encoder\" } are not used.\n",
      "\n",
      "  warnings.warn(smsg, UserWarning)\n"
     ]
    },
    {
     "name": "stdout",
     "output_type": "stream",
     "text": [
      "[CV] END colsample_bytree=1.0, gamma=0.1, learning_rate=0.2, max_depth=15, min_child_weight=10, n_estimators=100, scale_pos_weight=1, subsample=0.8; total time=  16.5s\n",
      "[CV] END colsample_bytree=1.0, gamma=0.1, learning_rate=0.2, max_depth=15, min_child_weight=10, n_estimators=100, scale_pos_weight=1, subsample=0.8; total time=  16.2s\n"
     ]
    },
    {
     "name": "stderr",
     "output_type": "stream",
     "text": [
      "/opt/anaconda3/lib/python3.11/site-packages/xgboost/core.py:158: UserWarning: [17:21:02] WARNING: /Users/runner/work/xgboost/xgboost/src/learner.cc:740: \n",
      "Parameters: { \"use_label_encoder\" } are not used.\n",
      "\n",
      "  warnings.warn(smsg, UserWarning)\n",
      "/opt/anaconda3/lib/python3.11/site-packages/xgboost/core.py:158: UserWarning: [17:21:03] WARNING: /Users/runner/work/xgboost/xgboost/src/learner.cc:740: \n",
      "Parameters: { \"use_label_encoder\" } are not used.\n",
      "\n",
      "  warnings.warn(smsg, UserWarning)\n",
      "/opt/anaconda3/lib/python3.11/site-packages/xgboost/core.py:158: UserWarning: [17:21:04] WARNING: /Users/runner/work/xgboost/xgboost/src/learner.cc:740: \n",
      "Parameters: { \"use_label_encoder\" } are not used.\n",
      "\n",
      "  warnings.warn(smsg, UserWarning)\n"
     ]
    },
    {
     "name": "stdout",
     "output_type": "stream",
     "text": [
      "[CV] END colsample_bytree=1.0, gamma=0.1, learning_rate=0.2, max_depth=15, min_child_weight=10, n_estimators=100, scale_pos_weight=1, subsample=0.8; total time=  15.0s\n",
      "[CV] END colsample_bytree=1.0, gamma=0.2, learning_rate=0.2, max_depth=15, min_child_weight=5, n_estimators=100, scale_pos_weight=1, subsample=0.8; total time=  15.0s\n"
     ]
    },
    {
     "name": "stderr",
     "output_type": "stream",
     "text": [
      "/opt/anaconda3/lib/python3.11/site-packages/xgboost/core.py:158: UserWarning: [17:21:09] WARNING: /Users/runner/work/xgboost/xgboost/src/learner.cc:740: \n",
      "Parameters: { \"use_label_encoder\" } are not used.\n",
      "\n",
      "  warnings.warn(smsg, UserWarning)\n"
     ]
    },
    {
     "name": "stdout",
     "output_type": "stream",
     "text": [
      "[CV] END colsample_bytree=0.8, gamma=0.1, learning_rate=0.1, max_depth=15, min_child_weight=1, n_estimators=200, scale_pos_weight=1, subsample=0.8; total time=  33.6s\n"
     ]
    },
    {
     "name": "stderr",
     "output_type": "stream",
     "text": [
      "/opt/anaconda3/lib/python3.11/site-packages/xgboost/core.py:158: UserWarning: [17:21:11] WARNING: /Users/runner/work/xgboost/xgboost/src/learner.cc:740: \n",
      "Parameters: { \"use_label_encoder\" } are not used.\n",
      "\n",
      "  warnings.warn(smsg, UserWarning)\n",
      "/opt/anaconda3/lib/python3.11/site-packages/xgboost/core.py:158: UserWarning: [17:21:12] WARNING: /Users/runner/work/xgboost/xgboost/src/learner.cc:740: \n",
      "Parameters: { \"use_label_encoder\" } are not used.\n",
      "\n",
      "  warnings.warn(smsg, UserWarning)\n"
     ]
    },
    {
     "name": "stdout",
     "output_type": "stream",
     "text": [
      "[CV] END colsample_bytree=0.8, gamma=0.1, learning_rate=0.1, max_depth=15, min_child_weight=1, n_estimators=200, scale_pos_weight=1, subsample=0.8; total time=  35.6s\n",
      "[CV] END colsample_bytree=1.0, gamma=0.2, learning_rate=0.2, max_depth=15, min_child_weight=5, n_estimators=100, scale_pos_weight=1, subsample=0.8; total time=  16.4s\n"
     ]
    },
    {
     "name": "stderr",
     "output_type": "stream",
     "text": [
      "/opt/anaconda3/lib/python3.11/site-packages/xgboost/core.py:158: UserWarning: [17:21:16] WARNING: /Users/runner/work/xgboost/xgboost/src/learner.cc:740: \n",
      "Parameters: { \"use_label_encoder\" } are not used.\n",
      "\n",
      "  warnings.warn(smsg, UserWarning)\n",
      "/opt/anaconda3/lib/python3.11/site-packages/xgboost/core.py:158: UserWarning: [17:21:16] WARNING: /Users/runner/work/xgboost/xgboost/src/learner.cc:740: \n",
      "Parameters: { \"use_label_encoder\" } are not used.\n",
      "\n",
      "  warnings.warn(smsg, UserWarning)\n"
     ]
    },
    {
     "name": "stdout",
     "output_type": "stream",
     "text": [
      "[CV] END colsample_bytree=1.0, gamma=0.2, learning_rate=0.2, max_depth=15, min_child_weight=5, n_estimators=100, scale_pos_weight=1, subsample=0.8; total time=  16.8s\n",
      "[CV] END colsample_bytree=1.0, gamma=0.2, learning_rate=0.2, max_depth=15, min_child_weight=5, n_estimators=100, scale_pos_weight=1, subsample=0.8; total time=  16.3s\n",
      "[CV] END colsample_bytree=1.0, gamma=0.2, learning_rate=0.2, max_depth=15, min_child_weight=5, n_estimators=100, scale_pos_weight=1, subsample=0.8; total time=  16.6s\n"
     ]
    },
    {
     "name": "stderr",
     "output_type": "stream",
     "text": [
      "/opt/anaconda3/lib/python3.11/site-packages/xgboost/core.py:158: UserWarning: [17:21:19] WARNING: /Users/runner/work/xgboost/xgboost/src/learner.cc:740: \n",
      "Parameters: { \"use_label_encoder\" } are not used.\n",
      "\n",
      "  warnings.warn(smsg, UserWarning)\n",
      "/opt/anaconda3/lib/python3.11/site-packages/xgboost/core.py:158: UserWarning: [17:21:20] WARNING: /Users/runner/work/xgboost/xgboost/src/learner.cc:740: \n",
      "Parameters: { \"use_label_encoder\" } are not used.\n",
      "\n",
      "  warnings.warn(smsg, UserWarning)\n",
      "/opt/anaconda3/lib/python3.11/site-packages/xgboost/core.py:158: UserWarning: [17:21:21] WARNING: /Users/runner/work/xgboost/xgboost/src/learner.cc:740: \n",
      "Parameters: { \"use_label_encoder\" } are not used.\n",
      "\n",
      "  warnings.warn(smsg, UserWarning)\n"
     ]
    },
    {
     "name": "stdout",
     "output_type": "stream",
     "text": [
      "[CV] END colsample_bytree=1.0, gamma=0.1, learning_rate=0.2, max_depth=15, min_child_weight=5, n_estimators=300, scale_pos_weight=10, subsample=1.0; total time=  36.1s\n",
      "[CV] END colsample_bytree=0.8, gamma=0.1, learning_rate=0.1, max_depth=20, min_child_weight=1, n_estimators=100, scale_pos_weight=20, subsample=0.8; total time=  25.9s\n"
     ]
    },
    {
     "name": "stderr",
     "output_type": "stream",
     "text": [
      "/opt/anaconda3/lib/python3.11/site-packages/xgboost/core.py:158: UserWarning: [17:21:46] WARNING: /Users/runner/work/xgboost/xgboost/src/learner.cc:740: \n",
      "Parameters: { \"use_label_encoder\" } are not used.\n",
      "\n",
      "  warnings.warn(smsg, UserWarning)\n",
      "/opt/anaconda3/lib/python3.11/site-packages/xgboost/core.py:158: UserWarning: [17:21:46] WARNING: /Users/runner/work/xgboost/xgboost/src/learner.cc:740: \n",
      "Parameters: { \"use_label_encoder\" } are not used.\n",
      "\n",
      "  warnings.warn(smsg, UserWarning)\n"
     ]
    },
    {
     "name": "stdout",
     "output_type": "stream",
     "text": [
      "[CV] END colsample_bytree=0.8, gamma=0.1, learning_rate=0.1, max_depth=20, min_child_weight=1, n_estimators=100, scale_pos_weight=20, subsample=0.8; total time=  32.7s\n",
      "[CV] END colsample_bytree=0.8, gamma=0.1, learning_rate=0.1, max_depth=20, min_child_weight=1, n_estimators=100, scale_pos_weight=20, subsample=0.8; total time=  32.4s\n"
     ]
    },
    {
     "name": "stderr",
     "output_type": "stream",
     "text": [
      "/opt/anaconda3/lib/python3.11/site-packages/xgboost/core.py:158: UserWarning: [17:21:53] WARNING: /Users/runner/work/xgboost/xgboost/src/learner.cc:740: \n",
      "Parameters: { \"use_label_encoder\" } are not used.\n",
      "\n",
      "  warnings.warn(smsg, UserWarning)\n"
     ]
    },
    {
     "name": "stdout",
     "output_type": "stream",
     "text": [
      "[CV] END colsample_bytree=1.0, gamma=0.1, learning_rate=0.2, max_depth=15, min_child_weight=5, n_estimators=300, scale_pos_weight=10, subsample=1.0; total time=  43.8s\n"
     ]
    },
    {
     "name": "stderr",
     "output_type": "stream",
     "text": [
      "/opt/anaconda3/lib/python3.11/site-packages/xgboost/core.py:158: UserWarning: [17:21:53] WARNING: /Users/runner/work/xgboost/xgboost/src/learner.cc:740: \n",
      "Parameters: { \"use_label_encoder\" } are not used.\n",
      "\n",
      "  warnings.warn(smsg, UserWarning)\n"
     ]
    },
    {
     "name": "stdout",
     "output_type": "stream",
     "text": [
      "[CV] END colsample_bytree=1.0, gamma=0.1, learning_rate=0.2, max_depth=15, min_child_weight=5, n_estimators=300, scale_pos_weight=10, subsample=1.0; total time=  45.7s\n"
     ]
    },
    {
     "name": "stderr",
     "output_type": "stream",
     "text": [
      "/opt/anaconda3/lib/python3.11/site-packages/xgboost/core.py:158: UserWarning: [17:21:55] WARNING: /Users/runner/work/xgboost/xgboost/src/learner.cc:740: \n",
      "Parameters: { \"use_label_encoder\" } are not used.\n",
      "\n",
      "  warnings.warn(smsg, UserWarning)\n",
      "/opt/anaconda3/lib/python3.11/site-packages/xgboost/core.py:158: UserWarning: [17:21:58] WARNING: /Users/runner/work/xgboost/xgboost/src/learner.cc:740: \n",
      "Parameters: { \"use_label_encoder\" } are not used.\n",
      "\n",
      "  warnings.warn(smsg, UserWarning)\n"
     ]
    },
    {
     "name": "stdout",
     "output_type": "stream",
     "text": [
      "[CV] END colsample_bytree=1.0, gamma=0.1, learning_rate=0.2, max_depth=15, min_child_weight=5, n_estimators=300, scale_pos_weight=10, subsample=1.0; total time=  45.7s\n",
      "[CV] END colsample_bytree=1.0, gamma=0.1, learning_rate=0.2, max_depth=15, min_child_weight=5, n_estimators=300, scale_pos_weight=10, subsample=1.0; total time=  47.3s\n"
     ]
    },
    {
     "name": "stderr",
     "output_type": "stream",
     "text": [
      "/opt/anaconda3/lib/python3.11/site-packages/xgboost/core.py:158: UserWarning: [17:22:02] WARNING: /Users/runner/work/xgboost/xgboost/src/learner.cc:740: \n",
      "Parameters: { \"use_label_encoder\" } are not used.\n",
      "\n",
      "  warnings.warn(smsg, UserWarning)\n"
     ]
    },
    {
     "name": "stdout",
     "output_type": "stream",
     "text": [
      "[CV] END colsample_bytree=1.0, gamma=0.1, learning_rate=0.1, max_depth=10, min_child_weight=5, n_estimators=100, scale_pos_weight=10, subsample=1.0; total time=  11.8s\n",
      "[CV] END colsample_bytree=1.0, gamma=0.1, learning_rate=0.1, max_depth=10, min_child_weight=5, n_estimators=100, scale_pos_weight=10, subsample=1.0; total time=  11.8s\n",
      "[CV] END colsample_bytree=1.0, gamma=0.1, learning_rate=0.1, max_depth=10, min_child_weight=5, n_estimators=100, scale_pos_weight=10, subsample=1.0; total time=  11.0s\n",
      "[CV] END colsample_bytree=1.0, gamma=0.1, learning_rate=0.1, max_depth=10, min_child_weight=5, n_estimators=100, scale_pos_weight=10, subsample=1.0; total time=  10.2s\n",
      "[CV] END colsample_bytree=1.0, gamma=0.1, learning_rate=0.1, max_depth=10, min_child_weight=5, n_estimators=100, scale_pos_weight=10, subsample=1.0; total time=   8.9s\n",
      "[CV] END colsample_bytree=0.8, gamma=0.1, learning_rate=0.1, max_depth=20, min_child_weight=1, n_estimators=100, scale_pos_weight=20, subsample=0.8; total time=  25.3s\n",
      "[CV] END colsample_bytree=0.8, gamma=0.1, learning_rate=0.1, max_depth=20, min_child_weight=1, n_estimators=100, scale_pos_weight=20, subsample=0.8; total time=  26.0s\n"
     ]
    },
    {
     "name": "stderr",
     "output_type": "stream",
     "text": [
      "/opt/anaconda3/lib/python3.11/site-packages/xgboost/core.py:158: UserWarning: [17:22:09] WARNING: /Users/runner/work/xgboost/xgboost/src/learner.cc:740: \n",
      "Parameters: { \"use_label_encoder\" } are not used.\n",
      "\n",
      "  warnings.warn(smsg, UserWarning)\n"
     ]
    },
    {
     "name": "stdout",
     "output_type": "stream",
     "text": [
      "Best Hyperparameters: {'subsample': 0.8, 'scale_pos_weight': 1, 'n_estimators': 200, 'min_child_weight': 10, 'max_depth': 20, 'learning_rate': 0.01, 'gamma': 0.2, 'colsample_bytree': 0.8}\n",
      "Best F1 Score from RandomizedSearchCV: 0.9105869637145838\n"
     ]
    }
   ],
   "source": [
    "from sklearn.model_selection import RandomizedSearchCV\n",
    "import xgboost as xgb\n",
    "\n",
    "# Define the parameter distribution\n",
    "param_dist = {\n",
    "    'learning_rate': [0.01, 0.05, 0.1, 0.2],\n",
    "    'max_depth': [10, 15, 20],\n",
    "    'n_estimators': [100, 200, 300],\n",
    "    'scale_pos_weight': [1, 10, 20],\n",
    "    'subsample': [0.8, 1.0],\n",
    "    'colsample_bytree': [0.8, 1.0],\n",
    "    'gamma': [0, 0.1, 0.2],\n",
    "    'min_child_weight': [1, 5, 10]\n",
    "}\n",
    "\n",
    "# Initialize the XGBoost classifier\n",
    "xgb_classifier = xgb.XGBClassifier(random_state=42, use_label_encoder=False, eval_metric='logloss')\n",
    "\n",
    "# Perform Randomized Search with F1 scoring\n",
    "random_search = RandomizedSearchCV(\n",
    "    estimator=xgb_classifier,\n",
    "    param_distributions=param_dist,\n",
    "    scoring='f1',\n",
    "    n_iter=50,  # Number of random combinations\n",
    "    cv=5,  # Stratified 5-fold CV\n",
    "    verbose=2,\n",
    "    random_state=42,\n",
    "    n_jobs=-1\n",
    ")\n",
    "\n",
    "# Fit the random search\n",
    "random_search.fit(X_train_smote, y_train_smote)\n",
    "\n",
    "# Get the best hyperparameters\n",
    "print(\"Best Hyperparameters:\", random_search.best_params_)\n",
    "print(\"Best F1 Score from RandomizedSearchCV:\", random_search.best_score_)\n"
   ]
  },
  {
   "cell_type": "code",
   "execution_count": null,
   "metadata": {},
   "outputs": [],
   "source": []
  }
 ],
 "metadata": {
  "kernelspec": {
   "display_name": "base",
   "language": "python",
   "name": "python3"
  },
  "language_info": {
   "codemirror_mode": {
    "name": "ipython",
    "version": 3
   },
   "file_extension": ".py",
   "mimetype": "text/x-python",
   "name": "python",
   "nbconvert_exporter": "python",
   "pygments_lexer": "ipython3",
   "version": "3.11.7"
  }
 },
 "nbformat": 4,
 "nbformat_minor": 2
}
