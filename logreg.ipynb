{
 "cells": [
  {
   "cell_type": "code",
   "execution_count": 106,
   "metadata": {},
   "outputs": [],
   "source": [
    "# Data Processing\n",
    "import pandas as pd\n",
    "import numpy as np\n",
    "from sklearn.preprocessing import StandardScaler\n",
    "# Modelling\n",
    "from sklearn.ensemble import RandomForestClassifier\n",
    "from sklearn.metrics import accuracy_score, confusion_matrix, precision_score, recall_score, ConfusionMatrixDisplay,classification_report,roc_auc_score,f1_score\n",
    "from sklearn.model_selection import RandomizedSearchCV, train_test_split\n",
    "from scipy.stats import randint\n",
    "from sklearn.ensemble import BaggingClassifier\n",
    "from sklearn.metrics import confusion_matrix, ConfusionMatrixDisplay\n",
    "from imblearn.under_sampling import RandomUnderSampler\n",
    "from imblearn.combine import SMOTEENN\n",
    "import collections\n",
    "from collections import Counter\n",
    "from sklearn.metrics import accuracy_score, cohen_kappa_score, f1_score, recall_score, precision_score, confusion_matrix\n",
    "import xgboost as xgb\n",
    "import matplotlib.pyplot as plt\n",
    "\n",
    "from imblearn.under_sampling import RandomUnderSampler\n",
    "\n",
    "\n",
    "import matplotlib.pyplot as plt\n",
    "import seaborn as sns\n",
    "# Tree Visualisation\n",
    "from sklearn.tree import export_graphviz\n",
    "from IPython.display import Image\n",
    "#import graphviz"
   ]
  },
  {
   "cell_type": "markdown",
   "metadata": {},
   "source": [
    "#### Import preprocessed data without missing values, removed outliers, and normalized"
   ]
  },
  {
   "cell_type": "code",
   "execution_count": 107,
   "metadata": {},
   "outputs": [],
   "source": [
    "\n",
    "train = pd.read_csv('data/train_data.csv')\n",
    "test = pd.read_csv('data/test_data.csv')\n"
   ]
  },
  {
   "cell_type": "code",
   "execution_count": 108,
   "metadata": {},
   "outputs": [],
   "source": [
    "# Define the target variable (e.g., 'target') and features (all other columns)\n",
    "X_train = train.drop('readmitted', axis=1)  # Drop the target column for features\n",
    "y_train = train['readmitted']  # Select the target column\n",
    "\n",
    "X_test = test.drop('readmitted', axis=1)  # Same for test set\n",
    "y_test = test['readmitted']"
   ]
  },
  {
   "cell_type": "markdown",
   "metadata": {},
   "source": [
    "#### Standard Bagging classifier for highly imbalanced data\n",
    "\n"
   ]
  },
  {
   "cell_type": "code",
   "execution_count": 109,
   "metadata": {},
   "outputs": [
    {
     "name": "stdout",
     "output_type": "stream",
     "text": [
      "Bagging Classifier - Test Accuracy: 0.89\n",
      "Accuracy is 0.89\n",
      "Precision is 0.35\n",
      "Recall is 0.04\n",
      "F1 score is 0.07\n"
     ]
    }
   ],
   "source": [
    "\n",
    "# Create a bagging classifier \n",
    "bagging_clf = BaggingClassifier()\n",
    "\n",
    "# Train the bagging classifier on the training data\n",
    "bagging_clf.fit(X_train, y_train)\n",
    "\n",
    "# Make predictions on the test set\n",
    "y_pred = bagging_clf.predict(X_test)\n",
    "\n",
    "# Calculate the accuracy of the model\n",
    "acc_bag = accuracy_score(y_test, y_pred)\n",
    "print(\"Bagging Classifier - Test Accuracy:\", round(acc_bag, 2))\n",
    "print(\"Accuracy is {0:.2f}\".format(accuracy_score(y_test, y_pred)))\n",
    "print(\"Precision is {0:.2f}\".format(precision_score(y_test, y_pred)))\n",
    "print(\"Recall is {0:.2f}\".format(recall_score(y_test, y_pred)))\n",
    "print(\"F1 score is {0:.2f}\".format(f1_score(y_test, y_pred)))"
   ]
  },
  {
   "cell_type": "markdown",
   "metadata": {},
   "source": [
    "#### Bagging With Random Undersampling (deacreasing the size of majority set)"
   ]
  },
  {
   "cell_type": "code",
   "execution_count": 110,
   "metadata": {},
   "outputs": [
    {
     "name": "stdout",
     "output_type": "stream",
     "text": [
      "Class distribution before undersampling: Counter({0: 71155, 1: 9037})\n",
      "Class distribution after undersampling: Counter({0: 9037, 1: 9037})\n",
      "Bagging Classifier with Random Undersampling - Test Accuracy: 0.65\n",
      "Accuracy is 0.65\n",
      "Precision is 0.16\n",
      "Recall is 0.49\n",
      "F1 score is 0.24\n"
     ]
    }
   ],
   "source": [
    "# Apply random undersampling to the training set\n",
    "print(\"Class distribution before undersampling:\", Counter(y_train))\n",
    "rus = RandomUnderSampler()\n",
    "X_train_resampled, y_train_resampled = rus.fit_resample(X_train, y_train)\n",
    "print(\"Class distribution after undersampling:\", Counter(y_train_resampled))\n",
    "\n",
    "# Create a bagging classifier with random undersampling\n",
    "bagging_classifier = BaggingClassifier()\n",
    "\n",
    "# Train the bagging classifier on the resampled training data\n",
    "bagging_classifier.fit(X_train_resampled, y_train_resampled)\n",
    "\n",
    "# Make predictions on the test set\n",
    "y_pred = bagging_classifier.predict(X_test)\n",
    "\n",
    "# Calculate the accuracy of the model\n",
    "acc_rndm = accuracy_score(y_test, y_pred)\n",
    "\n",
    "print(\"Bagging Classifier with Random Undersampling - Test Accuracy:\", round(acc_rndm, 2))\n",
    "print(\"Precision is {0:.2f}\".format(precision_score(y_test, y_pred)))\n",
    "print(\"Recall is {0:.2f}\".format(recall_score(y_test, y_pred)))\n",
    "print(\"F1 score is {0:.2f}\".format(f1_score(y_test, y_pred)))\n"
   ]
  },
  {
   "cell_type": "markdown",
   "metadata": {},
   "source": [
    "#### Standard Random Forest Classifier "
   ]
  },
  {
   "cell_type": "code",
   "execution_count": 111,
   "metadata": {},
   "outputs": [
    {
     "name": "stdout",
     "output_type": "stream",
     "text": [
      "Standard Random Forest Accuracy: 0.89\n",
      "Accuracy is 0.89\n",
      "Precision is 0.38\n",
      "Recall is 0.01\n",
      "F1 score is 0.01\n"
     ]
    }
   ],
   "source": [
    "# Create a Random Forest classifier \n",
    "rf = RandomForestClassifier(n_estimators=100)\n",
    "\n",
    "# Train the Random Forest classifier on the training data\n",
    "rf.fit(X_train, y_train)\n",
    "\n",
    "# Make predictions on the test set\n",
    "y_pred_rf = rf.predict(X_test)\n",
    "\n",
    "# Calculate the accuracy of the model\n",
    "acc_rf = accuracy_score(y_test, y_pred_rf)\n",
    "print(\"Standard Random Forest Accuracy:\",round(acc_rf, 2))\n",
    "print(\"Precision is {0:.2f}\".format(precision_score(y_test, y_pred_rf)))\n",
    "print(\"Recall is {0:.2f}\".format(recall_score(y_test, y_pred_rf)))\n",
    "print(\"F1 score is {0:.2f}\".format(f1_score(y_test, y_pred_rf)))\n"
   ]
  },
  {
   "cell_type": "code",
   "execution_count": 112,
   "metadata": {},
   "outputs": [
    {
     "name": "stdout",
     "output_type": "stream",
     "text": [
      "Random Forest with Class Weighting Accuracy: 0.89\n",
      "Precision is 0.68\n",
      "Recall is 0.01\n",
      "F1 score is 0.01\n"
     ]
    }
   ],
   "source": [
    "# Create a Random Forest Classifier with Class Weighting\n",
    "rf_cw = RandomForestClassifier(random_state=42, class_weight='balanced')\n",
    "\n",
    "# Train the Random Forest classifier on the training data\n",
    "rf_cw.fit(X_train, y_train)\n",
    "\n",
    "# Make predictions on the test set\n",
    "y_pred_cw = rf_cw.predict(X_test)\n",
    "\n",
    "# Calculate the accuracy of the model\n",
    "acc_cw = accuracy_score(y_test, y_pred_cw)\n",
    "print(\"Random Forest with Class Weighting Accuracy:\",round(acc_cw, 2))\n",
    "print(\"Precision is {0:.2f}\".format(precision_score(y_test, y_pred_cw)))\n",
    "print(\"Recall is {0:.2f}\".format(recall_score(y_test, y_pred_cw)))\n",
    "print(\"F1 score is {0:.2f}\".format(f1_score(y_test, y_pred_cw)))\n"
   ]
  },
  {
   "cell_type": "markdown",
   "metadata": {},
   "source": [
    "#### Random Forest with Random Undersampling"
   ]
  },
  {
   "cell_type": "code",
   "execution_count": 113,
   "metadata": {},
   "outputs": [
    {
     "name": "stdout",
     "output_type": "stream",
     "text": [
      "Class distribution before undersampling: Counter({0: 71155, 1: 9037})\n",
      "Class distribution after undersampling: Counter({0: 9037, 1: 9037})\n",
      "Random Forest with Random Undersampling Accuracy: 0.63\n",
      "Precision is 0.17\n",
      "Recall is 0.60\n",
      "F1 score is 0.26\n"
     ]
    }
   ],
   "source": [
    "# Apply random undersampling to the training set\n",
    "print(\"Class distribution before undersampling:\", Counter(y_train))\n",
    "rus = RandomUnderSampler(random_state=42)\n",
    "X_train_resampled, y_train_resampled = rus.fit_resample(X_train, y_train)\n",
    "print(\"Class distribution after undersampling:\", Counter(y_train_resampled))\n",
    "# Create a Random Forest classifier with random undersampling\n",
    "rf_rus = RandomForestClassifier(random_state=42)\n",
    "\n",
    "# Train the Random Forest classifier on the resampled training data\n",
    "rf_rus.fit(X_train_resampled, y_train_resampled)\n",
    "\n",
    "# Make predictions on the test set\n",
    "y_pred_rus = rf_rus.predict(X_test)\n",
    "\n",
    "# Calculate the accuracy of the model\n",
    "acc_rus = accuracy_score(y_test, y_pred_rus)\n",
    "print(\"Random Forest with Random Undersampling Accuracy:\",round(acc_rus,2))\n",
    "print(\"Precision is {0:.2f}\".format(precision_score(y_test, y_pred_rus)))\n",
    "print(\"Recall is {0:.2f}\".format(recall_score(y_test, y_pred_rus)))\n",
    "print(\"F1 score is {0:.2f}\".format(f1_score(y_test, y_pred_rus)))"
   ]
  },
  {
   "cell_type": "markdown",
   "metadata": {},
   "source": [
    "#### Evaluation of Random forest with undersampling\n",
    "\n",
    "Only 17% of the patients flagged as high risk for readmission were actually readmitted. This suggests the model generates a high number of false positives.\n",
    "Recall (0.60):\n",
    "\n",
    "The model successfully identifies 60% of the actual readmissions, which is decent. However, missing the remaining 40% (false negatives) could still have serious implications.\n"
   ]
  },
  {
   "cell_type": "code",
   "execution_count": 115,
   "metadata": {},
   "outputs": [
    {
     "name": "stdout",
     "output_type": "stream",
     "text": [
      "Random Forest with Random Undersampling Accuracy: 0.63\n",
      "Precision: 0.17\n",
      "Recall: 0.60\n",
      "F1 Score: 0.26\n",
      "\n",
      "Classification Report:\n",
      "               precision    recall  f1-score   support\n",
      "\n",
      "           0       0.93      0.63      0.75     17836\n",
      "           1       0.17      0.60      0.26      2213\n",
      "\n",
      "    accuracy                           0.63     20049\n",
      "   macro avg       0.55      0.62      0.51     20049\n",
      "weighted avg       0.84      0.63      0.70     20049\n",
      "\n"
     ]
    }
   ],
   "source": [
    "# Evaluate the model\n",
    "\n",
    "# Calculate and print the accuracy\n",
    "acc_rus = accuracy_score(y_test, y_pred_rus)\n",
    "print(\"Random Forest with Random Undersampling Accuracy: {:.2f}\".format(acc_rus))\n",
    "\n",
    "# Calculate precision, recall, and F1-score for binary classification (assuming labels 0 and 1)\n",
    "precision = precision_score(y_test, y_pred_rus)\n",
    "recall = recall_score(y_test, y_pred_rus)\n",
    "f1 = f1_score(y_test, y_pred_rus)\n",
    "\n",
    "print(\"Precision: {:.2f}\".format(precision))\n",
    "print(\"Recall: {:.2f}\".format(recall))\n",
    "print(\"F1 Score: {:.2f}\".format(f1))\n",
    "\n",
    "# Print the classification report for detailed metrics across all classes\n",
    "report = classification_report(y_test, y_pred_rus)\n",
    "print(\"\\nClassification Report:\\n\", report)\n",
    "\n"
   ]
  },
  {
   "cell_type": "code",
   "execution_count": 116,
   "metadata": {},
   "outputs": [
    {
     "name": "stdout",
     "output_type": "stream",
     "text": [
      "Confusion Matrix:\n",
      " [[11271  6565]\n",
      " [  883  1330]]\n"
     ]
    },
    {
     "data": {
      "text/plain": [
       "<sklearn.metrics._plot.confusion_matrix.ConfusionMatrixDisplay at 0x3064190d0>"
      ]
     },
     "execution_count": 116,
     "metadata": {},
     "output_type": "execute_result"
    },
    {
     "data": {
      "image/png": "[encoded data removed]",
      "text/plain": [
       "<Figure size 640x480 with 2 Axes>"
      ]
     },
     "metadata": {},
     "output_type": "display_data"
    }
   ],
   "source": [
    "# Compute the confusion matrix\n",
    "cm = confusion_matrix(y_test, y_pred_rus)\n",
    "\n",
    "# Print the confusion matrix\n",
    "print(\"Confusion Matrix:\\n\", cm)\n",
    "\n",
    "# Visualize the confusion matrix\n",
    "disp = ConfusionMatrixDisplay(confusion_matrix=cm, display_labels=rf_rus.classes_)\n",
    "disp.plot(cmap='Blues')"
   ]
  },
  {
   "cell_type": "markdown",
   "metadata": {},
   "source": [
    "#### XGBoost Classifier with SMOTE + ENN oversampler\n",
    "\n",
    "First, scale continious numerical values "
   ]
  },
  {
   "cell_type": "code",
   "execution_count": 89,
   "metadata": {},
   "outputs": [],
   "source": [
    "\n",
    "# Identify the binary and continuous columns\n",
    "\n",
    "# List of continuous columns that you want to scale\n",
    "continuous_columns = ['age', 'time_in_hospital','num_lab_procedures','num_procedures', 'num_medications', 'number_outpatient_log',\n",
    "       'number_emergency_log', 'number_inpatient_log']\n",
    "\n",
    "# Separate the continuous features\n",
    "X_train_continuous = X_train[continuous_columns]\n",
    "X_test_continuous = X_test[continuous_columns]\n",
    "\n",
    "# Apply StandardScaler to the continuous features\n",
    "scaler = StandardScaler()\n",
    "X_train_continuous_scaled = scaler.fit_transform(X_train_continuous)\n",
    "X_test_continuous_scaled = scaler.fit_transform(X_test_continuous)\n",
    "\n",
    "\n",
    "# Convert the scaled features back to a DataFrame\n",
    "X_train_continuous_scaled = pd.DataFrame(X_train_continuous_scaled, columns=continuous_columns)\n",
    "X_test_continuous_scaled = pd.DataFrame(X_test_continuous_scaled, columns=continuous_columns)\n",
    "\n",
    "# Concatenate the scaled continuous columns with the rest of the data\n",
    "X_train_scaled = pd.concat([X_train.drop(continuous_columns, axis=1), X_train_continuous_scaled], axis=1)\n",
    "X_test_scaled = pd.concat([X_test.drop(continuous_columns, axis=1), X_test_continuous_scaled], axis=1)\n",
    "\n"
   ]
  },
  {
   "cell_type": "markdown",
   "metadata": {},
   "source": [
    "##### Apply SMOTEENN to training data"
   ]
  },
  {
   "cell_type": "code",
   "execution_count": 90,
   "metadata": {},
   "outputs": [
    {
     "name": "stdout",
     "output_type": "stream",
     "text": [
      "Before Counter({0: 71155, 1: 9037})\n",
      "After Counter({1: 70867, 0: 30038})\n"
     ]
    }
   ],
   "source": [
    "\n",
    "counter = collections.Counter(y_train)\n",
    "print('Before', counter)\n",
    "# oversampling the train dataset using SMOTE + ENN\n",
    "smenn = SMOTEENN()\n",
    "X_train_smenn, y_train_smenn = smenn.fit_resample (X_train_scaled, y_train)\n",
    "counter = collections.Counter (y_train_smenn)\n",
    "print('After', counter)\n"
   ]
  },
  {
   "cell_type": "markdown",
   "metadata": {},
   "source": [
    "##### XGBoost classifier"
   ]
  },
  {
   "cell_type": "code",
   "execution_count": 118,
   "metadata": {},
   "outputs": [
    {
     "name": "stdout",
     "output_type": "stream",
     "text": [
      "Results With Oversampling Smote + ENN\n",
      "XGBoost Accuracy: 0.47\n",
      "Kappa Score: 0.07\n",
      "F1 Score: 0.24\n",
      "Recall: 0.76\n",
      "Precision: 0.14\n"
     ]
    },
    {
     "data": {
      "image/png": "[encoded data removed]",
      "text/plain": [
       "<Figure size 800x600 with 1 Axes>"
      ]
     },
     "metadata": {},
     "output_type": "display_data"
    }
   ],
   "source": [
    "\n",
    "# Initialize and train the XGBoost classifier\n",
    "xgb_classifier = xgb.XGBClassifier(n_estimators=100, max_depth=10, n_jobs=-1, learning_rate=0.1, random_state=42)\n",
    "xgb_classifier.fit(X_train_smenn, y_train_smenn)\n",
    "\n",
    "# Make predictions using the model\n",
    "y_pred = xgb_classifier.predict(X_test_scaled)\n",
    "\n",
    "# Calculate evaluation metrics\n",
    "accuracy = accuracy_score(y_test, y_pred)\n",
    "kappa = cohen_kappa_score(y_test, y_pred)\n",
    "f1 = f1_score(y_test, y_pred)\n",
    "recall = recall_score(y_test, y_pred)\n",
    "precision = precision_score(y_test, y_pred)\n",
    "\n",
    "# Print the evaluation metrics\n",
    "print(\"Results With Oversampling Smote + ENN\")\n",
    "print(\"XGBoost Accuracy:\", round(accuracy,2))\n",
    "print(\"Kappa Score:\", round(kappa,2))\n",
    "print(\"F1 Score:\", round(f1,2))\n",
    "print(\"Recall:\", round(recall,2))\n",
    "print(\"Precision:\", round(precision,2))\n",
    "\n",
    "#print confusion matrix\n",
    "cm = confusion_matrix(y_test, y_pred)\n",
    "\n",
    "# Create a heatmap for the confusion matrix\n",
    "plt.figure(figsize=(8, 6))\n",
    "sns.set_theme(style=\"whitegrid\")\n",
    "sns.heatmap(cm, annot=True, fmt=\"d\", cmap=\"Blues\", cbar=False)\n",
    "plt.title('Confusion Matrix - XGBoost with SMOTE')\n",
    "plt.xlabel('Predicted')\n",
    "plt.ylabel('Actual')\n",
    "plt.show()"
   ]
  },
  {
   "cell_type": "markdown",
   "metadata": {},
   "source": [
    "##### Changing threshold "
   ]
  },
  {
   "cell_type": "code",
   "execution_count": 121,
   "metadata": {},
   "outputs": [
    {
     "name": "stdout",
     "output_type": "stream",
     "text": [
      "Results With Oversampling Smote + ENN\n",
      "XGBoost Accuracy: 0.54\n",
      "Kappa Score: 0.08\n",
      "F1 Score: 0.24\n",
      "Recall: 0.68\n",
      "Precision: 0.15\n"
     ]
    },
    {
     "data": {
      "image/png": "[encoded data removed]",
      "text/plain": [
       "<Figure size 800x600 with 1 Axes>"
      ]
     },
     "metadata": {},
     "output_type": "display_data"
    }
   ],
   "source": [
    "# Initialize and train the XGBoost classifier\n",
    "xgb_classifier = xgb.XGBClassifier(\n",
    "    n_estimators=100, \n",
    "    max_depth=10, \n",
    "    n_jobs=-1, \n",
    "    learning_rate=0.1, \n",
    "    random_state=42\n",
    ")\n",
    "xgb_classifier.fit(X_train_smenn, y_train_smenn)\n",
    "\n",
    "# Get predicted probabilities for class 1\n",
    "y_pred_proba = xgb_classifier.predict_proba(X_test_scaled)[:, 1]  # Probabilities for class 1\n",
    "\n",
    "# Apply a threshold of 0.7\n",
    "threshold = 0.6\n",
    "y_pred_threshold = (y_pred_proba >= threshold).astype(int)\n",
    "\n",
    "# Calculate evaluation metrics based on the new thresholded predictions\n",
    "accuracy = accuracy_score(y_test, y_pred_threshold)\n",
    "kappa = cohen_kappa_score(y_test, y_pred_threshold)\n",
    "f1 = f1_score(y_test, y_pred_threshold)\n",
    "recall = recall_score(y_test, y_pred_threshold)\n",
    "precision = precision_score(y_test, y_pred_threshold)\n",
    "\n",
    "# Print the evaluation metrics\n",
    "print(\"Results With Oversampling Smote + ENN\")\n",
    "print(\"XGBoost Accuracy:\", round(accuracy,2))\n",
    "print(\"Kappa Score:\", round(kappa,2))\n",
    "print(\"F1 Score:\", round(f1,2))\n",
    "print(\"Recall:\", round(recall,2))\n",
    "print(\"Precision:\", round(precision,2))\n",
    "\n",
    "# Print confusion matrix\n",
    "cm = confusion_matrix(y_test, y_pred_threshold)\n",
    "\n",
    "# Create a heatmap for the confusion matrix\n",
    "plt.figure(figsize=(8, 6))\n",
    "sns.set_theme(style=\"whitegrid\")\n",
    "sns.heatmap(cm, annot=True, fmt=\"d\", cmap=\"Blues\", cbar=False)\n",
    "plt.title('Confusion Matrix - XGBoost with SMOTE (Threshold = 0.7)')\n",
    "plt.xlabel('Predicted')\n",
    "plt.ylabel('Actual')\n",
    "plt.show()\n"
   ]
  },
  {
   "cell_type": "code",
   "execution_count": null,
   "metadata": {},
   "outputs": [],
   "source": []
  },
  {
   "cell_type": "code",
   "execution_count": null,
   "metadata": {},
   "outputs": [],
   "source": []
  }
 ],
 "metadata": {
  "kernelspec": {
   "display_name": "base",
   "language": "python",
   "name": "python3"
  },
  "language_info": {
   "codemirror_mode": {
    "name": "ipython",
    "version": 3
   },
   "file_extension": ".py",
   "mimetype": "text/x-python",
   "name": "python",
   "nbconvert_exporter": "python",
   "pygments_lexer": "ipython3",
   "version": "3.11.7"
  }
 },
 "nbformat": 4,
 "nbformat_minor": 2
}
