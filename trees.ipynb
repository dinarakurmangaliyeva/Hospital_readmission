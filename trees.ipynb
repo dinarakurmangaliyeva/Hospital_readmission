{
 "cells": [
  {
   "cell_type": "code",
   "execution_count": 39,
   "metadata": {},
   "outputs": [],
   "source": [
    "# -----------------------------------------\n",
    "# Data Processing Libraries\n",
    "# -----------------------------------------\n",
    "import pandas as pd\n",
    "import numpy as np\n",
    "from sklearn.preprocessing import StandardScaler\n",
    "\n",
    "# -----------------------------------------\n",
    "# Machine Learning Models\n",
    "# -----------------------------------------\n",
    "from sklearn.tree import DecisionTreeClassifier\n",
    "from sklearn.ensemble import RandomForestClassifier, BaggingClassifier\n",
    "import xgboost as xgb\n",
    "\n",
    "# -----------------------------------------\n",
    "# Resampling Techniques for Imbalanced Data\n",
    "# -----------------------------------------\n",
    "from imblearn.under_sampling import RandomUnderSampler\n",
    "from imblearn.combine import SMOTEENN\n",
    "\n",
    "# -----------------------------------------\n",
    "# Hyperparameter Tuning\n",
    "# -----------------------------------------\n",
    "from sklearn.model_selection import RandomizedSearchCV, train_test_split\n",
    "from scipy.stats import randint\n",
    "\n",
    "# -----------------------------------------\n",
    "# Evaluation Metrics\n",
    "# -----------------------------------------\n",
    "from sklearn.metrics import (\n",
    "    accuracy_score,\n",
    "    precision_score,\n",
    "    recall_score,\n",
    "    f1_score,\n",
    "    confusion_matrix,\n",
    "    ConfusionMatrixDisplay,\n",
    "    cohen_kappa_score,\n",
    "    classification_report,\n",
    "    roc_auc_score\n",
    ")\n",
    "\n",
    "# -----------------------------------------\n",
    "# Visualization Tools\n",
    "# -----------------------------------------\n",
    "import matplotlib.pyplot as plt\n",
    "import seaborn as sns\n",
    "from sklearn.tree import export_graphviz\n",
    "from IPython.display import Image\n",
    "\n",
    "# -----------------------------------------\n",
    "# Utilities\n",
    "# -----------------------------------------\n",
    "from collections import Counter\n",
    "import collections\n"
   ]
  },
  {
   "cell_type": "markdown",
   "metadata": {},
   "source": [
    "#### Import preprocessed data without missing values, removed outliers"
   ]
  },
  {
   "cell_type": "code",
   "execution_count": 41,
   "metadata": {},
   "outputs": [],
   "source": [
    "\n",
    "train = pd.read_csv('data/train_data.csv')\n",
    "test = pd.read_csv('data/test_data.csv')\n",
    "\n"
   ]
  },
  {
   "cell_type": "code",
   "execution_count": 52,
   "metadata": {},
   "outputs": [
    {
     "data": {
      "text/plain": [
       "(80192, 113)"
      ]
     },
     "execution_count": 52,
     "metadata": {},
     "output_type": "execute_result"
    }
   ],
   "source": [
    "# Define the target variable (e.g., 'target') and features (all other columns)\n",
    "X_train = train.drop('readmitted', axis=1)  # Drop the target column for features\n",
    "y_train = train['readmitted']  # Select the target column\n",
    "\n",
    "X_test = test.drop('readmitted', axis=1)  # Same for test set\n",
    "y_test = test['readmitted']\n",
    "X_train.shape"
   ]
  },
  {
   "cell_type": "markdown",
   "metadata": {},
   "source": [
    "#### Standard Decision Tree (Baseline model)"
   ]
  },
  {
   "cell_type": "code",
   "execution_count": 44,
   "metadata": {},
   "outputs": [
    {
     "name": "stdout",
     "output_type": "stream",
     "text": [
      "Standard Decision Tree - Test Accuracy: 0.66\n",
      "Accuracy is 0.66\n",
      "Precision is 0.17\n",
      "Recall is 0.55\n",
      "F1 score is 0.26\n"
     ]
    }
   ],
   "source": [
    "# Initialize the Decision Tree model\n",
    "dt_classifier = DecisionTreeClassifier(\n",
    "    max_depth=10,              # Limit tree depth to avoid overfitting\n",
    "    min_samples_split=10,      # Require at least 10 samples to split a node\n",
    "    min_samples_leaf=5,        # Require at least 5 samples per leaf\n",
    "    criterion='gini',          # Use Gini impurity for splitting\n",
    "    class_weight='balanced',   # Handle class imbalance\n",
    "    random_state=42            # Fix randomness for reproducibility\n",
    ")\n",
    "\n",
    "# Train the Decision Tree model\n",
    "dt_classifier.fit(X_train, y_train)\n",
    "\n",
    "# Make predictions on the test set\n",
    "y_pred = dt_classifier.predict(X_test)\n",
    "\n",
    "# Evaluate the model\n",
    "acc_dt = accuracy_score(y_test, y_pred)\n",
    "print(\"Standard Decision Tree - Test Accuracy:\", round(acc_dt, 2))\n",
    "print(\"Accuracy is {0:.2f}\".format(accuracy_score(y_test, y_pred)))\n",
    "print(\"Precision is {0:.2f}\".format(precision_score(y_test, y_pred)))\n",
    "print(\"Recall is {0:.2f}\".format(recall_score(y_test, y_pred)))\n",
    "print(\"F1 score is {0:.2f}\".format(f1_score(y_test, y_pred)))"
   ]
  },
  {
   "cell_type": "markdown",
   "metadata": {},
   "source": [
    "#### Standard Bagging classifier\n",
    "\n"
   ]
  },
  {
   "cell_type": "code",
   "execution_count": 49,
   "metadata": {},
   "outputs": [
    {
     "name": "stdout",
     "output_type": "stream",
     "text": [
      "Bagging Classifier - Test Accuracy: 0.7\n",
      "Accuracy is 0.70\n",
      "Precision is 0.19\n",
      "Recall is 0.53\n",
      "F1 score is 0.28\n"
     ]
    }
   ],
   "source": [
    "\n",
    "# Create a bagging classifier \n",
    "bagging_clf = BaggingClassifier(\n",
    "    estimator=DecisionTreeClassifier(max_depth=10,class_weight='balanced'),  # Example base estimator with a max depth of 5\n",
    "    n_estimators=50,  # Number of base estimators (trees)\n",
    "    max_samples=0.8,  # Fraction of samples to use for each base estimator\n",
    "    max_features=0.8,  # Fraction of features to use for each base estimator\n",
    "    n_jobs=-1,  # Use all available CPU cores\n",
    "    random_state=42\n",
    "      # Ensuring reproducibility\n",
    ")\n",
    "\n",
    "# Train the bagging classifier on the training data\n",
    "bagging_clf.fit(X_train, y_train)\n",
    "\n",
    "# Make predictions on the test set\n",
    "y_pred = bagging_clf.predict(X_test)\n",
    "\n",
    "# Calculate the accuracy of the model\n",
    "acc_bag = accuracy_score(y_test, y_pred)\n",
    "print(\"Bagging Classifier - Test Accuracy:\", round(acc_bag, 2))\n",
    "print(\"Accuracy is {0:.2f}\".format(accuracy_score(y_test, y_pred)))\n",
    "print(\"Precision is {0:.2f}\".format(precision_score(y_test, y_pred)))\n",
    "print(\"Recall is {0:.2f}\".format(recall_score(y_test, y_pred)))\n",
    "print(\"F1 score is {0:.2f}\".format(f1_score(y_test, y_pred)))"
   ]
  },
  {
   "cell_type": "markdown",
   "metadata": {},
   "source": [
    "#### Balanced Bagging Classifier"
   ]
  },
  {
   "cell_type": "code",
   "execution_count": 56,
   "metadata": {},
   "outputs": [
    {
     "name": "stdout",
     "output_type": "stream",
     "text": [
      "[[11886  5950]\n",
      " [  898  1315]]\n",
      "              precision    recall  f1-score   support\n",
      "\n",
      "           0       0.93      0.67      0.78     17836\n",
      "           1       0.18      0.59      0.28      2213\n",
      "\n",
      "    accuracy                           0.66     20049\n",
      "   macro avg       0.56      0.63      0.53     20049\n",
      "weighted avg       0.85      0.66      0.72     20049\n",
      "\n",
      "Accuracy is 0.66\n",
      "Precision is 0.18\n",
      "Recall is 0.59\n",
      "F1 score is 0.28\n"
     ]
    }
   ],
   "source": [
    "from imblearn.ensemble import BalancedBaggingClassifier\n",
    "\n",
    "bbc = BalancedBaggingClassifier(\n",
    "    estimator=DecisionTreeClassifier(max_depth=10),  \n",
    "    n_estimators=50,  # Number of base estimators (trees)\n",
    "    sampling_strategy='auto',  # Automatically balance the class distribution\n",
    "    replacement=True,  # Sample with replacement for better variance\n",
    "    max_samples=0.8,\n",
    "    max_features=0.8,\n",
    "    n_jobs=-1,\n",
    "    random_state=42  # Ensuring reproducibility\n",
    ")\n",
    "bbc.fit(X_train, y_train)\n",
    "y_pred = bbc.predict(X_test)\n",
    "print(confusion_matrix(y_test, y_pred))\n",
    "print(classification_report(y_test, y_pred))\n",
    "\n",
    "print(\"Accuracy is {0:.2f}\".format(accuracy_score(y_test, y_pred)))\n",
    "print(\"Precision is {0:.2f}\".format(precision_score(y_test, y_pred)))\n",
    "print(\"Recall is {0:.2f}\".format(recall_score(y_test, y_pred)))\n",
    "print(\"F1 score is {0:.2f}\".format(f1_score(y_test, y_pred)))"
   ]
  },
  {
   "cell_type": "markdown",
   "metadata": {},
   "source": [
    "#### Standard Random Forest Classifier with Class weighting"
   ]
  },
  {
   "cell_type": "code",
   "execution_count": 60,
   "metadata": {},
   "outputs": [
    {
     "name": "stdout",
     "output_type": "stream",
     "text": [
      "Random Forest with Class Weighting Accuracy: 0.68\n",
      "Precision is 0.19\n",
      "Recall is 0.57\n",
      "F1 score is 0.28\n"
     ]
    }
   ],
   "source": [
    "# Create a Random Forest Classifier with Class Weighting\n",
    "rf_cw = RandomForestClassifier(\n",
    "    n_estimators=100,          # Number of trees\n",
    "    max_depth=10,              # Maximum tree depth\n",
    "    min_samples_split=5,       # Minimum samples to split\n",
    "    min_samples_leaf=2,        # Minimum samples per leaf\n",
    "    max_features='sqrt',       # Features to consider at each split\n",
    "    class_weight='balanced',   # Handle class imbalance\n",
    "    bootstrap=True,            # Use bootstrap sampling\n",
    "    oob_score=True,            # Use out-of-bag samples for validation\n",
    "    n_jobs=-1,                 # Use all CPU cores\n",
    "    random_state=42            # For reproducibility\n",
    ")\n",
    "\n",
    "\n",
    "# Train the Random Forest classifier on the training data\n",
    "rf_cw.fit(X_train, y_train)\n",
    "\n",
    "# Make predictions on the test set\n",
    "y_pred_cw = rf_cw.predict(X_test)\n",
    "\n",
    "# Calculate the accuracy of the model\n",
    "acc_cw = accuracy_score(y_test, y_pred_cw)\n",
    "print(\"Random Forest with Class Weighting Accuracy:\",round(acc_cw, 2))\n",
    "print(\"Precision is {0:.2f}\".format(precision_score(y_test, y_pred_cw)))\n",
    "print(\"Recall is {0:.2f}\".format(recall_score(y_test, y_pred_cw)))\n",
    "print(\"F1 score is {0:.2f}\".format(f1_score(y_test, y_pred_cw)))\n"
   ]
  },
  {
   "cell_type": "markdown",
   "metadata": {},
   "source": [
    "#### Evaluation of Random forest with class weighting\n",
    "\n",
    "Only 17% of the patients flagged as high risk for readmission were actually readmitted. This suggests the model generates a high number of false positives.\n",
    "Recall (0.60):\n",
    "\n",
    "The model successfully identifies 60% of the actual readmissions, which is decent. However, missing the remaining 40% (false negatives) could still have serious implications.\n"
   ]
  },
  {
   "cell_type": "code",
   "execution_count": 61,
   "metadata": {},
   "outputs": [
    {
     "name": "stdout",
     "output_type": "stream",
     "text": [
      "Random Forest with Random Undersampling Accuracy: 0.68\n",
      "Precision: 0.19\n",
      "Recall: 0.57\n",
      "F1 Score: 0.28\n",
      "\n",
      "Classification Report:\n",
      "               precision    recall  f1-score   support\n",
      "\n",
      "           0       0.93      0.69      0.79     17836\n",
      "           1       0.19      0.57      0.28      2213\n",
      "\n",
      "    accuracy                           0.68     20049\n",
      "   macro avg       0.56      0.63      0.54     20049\n",
      "weighted avg       0.85      0.68      0.73     20049\n",
      "\n"
     ]
    }
   ],
   "source": [
    "# Evaluate the model\n",
    "\n",
    "# Calculate and print the accuracy\n",
    "acc_rus = accuracy_score(y_test, y_pred_cw)\n",
    "print(\"Random Forest with Random Undersampling Accuracy: {:.2f}\".format(acc_rus))\n",
    "\n",
    "# Calculate precision, recall, and F1-score for binary classification (assuming labels 0 and 1)\n",
    "precision = precision_score(y_test, y_pred_cw)\n",
    "recall = recall_score(y_test, y_pred_cw)\n",
    "f1 = f1_score(y_test, y_pred_cw)\n",
    "\n",
    "print(\"Precision: {:.2f}\".format(precision))\n",
    "print(\"Recall: {:.2f}\".format(recall))\n",
    "print(\"F1 Score: {:.2f}\".format(f1))\n",
    "\n",
    "# Print the classification report for detailed metrics across all classes\n",
    "report = classification_report(y_test, y_pred_cw)\n",
    "print(\"\\nClassification Report:\\n\", report)\n",
    "\n"
   ]
  },
  {
   "cell_type": "code",
   "execution_count": 62,
   "metadata": {},
   "outputs": [
    {
     "name": "stdout",
     "output_type": "stream",
     "text": [
      "Confusion Matrix:\n",
      " [[11271  6565]\n",
      " [  883  1330]]\n"
     ]
    },
    {
     "data": {
      "text/plain": [
       "<sklearn.metrics._plot.confusion_matrix.ConfusionMatrixDisplay at 0x30a433910>"
      ]
     },
     "execution_count": 62,
     "metadata": {},
     "output_type": "execute_result"
    },
    {
     "data": {
      "image/png": "[encoded data removed]",
      "text/plain": [
       "<Figure size 640x480 with 2 Axes>"
      ]
     },
     "metadata": {},
     "output_type": "display_data"
    }
   ],
   "source": [
    "# Compute the confusion matrix\n",
    "cm = confusion_matrix(y_test, y_pred_rus)\n",
    "\n",
    "# Print the confusion matrix\n",
    "print(\"Confusion Matrix:\\n\", cm)\n",
    "\n",
    "# Visualize the confusion matrix\n",
    "disp = ConfusionMatrixDisplay(confusion_matrix=cm, display_labels=rf_rus.classes_)\n",
    "disp.plot(cmap='Blues')"
   ]
  },
  {
   "cell_type": "markdown",
   "metadata": {},
   "source": [
    "#### XGBoost Classifier with SMOTE + ENN oversampler\n",
    "\n",
    "First, scale continious numerical values "
   ]
  },
  {
   "cell_type": "code",
   "execution_count": 63,
   "metadata": {},
   "outputs": [],
   "source": [
    "\n",
    "# Identify the binary and continuous columns\n",
    "\n",
    "# List of continuous columns that you want to scale\n",
    "continuous_columns = ['age', 'time_in_hospital','num_lab_procedures','num_procedures', 'num_medications', 'number_outpatient_log',\n",
    "       'number_emergency_log', 'number_inpatient_log']\n",
    "\n",
    "# Separate the continuous features\n",
    "X_train_continuous = X_train[continuous_columns]\n",
    "X_test_continuous = X_test[continuous_columns]\n",
    "\n",
    "# Apply StandardScaler to the continuous features\n",
    "scaler = StandardScaler()\n",
    "X_train_continuous_scaled = scaler.fit_transform(X_train_continuous)\n",
    "X_test_continuous_scaled = scaler.fit_transform(X_test_continuous)\n",
    "\n",
    "\n",
    "# Convert the scaled features back to a DataFrame\n",
    "X_train_continuous_scaled = pd.DataFrame(X_train_continuous_scaled, columns=continuous_columns)\n",
    "X_test_continuous_scaled = pd.DataFrame(X_test_continuous_scaled, columns=continuous_columns)\n",
    "\n",
    "# Concatenate the scaled continuous columns with the rest of the data\n",
    "X_train_scaled = pd.concat([X_train.drop(continuous_columns, axis=1), X_train_continuous_scaled], axis=1)\n",
    "X_test_scaled = pd.concat([X_test.drop(continuous_columns, axis=1), X_test_continuous_scaled], axis=1)\n",
    "\n"
   ]
  },
  {
   "cell_type": "markdown",
   "metadata": {},
   "source": [
    "##### Apply SMOTEENN to training data"
   ]
  },
  {
   "cell_type": "code",
   "execution_count": 64,
   "metadata": {},
   "outputs": [
    {
     "name": "stdout",
     "output_type": "stream",
     "text": [
      "Before Counter({0: 71155, 1: 9037})\n",
      "After Counter({1: 70875, 0: 30038})\n"
     ]
    }
   ],
   "source": [
    "\n",
    "counter = collections.Counter(y_train)\n",
    "print('Before', counter)\n",
    "# oversampling the train dataset using SMOTE + ENN\n",
    "smote = SMOTEENN()\n",
    "X_train_smenn, y_train_smenn = smote.fit_resample (X_train_scaled, y_train)\n",
    "counter = collections.Counter (y_train_smenn)\n",
    "print('After', counter)\n"
   ]
  },
  {
   "cell_type": "markdown",
   "metadata": {},
   "source": [
    "##### XGBoost classifier"
   ]
  },
  {
   "cell_type": "code",
   "execution_count": 66,
   "metadata": {},
   "outputs": [
    {
     "name": "stdout",
     "output_type": "stream",
     "text": [
      "Results With Oversampling Smote + ENN\n",
      "XGBoost Accuracy: 0.35\n",
      "Kappa Score: 0.04\n",
      "F1 Score: 0.22\n",
      "Recall: 0.85\n",
      "Precision: 0.13\n"
     ]
    },
    {
     "data": {
      "image/png": "[encoded data removed]",
      "text/plain": [
       "<Figure size 800x600 with 1 Axes>"
      ]
     },
     "metadata": {},
     "output_type": "display_data"
    }
   ],
   "source": [
    "\n",
    "# Initialize and train the XGBoost classifier\n",
    "xgb_classifier = xgb.XGBClassifier(\n",
    "    n_estimators=200,          # Number of boosting rounds\n",
    "    max_depth=10,              # Maximum tree depth\n",
    "    learning_rate=0.05,        # Learning rate\n",
    "    subsample=0.8,             # Fraction of training samples per tree\n",
    "    colsample_bytree=0.8,      # Fraction of features per tree\n",
    "    colsample_bylevel=0.8,     # Fraction of features per level\n",
    "    reg_alpha=0.1,             # L1 regularization\n",
    "    reg_lambda=1,              # L2 regularization\n",
    "    scale_pos_weight=1,        # Adjust for class imbalance (set based on data)\n",
    "    n_jobs=-1,                 # Use all CPU cores\n",
    "    random_state=42            # For reproducibility\n",
    ")\n",
    "xgb_classifier.fit(\n",
    "    X_train_smenn, \n",
    "    y_train_smenn                  # Print training progress\n",
    ")\n",
    "\n",
    "# Make predictions using the model\n",
    "y_pred = xgb_classifier.predict(X_test_scaled)\n",
    "\n",
    "# Calculate evaluation metrics\n",
    "accuracy = accuracy_score(y_test, y_pred)\n",
    "kappa = cohen_kappa_score(y_test, y_pred)\n",
    "f1 = f1_score(y_test, y_pred)\n",
    "recall = recall_score(y_test, y_pred)\n",
    "precision = precision_score(y_test, y_pred)\n",
    "\n",
    "# Print the evaluation metrics\n",
    "print(\"Results With Oversampling Smote + ENN\")\n",
    "print(\"XGBoost Accuracy:\", round(accuracy,2))\n",
    "print(\"Kappa Score:\", round(kappa,2))\n",
    "print(\"F1 Score:\", round(f1,2))\n",
    "print(\"Recall:\", round(recall,2))\n",
    "print(\"Precision:\", round(precision,2))\n",
    "\n",
    "#print confusion matrix\n",
    "cm = confusion_matrix(y_test, y_pred)\n",
    "\n",
    "# Create a heatmap for the confusion matrix\n",
    "plt.figure(figsize=(8, 6))\n",
    "sns.set_theme(style=\"whitegrid\")\n",
    "sns.heatmap(cm, annot=True, fmt=\"d\", cmap=\"Blues\", cbar=False)\n",
    "plt.title('Confusion Matrix - XGBoost with SMOTE')\n",
    "plt.xlabel('Predicted')\n",
    "plt.ylabel('Actual')\n",
    "plt.show()"
   ]
  },
  {
   "cell_type": "code",
   "execution_count": 67,
   "metadata": {},
   "outputs": [
    {
     "name": "stdout",
     "output_type": "stream",
     "text": [
      "Before: Counter({0: 71155, 1: 9037})\n",
      "After SMOTE: Counter({0: 71155, 1: 71155})\n"
     ]
    }
   ],
   "source": [
    "from imblearn.over_sampling import SMOTE\n",
    "from collections import Counter\n",
    "\n",
    "# Apply SMOTE for oversampling\n",
    "smote = SMOTE(random_state=42)\n",
    "X_train_smote, y_train_smote = smote.fit_resample(X_train_scaled, y_train)\n",
    "\n",
    "# Check the class distribution after oversampling\n",
    "counter = Counter(y_train_smote)\n",
    "print('Before:', Counter(y_train))\n",
    "print('After SMOTE:', counter)\n"
   ]
  },
  {
   "cell_type": "code",
   "execution_count": 69,
   "metadata": {},
   "outputs": [
    {
     "name": "stdout",
     "output_type": "stream",
     "text": [
      "                        Feature  Importance\n",
      "112        number_inpatient_log    0.055054\n",
      "106              race_Caucasian    0.041414\n",
      "105                  race_Asian    0.040402\n",
      "35          admission_type_id_7    0.032600\n",
      "6              number_diagnoses    0.030035\n",
      "..                          ...         ...\n",
      "14                    glyburide    0.000000\n",
      "10               chlorpropamide    0.000000\n",
      "20                 troglitazone    0.000000\n",
      "38   discharge_disposition_id_3    0.000000\n",
      "47        admission_source_id_4    0.000000\n",
      "\n",
      "[113 rows x 2 columns]\n",
      "Results With Oversampling Smote + ENN\n",
      "XGBoost Accuracy: 0.5\n",
      "Kappa Score: 0.06\n",
      "F1 Score: 0.23\n",
      "Recall: 0.67\n",
      "Precision: 0.14\n"
     ]
    },
    {
     "data": {
      "image/png": "[encoded data removed]",
      "text/plain": [
       "<Figure size 800x600 with 1 Axes>"
      ]
     },
     "metadata": {},
     "output_type": "display_data"
    }
   ],
   "source": [
    "\n",
    "# Initialize and train the XGBoost classifier\n",
    "xgb_classifier = xgb.XGBClassifier(\n",
    "    n_estimators=200,          # Number of boosting rounds\n",
    "    max_depth=10,              # Maximum tree depth\n",
    "    learning_rate=0.05,        # Learning rate\n",
    "    subsample=0.8,             # Fraction of training samples per tree\n",
    "    colsample_bytree=0.8,      # Fraction of features per tree\n",
    "    colsample_bylevel=0.8,     # Fraction of features per level\n",
    "    reg_alpha=0.1,             # L1 regularization\n",
    "    reg_lambda=1,              # L2 regularization\n",
    "    scale_pos_weight=1,        # Adjust for class imbalance (set based on data)\n",
    "    n_jobs=-1,                 # Use all CPU cores\n",
    "    random_state=42            # For reproducibility\n",
    ")\n",
    "xgb_classifier.fit(\n",
    "    X_train_smote, \n",
    "    y_train_smote                  # Print training progress\n",
    ")\n",
    "\n",
    "# Make predictions using the model\n",
    "y_pred = xgb_classifier.predict(X_test_scaled)\n",
    "\n",
    "importance = xgb_classifier.feature_importances_\n",
    "feature_importance = pd.DataFrame({'Feature': X_train.columns, 'Importance': importance})\n",
    "print(feature_importance.sort_values(by='Importance', ascending=False))\n",
    "\n",
    "# Calculate evaluation metrics\n",
    "accuracy = accuracy_score(y_test, y_pred)\n",
    "kappa = cohen_kappa_score(y_test, y_pred)\n",
    "f1 = f1_score(y_test, y_pred)\n",
    "recall = recall_score(y_test, y_pred)\n",
    "precision = precision_score(y_test, y_pred)\n",
    "\n",
    "# Print the evaluation metrics\n",
    "print(\"Results With Oversampling Smote + ENN\")\n",
    "print(\"XGBoost Accuracy:\", round(accuracy,2))\n",
    "print(\"Kappa Score:\", round(kappa,2))\n",
    "print(\"F1 Score:\", round(f1,2))\n",
    "print(\"Recall:\", round(recall,2))\n",
    "print(\"Precision:\", round(precision,2))\n",
    "\n",
    "#print confusion matrix\n",
    "cm = confusion_matrix(y_test, y_pred)\n",
    "\n",
    "# Create a heatmap for the confusion matrix\n",
    "plt.figure(figsize=(8, 6))\n",
    "sns.set_theme(style=\"whitegrid\")\n",
    "sns.heatmap(cm, annot=True, fmt=\"d\", cmap=\"Blues\", cbar=False)\n",
    "plt.title('Confusion Matrix - XGBoost with SMOTE')\n",
    "plt.xlabel('Predicted')\n",
    "plt.ylabel('Actual')\n",
    "plt.show()"
   ]
  },
  {
   "cell_type": "code",
   "execution_count": null,
   "metadata": {},
   "outputs": [],
   "source": []
  },
  {
   "cell_type": "markdown",
   "metadata": {},
   "source": [
    "#### Bayesian Optimization "
   ]
  },
  {
   "cell_type": "markdown",
   "metadata": {},
   "source": [
    "4.3.1 Initialize domain space for range of values"
   ]
  },
  {
   "cell_type": "code",
   "execution_count": 76,
   "metadata": {},
   "outputs": [],
   "source": [
    "from hyperopt import STATUS_OK, Trials, fmin, hp, tpe\n",
    "\n",
    "\n",
    "space={'max_depth': hp.quniform(\"max_depth\", 3, 18, 1),\n",
    "        'gamma': hp.uniform ('gamma', 1,9),\n",
    "        'reg_alpha' : hp.quniform('reg_alpha', 40,180,1),\n",
    "        'reg_lambda' : hp.uniform('reg_lambda', 0,1),\n",
    "        'colsample_bytree' : hp.uniform('colsample_bytree', 0.5,1),\n",
    "        'min_child_weight' : hp.quniform('min_child_weight', 0, 10, 1),\n",
    "        'n_estimators': 180,\n",
    "        'seed': 0\n",
    "    }"
   ]
  },
  {
   "cell_type": "markdown",
   "metadata": {},
   "source": [
    "4.3.2 Define objective function"
   ]
  },
  {
   "cell_type": "code",
   "execution_count": 88,
   "metadata": {},
   "outputs": [],
   "source": [
    "def objective(space):\n",
    "    clf=xgb.XGBClassifier(\n",
    "                    n_estimators =space['n_estimators'], early_stopping_rounds=10,max_depth = int(space['max_depth']), gamma = space['gamma'],\n",
    "                    reg_alpha = int(space['reg_alpha']),min_child_weight=int(space['min_child_weight']),\n",
    "                    colsample_bytree=int(space['colsample_bytree']),eval_metric=\"auc\")\n",
    "    \n",
    "    evaluation = [( X_train_smenn, y_train_smenn), ( X_test_scaled, y_test)]\n",
    "    \n",
    "    clf.fit(X_train_smenn, y_train_smenn,\n",
    "            eval_set=evaluation, \n",
    "            verbose=False)\n",
    "    \n",
    "\n",
    "    pred = clf.predict(X_test_scaled)\n",
    "    accuracy = accuracy_score(y_test, pred>0.5)\n",
    "    print (\"SCORE:\", accuracy)\n",
    "    return {'loss': -accuracy, 'status': STATUS_OK }\n"
   ]
  },
  {
   "cell_type": "markdown",
   "metadata": {},
   "source": [
    "Optimization algorithm"
   ]
  },
  {
   "cell_type": "code",
   "execution_count": 89,
   "metadata": {},
   "outputs": [
    {
     "name": "stdout",
     "output_type": "stream",
     "text": [
      "SCORE:                                                 \n",
      "0.11152675943937354                                    \n",
      "SCORE:                                                                             \n",
      "0.12160207491645468                                                                \n",
      "SCORE:                                                                             \n",
      "0.1204050077310589                                                                 \n",
      "SCORE:                                                                             \n",
      "0.11855952915357375                                                                \n",
      "SCORE:                                                                             \n",
      "0.11152675943937354                                                                \n",
      "SCORE:                                                                             \n",
      "0.1204050077310589                                                                 \n",
      "SCORE:                                                                             \n",
      "0.11152675943937354                                                                \n",
      "SCORE:                                                                             \n",
      "0.11536734999251833                                                                \n",
      "SCORE:                                                                             \n",
      "0.1242455982842037                                                                 \n",
      "SCORE:                                                                             \n",
      "0.1204050077310589                                                                \n",
      "SCORE:                                                                             \n",
      "0.12394633148785475                                                                \n",
      "SCORE:                                                                             \n",
      "0.11037957005336925                                                                \n",
      "SCORE:                                                                             \n",
      "0.11187590403511397                                                                \n",
      "SCORE:                                                                             \n",
      "0.12100354132375679                                                                \n",
      "SCORE:                                                                             \n",
      "0.12100354132375679                                                                \n",
      "SCORE:                                                                             \n",
      "0.12678936605316973                                                                \n",
      "SCORE:                                                                              \n",
      "0.12339767569454836                                                                 \n",
      "SCORE:                                                                              \n",
      "0.11187590403511397                                                                 \n",
      "SCORE:                                                                              \n",
      "0.12304853109880792                                                                 \n",
      "SCORE:                                                                              \n",
      "0.12499376527507607                                                                 \n",
      "SCORE:                                                                              \n",
      "0.12678936605316973                                                                 \n",
      "SCORE:                                                                              \n",
      "0.1264402214574293                                                                  \n",
      "SCORE:                                                                              \n",
      "0.12678936605316973                                                                 \n",
      "SCORE:                                                                              \n",
      "0.12549254326899098                                                                 \n",
      "SCORE:                                                                              \n",
      "0.1128734600229438                                                                  \n",
      "SCORE:                                                                              \n",
      "0.12499376527507607                                                                 \n",
      "SCORE:                                                                              \n",
      "0.12489400967629308                                                                 \n",
      "SCORE:                                                                              \n",
      "0.12678936605316973                                                                 \n",
      "SCORE:                                                                              \n",
      "0.11352187141503317                                                                 \n",
      "SCORE:                                                                              \n",
      "0.12404608708663774                                                                 \n",
      "SCORE:                                                                              \n",
      "0.12549254326899098                                                                 \n",
      "SCORE:                                                                              \n",
      "0.12678936605316973                                                                 \n",
      "SCORE:                                                                              \n",
      "0.12120305252132275                                                                 \n",
      "SCORE:                                                                              \n",
      "0.11352187141503317                                                                 \n",
      "SCORE:                                                                              \n",
      "0.12444510948176966                                                                 \n",
      "SCORE:                                                                              \n",
      "0.12359718689211432                                                                 \n",
      "SCORE:                                                                              \n",
      "0.11127737044241608                                                                 \n",
      "SCORE:                                                                              \n",
      "0.12170183051523767                                                                 \n",
      "SCORE:                                                                              \n",
      "0.11756197316574393                                                                 \n",
      "SCORE:                                                                              \n",
      "0.1264402214574293                                                                  \n",
      "SCORE:                                                                              \n",
      "0.11152675943937354                                                                 \n",
      "SCORE:                                                                              \n",
      "0.11466906080103746                                                                 \n",
      "SCORE:                                                                              \n",
      "0.12384657588907177                                                                 \n",
      "SCORE:                                                                              \n",
      "0.12429547608359519                                                                 \n",
      "SCORE:                                                                              \n",
      "0.125293032071425                                                                   \n",
      "SCORE:                                                                              \n",
      "0.12115317472193127                                                                 \n",
      "SCORE:                                                                              \n",
      "0.12020549653349294                                                                 \n",
      "SCORE:                                                                              \n",
      "0.12160207491645468                                                                 \n",
      "SCORE:                                                                              \n",
      "0.12683924385256123                                                                 \n",
      "SCORE:                                                                              \n",
      "0.12444510948176966                                                                 \n",
      "SCORE:                                                                              \n",
      "0.11262407102598633                                                                 \n",
      "SCORE:                                                                              \n",
      "0.12374682029028879                                                                 \n",
      "SCORE:                                                                              \n",
      "0.12653997705621228                                                                 \n",
      "SCORE:                                                                              \n",
      "0.12299865329941644                                                                 \n",
      "SCORE:                                                                              \n",
      "0.1247942540775101                                                                  \n",
      "SCORE:                                                                              \n",
      "0.1253429098708165                                                                  \n",
      "SCORE:                                                                              \n",
      "0.11152675943937354                                                                 \n",
      "SCORE:                                                                              \n",
      "0.12663973265499526                                                                 \n",
      "SCORE:                                                                              \n",
      "0.12509352087385905                                                                 \n",
      "SCORE:                                                                              \n",
      "0.12090378572497382                                                                 \n",
      "SCORE:                                                                              \n",
      "0.12359718689211432                                                                 \n",
      "SCORE:                                                                              \n",
      "0.12384657588907177                                                                 \n",
      "SCORE:                                                                              \n",
      "0.12469449847872711                                                                 \n",
      "SCORE:                                                                              \n",
      "0.1242455982842037                                                                  \n",
      "SCORE:                                                                              \n",
      "0.12125293032071426                                                                 \n",
      "SCORE:                                                                              \n",
      "0.12678936605316973                                                                 \n",
      "SCORE:                                                                              \n",
      "0.12678936605316973                                                                 \n",
      "SCORE:                                                                              \n",
      "0.12519327647264203                                                                 \n",
      "SCORE:                                                                              \n",
      "0.1264402214574293                                                                  \n",
      "SCORE:                                                                              \n",
      "0.12678936605316973                                                                 \n",
      "SCORE:                                                                              \n",
      "0.12564217666716546                                                                 \n",
      "SCORE:                                                                              \n",
      "0.12663973265499526                                                                 \n",
      "SCORE:                                                                              \n",
      "0.12489400967629308                                                                 \n",
      "SCORE:                                                                              \n",
      "0.12404608708663774                                                                 \n",
      "SCORE:                                                                              \n",
      "0.1253429098708165                                                                  \n",
      "SCORE:                                                                              \n",
      "0.12519327647264203                                                                 \n",
      "SCORE:                                                                              \n",
      "0.12429547608359519                                                                 \n",
      "SCORE:                                                                              \n",
      "0.12025537433288443                                                                 \n",
      "SCORE:                                                                              \n",
      "0.12663973265499526                                                                 \n",
      "SCORE:                                                                              \n",
      "0.11037957005336925                                                                 \n",
      "SCORE:                                                                              \n",
      "0.12304853109880792                                                                 \n",
      "SCORE:                                                                              \n",
      "0.11257419322659484                                                                 \n",
      "SCORE:                                                                              \n",
      "0.11262407102598633                                                                 \n",
      "SCORE:                                                                              \n",
      "0.12394633148785475                                                                 \n",
      "SCORE:                                                                              \n",
      "0.12474437627811862                                                                 \n",
      "SCORE:                                                                              \n",
      "0.11127737044241608                                                                 \n",
      "SCORE:                                                                              \n",
      "0.11187590403511397                                                                 \n",
      "SCORE:                                                                              \n",
      "0.12374682029028879                                                                 \n",
      "SCORE:                                                                              \n",
      "0.12564217666716546                                                                 \n",
      "SCORE:                                                                              \n",
      "0.11352187141503317                                                                 \n",
      "SCORE:                                                                              \n",
      "0.12045488553045039                                                                 \n",
      "SCORE:                                                                              \n",
      "0.12484413187690159                                                                 \n",
      "SCORE:                                                                              \n",
      "0.12509352087385905                                                                 \n",
      "SCORE:                                                                              \n",
      "0.12389645368846326                                                                 \n",
      "SCORE:                                                                              \n",
      "0.12105341912314829                                                                 \n",
      "SCORE:                                                                              \n",
      "0.12683924385256123                                                                 \n",
      "SCORE:                                                                              \n",
      "0.12160207491645468                                                                 \n",
      "SCORE:                                                                              \n",
      "0.1264402214574293                                                                  \n",
      "SCORE:                                                                              \n",
      "0.12359718689211432                                                                 \n",
      "SCORE:                                                                              \n",
      "0.12444510948176966                                                                 \n",
      "100%|██████████| 100/100 [02:37<00:00,  1.58s/trial, best loss: -0.12683924385256123]\n"
     ]
    }
   ],
   "source": [
    "trials = Trials()\n",
    "\n",
    "best_hyperparams = fmin(fn = objective,\n",
    "                        space = space,\n",
    "                        algo = tpe.suggest,\n",
    "                        max_evals = 100,\n",
    "                        trials = trials)"
   ]
  },
  {
   "cell_type": "markdown",
   "metadata": {},
   "source": [
    "#### Best parameters"
   ]
  },
  {
   "cell_type": "code",
   "execution_count": 91,
   "metadata": {},
   "outputs": [
    {
     "name": "stdout",
     "output_type": "stream",
     "text": [
      "The best hyperparameters are :  \n",
      "\n",
      "{'colsample_bytree': 0.5241991813284231, 'gamma': 5.848919887025276, 'max_depth': 17.0, 'min_child_weight': 6.0, 'reg_alpha': 40.0, 'reg_lambda': 0.4168453849002615}\n"
     ]
    }
   ],
   "source": [
    "print(\"The best hyperparameters are : \",\"\\n\")\n",
    "print(best_hyperparams)"
   ]
  },
  {
   "cell_type": "code",
   "execution_count": 99,
   "metadata": {},
   "outputs": [],
   "source": [
    "best_model = xgb.XGBClassifier(\n",
    "    colsample_bytree= 0.5241991813284231,\n",
    "    gamma= 5.848919887025276,\n",
    "    max_depth = 17,\n",
    "    min_child_weight = 6.0,\n",
    "    reg_alpha = 40.0,\n",
    "    reg_lambda =  0.4168453849002615,\n",
    "    n_estimators=200,  # Keep n_estimators to what you used in tuning\n",
    "    random_state=42,\n",
    "    eval_metric=\"auc\",\n",
    "    learning_rate=0.05,           # Learning rate (keep as-is unless tuned)\n",
    "    subsample=0.8,\n",
    "    colsample_bylevel=0.8,\n",
    "    scale_pos_weight=1,           # Adjust for class imbalance (can tune further if needed)\n",
    "    n_jobs=-1\n",
    ")\n",
    "\n",
    "# Fit the model to the training data\n",
    "best_model.fit(X_train_smenn, y_train_smenn)\n",
    "\n",
    "# Make predictions on the test set\n",
    "y_pred = best_model.predict(X_test_scaled)\n"
   ]
  },
  {
   "cell_type": "code",
   "execution_count": 100,
   "metadata": {},
   "outputs": [
    {
     "name": "stdout",
     "output_type": "stream",
     "text": [
      "Results With Oversampling Smote + ENN\n",
      "XGBoost Accuracy: 0.31\n",
      "Kappa Score: 0.03\n",
      "F1 Score: 0.22\n",
      "Recall: 0.88\n",
      "Precision: 0.12\n"
     ]
    }
   ],
   "source": [
    "accuracy = accuracy_score(y_test, y_pred)\n",
    "kappa = cohen_kappa_score(y_test, y_pred)\n",
    "f1 = f1_score(y_test, y_pred)\n",
    "recall = recall_score(y_test, y_pred)\n",
    "precision = precision_score(y_test, y_pred)\n",
    "\n",
    "# Print the evaluation metrics\n",
    "print(\"Results With Oversampling Smote + ENN\")\n",
    "print(\"XGBoost Accuracy:\", round(accuracy,2))\n",
    "print(\"Kappa Score:\", round(kappa,2))\n",
    "print(\"F1 Score:\", round(f1,2))\n",
    "print(\"Recall:\", round(recall,2))\n",
    "print(\"Precision:\", round(precision,2))"
   ]
  },
  {
   "cell_type": "markdown",
   "metadata": {},
   "source": [
    "##### Changing threshold "
   ]
  }
 ],
 "metadata": {
  "kernelspec": {
   "display_name": "base",
   "language": "python",
   "name": "python3"
  },
  "language_info": {
   "codemirror_mode": {
    "name": "ipython",
    "version": 3
   },
   "file_extension": ".py",
   "mimetype": "text/x-python",
   "name": "python",
   "nbconvert_exporter": "python",
   "pygments_lexer": "ipython3",
   "version": "3.11.7"
  }
 },
 "nbformat": 4,
 "nbformat_minor": 2
}
